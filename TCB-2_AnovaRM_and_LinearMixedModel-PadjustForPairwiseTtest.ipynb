{
 "cells": [
  {
   "cell_type": "code",
   "execution_count": 2,
   "metadata": {},
   "outputs": [],
   "source": [
    "# Citation of the following great resource\n",
    "# https://www.statology.org/repeated-measures-anova-python/\n",
    "# https://jbhender.github.io/Stats506/F18/GP/Group16.html\n",
    "# https://www.statsmodels.org/devel/mixed_linear.html\n",
    "# Author: Li Zhou, 09242020"
   ]
  },
  {
   "cell_type": "code",
   "execution_count": 3,
   "metadata": {},
   "outputs": [],
   "source": [
    "#quick summary:\n",
    "#For AnovaRM interpretations:\n",
    "# the pharmacology affected GFP signal, lead to statistically significant differences in dosages (F(3, 9) = 15.5122, p = 0.0007)\n",
    "# the pharmacology did not significant  affected mcherry signal in dosages (F(3, 9) = 0.4240, p = 0.7405)\n",
    "\n",
    "#For Linear Mixed models interpretations:\n",
    "#GFP beta coef: -2.01, 95%CI[-2.95,-1.07]\n",
    "#mcherry beta coef: 0.08, 95%CI[-1.43, 1.59]"
   ]
  },
  {
   "cell_type": "code",
   "execution_count": 4,
   "metadata": {},
   "outputs": [
    {
     "name": "stdout",
     "output_type": "stream",
     "text": [
      "python version: 3.8.3 | packaged by conda-forge | (default, Jun  1 2020, 16:59:10) [MSC v.1916 64 bit (AMD64)]\n",
      "pandas version: 1.0.5\n",
      "numpy version: 1.18.5\n",
      "statsmodels: 0.11.1\n",
      "sklearn: 0.23.1\n",
      "scipy: 1.3.2\n"
     ]
    }
   ],
   "source": [
    "import numpy as np\n",
    "import pandas as pd\n",
    "import sys\n",
    "import statsmodels\n",
    "import sklearn\n",
    "import scipy\n",
    "print('python version:',sys.version)\n",
    "print(\"pandas version:\",pd.__version__)\n",
    "print(\"numpy version:\",np.__version__)\n",
    "print('statsmodels:',statsmodels.__version__)\n",
    "print('sklearn:',sklearn.__version__)\n",
    "print('scipy:',scipy.__version__)\n",
    "# python version: 3.8.3 | packaged by conda-forge | (default, Jun  1 2020, 16:59:10) [MSC v.1916 64 bit (AMD64)]\n",
    "# pandas version: 1.0.5\n",
    "# numpy version: 1.18.5\n",
    "# statsmodels: 0.11.1\n",
    "# sklearn: 0.23.1\n",
    "# scipy: 1.3.2"
   ]
  },
  {
   "cell_type": "code",
   "execution_count": 5,
   "metadata": {},
   "outputs": [],
   "source": [
    "from sklearn import preprocessing"
   ]
  },
  {
   "cell_type": "code",
   "execution_count": 6,
   "metadata": {
    "scrolled": true
   },
   "outputs": [
    {
     "data": {
      "text/html": [
       "<div>\n",
       "<style scoped>\n",
       "    .dataframe tbody tr th:only-of-type {\n",
       "        vertical-align: middle;\n",
       "    }\n",
       "\n",
       "    .dataframe tbody tr th {\n",
       "        vertical-align: top;\n",
       "    }\n",
       "\n",
       "    .dataframe thead th {\n",
       "        text-align: right;\n",
       "    }\n",
       "</style>\n",
       "<table border=\"1\" class=\"dataframe\">\n",
       "  <thead>\n",
       "    <tr style=\"text-align: right;\">\n",
       "      <th></th>\n",
       "      <th>patient</th>\n",
       "      <th>drug</th>\n",
       "      <th>response</th>\n",
       "    </tr>\n",
       "  </thead>\n",
       "  <tbody>\n",
       "    <tr>\n",
       "      <th>0</th>\n",
       "      <td>311GW22</td>\n",
       "      <td>Control1</td>\n",
       "      <td>0.803689</td>\n",
       "    </tr>\n",
       "    <tr>\n",
       "      <th>1</th>\n",
       "      <td>311GW22</td>\n",
       "      <td>Control2</td>\n",
       "      <td>1.196311</td>\n",
       "    </tr>\n",
       "    <tr>\n",
       "      <th>2</th>\n",
       "      <td>311GW22</td>\n",
       "      <td>TCB_0.1</td>\n",
       "      <td>1.482685</td>\n",
       "    </tr>\n",
       "    <tr>\n",
       "      <th>3</th>\n",
       "      <td>311GW22</td>\n",
       "      <td>TCB_1</td>\n",
       "      <td>2.254695</td>\n",
       "    </tr>\n",
       "    <tr>\n",
       "      <th>4</th>\n",
       "      <td>311GW22</td>\n",
       "      <td>TCB_10</td>\n",
       "      <td>1.454476</td>\n",
       "    </tr>\n",
       "  </tbody>\n",
       "</table>\n",
       "</div>"
      ],
      "text/plain": [
       "   patient      drug  response\n",
       "0  311GW22  Control1  0.803689\n",
       "1  311GW22  Control2  1.196311\n",
       "2  311GW22   TCB_0.1  1.482685\n",
       "3  311GW22     TCB_1  2.254695\n",
       "4  311GW22    TCB_10  1.454476"
      ]
     },
     "execution_count": 6,
     "metadata": {},
     "output_type": "execute_result"
    }
   ],
   "source": [
    "#import the data\n",
    "df_GFP = pd.read_csv('stats_norm_TCB2_rabies_pharmacology_03_27_2020.csv')\n",
    "# df_GFP['drug_scaled'] = preprocessing.scale(df_GFP.drug.values)\n",
    "\n",
    "df_GFP.head()"
   ]
  },
  {
   "cell_type": "code",
   "execution_count": 7,
   "metadata": {},
   "outputs": [
    {
     "name": "stdout",
     "output_type": "stream",
     "text": [
      "p = 0.352262\n",
      "The null hypothesis cannot be rejected\n",
      "Probably Gaussian or normal distribution\n"
     ]
    }
   ],
   "source": [
    "# Test if the sample differs from a normal distribution / Gaussian.\n",
    "from scipy import stats\n",
    "x = df_GFP['response']\n",
    "k2, p = stats.normaltest(x)\n",
    "alpha = 0.05\n",
    "print(\"p = {:g}\".format(p))\n",
    "\n",
    "if p < alpha:  # null hypothesis: samples comes from a normal distribution /Gaussian. \n",
    "    print(\"The null hypothesis can be rejected\")\n",
    "    print('Probably NOT Gaussian')\n",
    "else:\n",
    "    print(\"The null hypothesis cannot be rejected\")\n",
    "    print('Probably Gaussian or normal distribution')"
   ]
  },
  {
   "cell_type": "code",
   "execution_count": null,
   "metadata": {},
   "outputs": [],
   "source": [
    "#perform the repeated measures ANOVA"
   ]
  },
  {
   "cell_type": "code",
   "execution_count": 8,
   "metadata": {},
   "outputs": [
    {
     "name": "stdout",
     "output_type": "stream",
     "text": [
      "For GFP:\n",
      "              Anova\n",
      "==================================\n",
      "     F Value Num DF  Den DF Pr > F\n",
      "----------------------------------\n",
      "drug  2.5598 5.0000 15.0000 0.0725\n",
      "==================================\n",
      "\n",
      "_*_*_*_*_*_*_*_*_*_*_*_*_*_*_*_*_*_*_*_*\n",
      "_*_*_*_*_*_*_*_*_*_*_*_*_*_*_*_*_*_*_*_*\n"
     ]
    }
   ],
   "source": [
    "from statsmodels.stats.anova import AnovaRM\n",
    "#perform the repeated measures ANOVA\n",
    "print('For GFP:')\n",
    "print(AnovaRM(data=df_GFP, depvar='response',aggregate_func='mean', subject='patient', within=['drug']).fit())\n",
    "print('_*'*20)\n",
    "print('_*'*20)\n"
   ]
  },
  {
   "cell_type": "code",
   "execution_count": 28,
   "metadata": {},
   "outputs": [],
   "source": [
    "# Linear Mixed Effects Models in R and Python\n"
   ]
  },
  {
   "cell_type": "code",
   "execution_count": 109,
   "metadata": {},
   "outputs": [
    {
     "name": "stderr",
     "output_type": "stream",
     "text": [
      "C:\\Users\\zhouli\\Anaconda3\\envs\\scanpy_sfn-workshop\\lib\\site-packages\\statsmodels\\base\\model.py:567: ConvergenceWarning: Maximum Likelihood optimization failed to converge. Check mle_retvals\n",
      "  warn(\"Maximum Likelihood optimization failed to converge. \"\n",
      "C:\\Users\\zhouli\\Anaconda3\\envs\\scanpy_sfn-workshop\\lib\\site-packages\\statsmodels\\regression\\mixed_linear_model.py:2112: ConvergenceWarning: Retrying MixedLM optimization with lbfgs\n",
      "  warnings.warn(\n",
      "C:\\Users\\zhouli\\Anaconda3\\envs\\scanpy_sfn-workshop\\lib\\site-packages\\statsmodels\\base\\model.py:567: ConvergenceWarning: Maximum Likelihood optimization failed to converge. Check mle_retvals\n",
      "  warn(\"Maximum Likelihood optimization failed to converge. \"\n",
      "C:\\Users\\zhouli\\Anaconda3\\envs\\scanpy_sfn-workshop\\lib\\site-packages\\statsmodels\\regression\\mixed_linear_model.py:2112: ConvergenceWarning: Retrying MixedLM optimization with cg\n",
      "  warnings.warn(\n"
     ]
    },
    {
     "name": "stdout",
     "output_type": "stream",
     "text": [
      "the residual probably Gaussian distribution if P is large: 0.7207344174385071\n",
      "\n",
      "p value: Intercept                                      5.422128e-14\n",
      "drug[T.Control2]                               2.214103e-01\n",
      "drug[T.Serotonin_10]                           5.674053e-02\n",
      "drug[T.TCB_0.1]                                4.505326e-02\n",
      "drug[T.TCB_1]                                  1.982040e-06\n",
      "drug[T.TCB_10]                                 3.750588e-01\n",
      "patient Var                                    8.333288e-01\n",
      "patient x drug[T.Control2] Cov                 8.615665e-01\n",
      "drug[T.Control2] Var                           8.571811e-01\n",
      "patient x drug[T.Serotonin_10] Cov                      NaN\n",
      "drug[T.Control2] x drug[T.Serotonin_10] Cov    8.376363e-01\n",
      "drug[T.Serotonin_10] Var                                NaN\n",
      "patient x drug[T.TCB_0.1] Cov                  9.849230e-01\n",
      "drug[T.Control2] x drug[T.TCB_0.1] Cov         9.642738e-01\n",
      "drug[T.Serotonin_10] x drug[T.TCB_0.1] Cov     8.854787e-01\n",
      "drug[T.TCB_0.1] Var                            8.421277e-01\n",
      "patient x drug[T.TCB_1] Cov                    9.903772e-01\n",
      "drug[T.Control2] x drug[T.TCB_1] Cov           9.878114e-01\n",
      "drug[T.Serotonin_10] x drug[T.TCB_1] Cov       9.821877e-01\n",
      "drug[T.TCB_0.1] x drug[T.TCB_1] Cov            8.982736e-01\n",
      "drug[T.TCB_1] Var                              9.364950e-01\n",
      "patient x drug[T.TCB_10] Cov                   9.513389e-01\n",
      "drug[T.Control2] x drug[T.TCB_10] Cov          9.625918e-01\n",
      "drug[T.Serotonin_10] x drug[T.TCB_10] Cov      9.256384e-01\n",
      "drug[T.TCB_0.1] x drug[T.TCB_10] Cov           9.312804e-01\n",
      "drug[T.TCB_1] x drug[T.TCB_10] Cov             9.645860e-01\n",
      "drug[T.TCB_10] Var                             7.350203e-01\n",
      "dtype: float64\n"
     ]
    },
    {
     "name": "stderr",
     "output_type": "stream",
     "text": [
      "C:\\Users\\zhouli\\Anaconda3\\envs\\scanpy_sfn-workshop\\lib\\site-packages\\statsmodels\\base\\model.py:567: ConvergenceWarning: Maximum Likelihood optimization failed to converge. Check mle_retvals\n",
      "  warn(\"Maximum Likelihood optimization failed to converge. \"\n",
      "C:\\Users\\zhouli\\Anaconda3\\envs\\scanpy_sfn-workshop\\lib\\site-packages\\statsmodels\\regression\\mixed_linear_model.py:2118: ConvergenceWarning: MixedLM optimization failed, trying a different optimizer may help.\n",
      "  warnings.warn(msg, ConvergenceWarning)\n",
      "C:\\Users\\zhouli\\Anaconda3\\envs\\scanpy_sfn-workshop\\lib\\site-packages\\statsmodels\\regression\\mixed_linear_model.py:2130: ConvergenceWarning: Gradient optimization failed, |grad| = 3.186523\n",
      "  warnings.warn(msg, ConvergenceWarning)\n",
      "C:\\Users\\zhouli\\Anaconda3\\envs\\scanpy_sfn-workshop\\lib\\site-packages\\statsmodels\\regression\\mixed_linear_model.py:2149: ConvergenceWarning: The MLE may be on the boundary of the parameter space.\n",
      "  warnings.warn(msg, ConvergenceWarning)\n",
      "C:\\Users\\zhouli\\Anaconda3\\envs\\scanpy_sfn-workshop\\lib\\site-packages\\statsmodels\\regression\\mixed_linear_model.py:2170: ConvergenceWarning: The Hessian matrix at the estimated parameter values is not positive definite.\n",
      "  warnings.warn(msg, ConvergenceWarning)\n",
      "C:\\Users\\zhouli\\Anaconda3\\envs\\scanpy_sfn-workshop\\lib\\site-packages\\statsmodels\\base\\model.py:1354: RuntimeWarning: invalid value encountered in sqrt\n",
      "  bse_ = np.sqrt(np.diag(self.cov_params()))\n",
      "C:\\Users\\zhouli\\Anaconda3\\envs\\scanpy_sfn-workshop\\lib\\site-packages\\scipy\\stats\\_distn_infrastructure.py:901: RuntimeWarning: invalid value encountered in greater\n",
      "  return (a < x) & (x < b)\n",
      "C:\\Users\\zhouli\\Anaconda3\\envs\\scanpy_sfn-workshop\\lib\\site-packages\\scipy\\stats\\_distn_infrastructure.py:901: RuntimeWarning: invalid value encountered in less\n",
      "  return (a < x) & (x < b)\n",
      "C:\\Users\\zhouli\\Anaconda3\\envs\\scanpy_sfn-workshop\\lib\\site-packages\\scipy\\stats\\_distn_infrastructure.py:1892: RuntimeWarning: invalid value encountered in less_equal\n",
      "  cond2 = cond0 & (x <= _a)\n"
     ]
    },
    {
     "data": {
      "text/html": [
       "<table class=\"simpletable\">\n",
       "<tr>\n",
       "       <td>Model:</td>       <td>MixedLM</td> <td>Dependent Variable:</td> <td>response</td>\n",
       "</tr>\n",
       "<tr>\n",
       "  <td>No. Observations:</td>   <td>24</td>          <td>Method:</td>         <td>REML</td>  \n",
       "</tr>\n",
       "<tr>\n",
       "     <td>No. Groups:</td>       <td>4</td>          <td>Scale:</td>         <td>0.0476</td> \n",
       "</tr>\n",
       "<tr>\n",
       "  <td>Min. group size:</td>     <td>6</td>      <td>Log-Likelihood:</td>   <td>-10.9066</td>\n",
       "</tr>\n",
       "<tr>\n",
       "  <td>Max. group size:</td>     <td>6</td>        <td>Converged:</td>         <td>No</td>   \n",
       "</tr>\n",
       "<tr>\n",
       "  <td>Mean group size:</td>    <td>6.0</td>            <td></td>               <td></td>    \n",
       "</tr>\n",
       "</table>\n",
       "<table class=\"simpletable\">\n",
       "<tr>\n",
       "                       <td></td>                        <th>Coef.</th> <th>Std.Err.</th>   <th>z</th>   <th>P>|z|</th> <th>[0.025</th> <th>0.975]</th>\n",
       "</tr>\n",
       "<tr>\n",
       "  <th>Intercept</th>                                    <td>0.895</td>   <td>0.119</td>  <td>7.521</td> <td>0.000</td>  <td>0.662</td>  <td>1.128</td>\n",
       "</tr>\n",
       "<tr>\n",
       "  <th>drug[T.Control2]</th>                             <td>0.210</td>   <td>0.172</td>  <td>1.223</td> <td>0.221</td> <td>-0.126</td>  <td>0.546</td>\n",
       "</tr>\n",
       "<tr>\n",
       "  <th>drug[T.Serotonin_10]</th>                         <td>0.498</td>   <td>0.262</td>  <td>1.905</td> <td>0.057</td> <td>-0.014</td>  <td>1.011</td>\n",
       "</tr>\n",
       "<tr>\n",
       "  <th>drug[T.TCB_0.1]</th>                              <td>0.698</td>   <td>0.348</td>  <td>2.004</td> <td>0.045</td>  <td>0.015</td>  <td>1.381</td>\n",
       "</tr>\n",
       "<tr>\n",
       "  <th>drug[T.TCB_1]</th>                                <td>0.959</td>   <td>0.202</td>  <td>4.755</td> <td>0.000</td>  <td>0.564</td>  <td>1.355</td>\n",
       "</tr>\n",
       "<tr>\n",
       "  <th>drug[T.TCB_10]</th>                               <td>0.168</td>   <td>0.189</td>  <td>0.887</td> <td>0.375</td> <td>-0.203</td>  <td>0.538</td>\n",
       "</tr>\n",
       "<tr>\n",
       "  <th>patient Var</th>                                  <td>0.009</td>   <td>0.196</td>    <td></td>      <td></td>       <td></td>       <td></td>   \n",
       "</tr>\n",
       "<tr>\n",
       "  <th>patient x drug[T.Control2] Cov</th>               <td>0.011</td>   <td>0.289</td>    <td></td>      <td></td>       <td></td>       <td></td>   \n",
       "</tr>\n",
       "<tr>\n",
       "  <th>drug[T.Control2] Var</th>                         <td>0.022</td>   <td>0.572</td>    <td></td>      <td></td>       <td></td>       <td></td>   \n",
       "</tr>\n",
       "<tr>\n",
       "  <th>patient x drug[T.Serotonin_10] Cov</th>          <td>-0.004</td>     <td></td>       <td></td>      <td></td>       <td></td>       <td></td>   \n",
       "</tr>\n",
       "<tr>\n",
       "  <th>drug[T.Control2] x drug[T.Serotonin_10] Cov</th> <td>-0.019</td>   <td>0.429</td>    <td></td>      <td></td>       <td></td>       <td></td>   \n",
       "</tr>\n",
       "<tr>\n",
       "  <th>drug[T.Serotonin_10] Var</th>                     <td>0.178</td>     <td></td>       <td></td>      <td></td>       <td></td>       <td></td>   \n",
       "</tr>\n",
       "<tr>\n",
       "  <th>patient x drug[T.TCB_0.1] Cov</th>                <td>0.009</td>   <td>2.216</td>    <td></td>      <td></td>       <td></td>       <td></td>   \n",
       "</tr>\n",
       "<tr>\n",
       "  <th>drug[T.Control2] x drug[T.TCB_0.1] Cov</th>       <td>0.027</td>   <td>2.725</td>    <td></td>      <td></td>       <td></td>       <td></td>   \n",
       "</tr>\n",
       "<tr>\n",
       "  <th>drug[T.Serotonin_10] x drug[T.TCB_0.1] Cov</th>  <td>-0.154</td>   <td>4.896</td>    <td></td>      <td></td>       <td></td>       <td></td>   \n",
       "</tr>\n",
       "<tr>\n",
       "  <th>drug[T.TCB_0.1] Var</th>                          <td>0.390</td>   <td>8.975</td>    <td></td>      <td></td>       <td></td>       <td></td>   \n",
       "</tr>\n",
       "<tr>\n",
       "  <th>patient x drug[T.TCB_1] Cov</th>                  <td>0.006</td>   <td>2.117</td>    <td></td>      <td></td>       <td></td>       <td></td>   \n",
       "</tr>\n",
       "<tr>\n",
       "  <th>drug[T.Control2] x drug[T.TCB_1] Cov</th>         <td>0.009</td>   <td>2.584</td>    <td></td>      <td></td>       <td></td>       <td></td>   \n",
       "</tr>\n",
       "<tr>\n",
       "  <th>drug[T.Serotonin_10] x drug[T.TCB_1] Cov</th>     <td>0.022</td>   <td>4.550</td>    <td></td>      <td></td>       <td></td>       <td></td>   \n",
       "</tr>\n",
       "<tr>\n",
       "  <th>drug[T.TCB_0.1] x drug[T.TCB_1] Cov</th>         <td>-0.105</td>   <td>3.749</td>    <td></td>      <td></td>       <td></td>       <td></td>   \n",
       "</tr>\n",
       "<tr>\n",
       "  <th>drug[T.TCB_1] Var</th>                            <td>0.068</td>   <td>3.884</td>    <td></td>      <td></td>       <td></td>       <td></td>   \n",
       "</tr>\n",
       "<tr>\n",
       "  <th>patient x drug[T.TCB_10] Cov</th>                <td>-0.004</td>   <td>0.269</td>    <td></td>      <td></td>       <td></td>       <td></td>   \n",
       "</tr>\n",
       "<tr>\n",
       "  <th>drug[T.Control2] x drug[T.TCB_10] Cov</th>       <td>-0.005</td>   <td>0.446</td>    <td></td>      <td></td>       <td></td>       <td></td>   \n",
       "</tr>\n",
       "<tr>\n",
       "  <th>drug[T.Serotonin_10] x drug[T.TCB_10] Cov</th>    <td>0.015</td>   <td>0.729</td>    <td></td>      <td></td>       <td></td>       <td></td>   \n",
       "</tr>\n",
       "<tr>\n",
       "  <th>drug[T.TCB_0.1] x drug[T.TCB_10] Cov</th>         <td>0.034</td>   <td>1.784</td>    <td></td>      <td></td>       <td></td>       <td></td>   \n",
       "</tr>\n",
       "<tr>\n",
       "  <th>drug[T.TCB_1] x drug[T.TCB_10] Cov</th>          <td>-0.015</td>   <td>1.564</td>    <td></td>      <td></td>       <td></td>       <td></td>   \n",
       "</tr>\n",
       "<tr>\n",
       "  <th>drug[T.TCB_10] Var</th>                           <td>0.047</td>   <td>0.642</td>    <td></td>      <td></td>       <td></td>       <td></td>   \n",
       "</tr>\n",
       "</table>"
      ],
      "text/plain": [
       "<class 'statsmodels.iolib.summary2.Summary'>\n",
       "\"\"\"\n",
       "                        Mixed Linear Model Regression Results\n",
       "=====================================================================================\n",
       "Model:                       MixedLM           Dependent Variable:           response\n",
       "No. Observations:            24                Method:                       REML    \n",
       "No. Groups:                  4                 Scale:                        0.0476  \n",
       "Min. group size:             6                 Log-Likelihood:               -10.9066\n",
       "Max. group size:             6                 Converged:                    No      \n",
       "Mean group size:             6.0                                                     \n",
       "-------------------------------------------------------------------------------------\n",
       "                                            Coef.  Std.Err.   z   P>|z| [0.025 0.975]\n",
       "-------------------------------------------------------------------------------------\n",
       "Intercept                                    0.895    0.119 7.521 0.000  0.662  1.128\n",
       "drug[T.Control2]                             0.210    0.172 1.223 0.221 -0.126  0.546\n",
       "drug[T.Serotonin_10]                         0.498    0.262 1.905 0.057 -0.014  1.011\n",
       "drug[T.TCB_0.1]                              0.698    0.348 2.004 0.045  0.015  1.381\n",
       "drug[T.TCB_1]                                0.959    0.202 4.755 0.000  0.564  1.355\n",
       "drug[T.TCB_10]                               0.168    0.189 0.887 0.375 -0.203  0.538\n",
       "patient Var                                  0.009    0.196                          \n",
       "patient x drug[T.Control2] Cov               0.011    0.289                          \n",
       "drug[T.Control2] Var                         0.022    0.572                          \n",
       "patient x drug[T.Serotonin_10] Cov          -0.004                                   \n",
       "drug[T.Control2] x drug[T.Serotonin_10] Cov -0.019    0.429                          \n",
       "drug[T.Serotonin_10] Var                     0.178                                   \n",
       "patient x drug[T.TCB_0.1] Cov                0.009    2.216                          \n",
       "drug[T.Control2] x drug[T.TCB_0.1] Cov       0.027    2.725                          \n",
       "drug[T.Serotonin_10] x drug[T.TCB_0.1] Cov  -0.154    4.896                          \n",
       "drug[T.TCB_0.1] Var                          0.390    8.975                          \n",
       "patient x drug[T.TCB_1] Cov                  0.006    2.117                          \n",
       "drug[T.Control2] x drug[T.TCB_1] Cov         0.009    2.584                          \n",
       "drug[T.Serotonin_10] x drug[T.TCB_1] Cov     0.022    4.550                          \n",
       "drug[T.TCB_0.1] x drug[T.TCB_1] Cov         -0.105    3.749                          \n",
       "drug[T.TCB_1] Var                            0.068    3.884                          \n",
       "patient x drug[T.TCB_10] Cov                -0.004    0.269                          \n",
       "drug[T.Control2] x drug[T.TCB_10] Cov       -0.005    0.446                          \n",
       "drug[T.Serotonin_10] x drug[T.TCB_10] Cov    0.015    0.729                          \n",
       "drug[T.TCB_0.1] x drug[T.TCB_10] Cov         0.034    1.784                          \n",
       "drug[T.TCB_1] x drug[T.TCB_10] Cov          -0.015    1.564                          \n",
       "drug[T.TCB_10] Var                           0.047    0.642                          \n",
       "=====================================================================================\n",
       "\n",
       "\"\"\""
      ]
     },
     "execution_count": 109,
     "metadata": {},
     "output_type": "execute_result"
    }
   ],
   "source": [
    "import statsmodels.api as sm\n",
    "import statsmodels.formula.api as smf\n",
    "\n",
    "#fit the model\n",
    "mixed = smf.mixedlm(\"response ~ drug\", df_GFP, groups='patient',re_formula=\"~drug\") #\n",
    "mixed_fit = mixed.fit()\n",
    "#print the summary\n",
    "# print(mixed_fit.summary())\n",
    "print('the residual probably Gaussian distribution if P is large:',stats.shapiro(mixed_fit.resid)[1])\n",
    "print('\\np value:',mixed_fit.pvalues)\n",
    "mixed_fit.summary()"
   ]
  },
  {
   "cell_type": "code",
   "execution_count": null,
   "metadata": {},
   "outputs": [],
   "source": [
    "# TCB_1, beta coef: 0.959, 95%CI[0.564,1.355],p = 1.98E-6"
   ]
  },
  {
   "cell_type": "code",
   "execution_count": 11,
   "metadata": {},
   "outputs": [],
   "source": [
    "from statsmodels.formula.api import ols\n",
    "\n",
    "# res = ols(\"np.log(Days+1) ~ C(Weight) + C(Duration)\", data).fit()\n",
    "res = ols(\"response ~ drug\", df_GFP).fit()\n",
    "pw = res.t_test_pairwise(\"drug\")\n",
    "# pw.result_frame.head()"
   ]
  },
  {
   "cell_type": "code",
   "execution_count": 12,
   "metadata": {},
   "outputs": [
    {
     "name": "stdout",
     "output_type": "stream",
     "text": [
      "Index(['Control2-Control1', 'Sero_10-Control1', 'TCB_0.1-Control1',\n",
      "       'TCB_1-Control1', 'TCB_10-Control1'],\n",
      "      dtype='object')\n"
     ]
    },
    {
     "data": {
      "text/plain": [
       "(array([False, False, False,  True, False]),\n",
       " array([0.97094258, 0.48841494, 0.1720671 , 0.03089357, 0.98918117]),\n",
       " 0.010206218313011495,\n",
       " 0.01)"
      ]
     },
     "execution_count": 12,
     "metadata": {},
     "output_type": "execute_result"
    }
   ],
   "source": [
    "#ccorretion for control 1\n",
    "from statsmodels.stats.multitest import multipletests\n",
    "pvals = pw.result_frame['P>|t|'].values[0:5]\n",
    "print(pw.result_frame['P>|t|'].index[0:5])\n",
    "multipletests(pvals, alpha=0.05, method='sidak', is_sorted=False, returnsorted=False)#holm-sidak"
   ]
  },
  {
   "cell_type": "code",
   "execution_count": 14,
   "metadata": {},
   "outputs": [
    {
     "data": {
      "image/png": "[encoded data removed]",
      "text/plain": [
       "<Figure size 720x360 with 1 Axes>"
      ]
     },
     "metadata": {},
     "output_type": "display_data"
    }
   ],
   "source": [
    "#plotting the figure\n",
    "import pandas as pd\n",
    "import numpy as np\n",
    "import matplotlib.pyplot as plt\n",
    "import seaborn as sns\n",
    "df = pd.read_csv('stats_norm_TCB2_rabies_pharmacology_03_27_2020.csv')#,index_col=0\n",
    "df.head(1)\n",
    "# sns.set(font_scale=2)\n",
    "sns.set_style(\"white\",{'ytick.left':True,'xtick.bottom': True})\n",
    "sns.set_context(\"poster\") #paper, notebook, talk, and poster\n",
    "g=sns.catplot(data=df,x='drug',y='response',kind='box',height=5,aspect=2);\n",
    "g=sns.lineplot(data=df, x='drug',y='response',\n",
    "               style = 'patient',sort=False,legend=False,markers=True, dashes=True,\n",
    "               color = 'grey',sizes=1)#hue='patient',\n",
    "# g=sns.swarmplot(data=df,x='drug',y='response',linewidth=1,color='white',edgecolor='black',size=7)\n",
    "g.set(ylim=[0,3],xlabel='',ylabel='Normalized circuit module intensity')\n",
    "\n",
    "plt.savefig(\"TCB2.dosage09242020dpi110.png\",dpi=110,bbox_inches='tight')"
   ]
  }
 ],
 "metadata": {
  "kernelspec": {
   "display_name": "Python 3",
   "language": "python",
   "name": "python3"
  },
  "language_info": {
   "codemirror_mode": {
    "name": "ipython",
    "version": 3
   },
   "file_extension": ".py",
   "mimetype": "text/x-python",
   "name": "python",
   "nbconvert_exporter": "python",
   "pygments_lexer": "ipython3",
   "version": "3.8.3"
  }
 },
 "nbformat": 4,
 "nbformat_minor": 2
}
