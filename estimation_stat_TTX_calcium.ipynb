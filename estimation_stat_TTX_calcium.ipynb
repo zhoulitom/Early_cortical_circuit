{
 "cells": [
  {
   "cell_type": "code",
   "execution_count": 15,
   "metadata": {
    "scrolled": false
   },
   "outputs": [
    {
     "name": "stdout",
     "output_type": "stream",
     "text": [
      "We're using DABEST v0.3.0\n"
     ]
    },
    {
     "data": {
      "text/html": [
       "<div>\n",
       "<style scoped>\n",
       "    .dataframe tbody tr th:only-of-type {\n",
       "        vertical-align: middle;\n",
       "    }\n",
       "\n",
       "    .dataframe tbody tr th {\n",
       "        vertical-align: top;\n",
       "    }\n",
       "\n",
       "    .dataframe thead th {\n",
       "        text-align: right;\n",
       "    }\n",
       "</style>\n",
       "<table border=\"1\" class=\"dataframe\">\n",
       "  <thead>\n",
       "    <tr style=\"text-align: right;\">\n",
       "      <th></th>\n",
       "      <th>Baseline</th>\n",
       "      <th>TTX</th>\n",
       "    </tr>\n",
       "  </thead>\n",
       "  <tbody>\n",
       "    <tr>\n",
       "      <th>0</th>\n",
       "      <td>5.700000</td>\n",
       "      <td>1.200000</td>\n",
       "    </tr>\n",
       "    <tr>\n",
       "      <th>1</th>\n",
       "      <td>5.052632</td>\n",
       "      <td>0.947368</td>\n",
       "    </tr>\n",
       "    <tr>\n",
       "      <th>2</th>\n",
       "      <td>0.632911</td>\n",
       "      <td>0.240506</td>\n",
       "    </tr>\n",
       "    <tr>\n",
       "      <th>3</th>\n",
       "      <td>1.525338</td>\n",
       "      <td>0.511824</td>\n",
       "    </tr>\n",
       "  </tbody>\n",
       "</table>\n",
       "</div>"
      ],
      "text/plain": [
       "   Baseline       TTX\n",
       "0  5.700000  1.200000\n",
       "1  5.052632  0.947368\n",
       "2  0.632911  0.240506\n",
       "3  1.525338  0.511824"
      ]
     },
     "execution_count": 15,
     "metadata": {},
     "output_type": "execute_result"
    }
   ],
   "source": [
    "import matplotlib.pyplot as plt\n",
    "import numpy as np\n",
    "import pandas as pd\n",
    "import dabest\n",
    "\n",
    "print(\"We're using DABEST v{}\".format(dabest.__version__))\n",
    "\n",
    "df = pd.read_csv('TTX_calcium_im_Lizhou082020.csv')#, index_col = 0\n",
    "#print mean and std of IN and EX\n",
    "# dfin = df[df['cell_type']=='IN']\n",
    "# dfex = df[df['cell_type']=='EX']\n",
    "# print('IN:\\n',dfin.describe(),'\\n','-_'*50)\n",
    "# print('EX:\\n',dfex.describe())\n",
    "df.head()\n"
   ]
  },
  {
   "cell_type": "code",
   "execution_count": 16,
   "metadata": {
    "scrolled": true
   },
   "outputs": [
    {
     "data": {
      "text/html": [
       "<div>\n",
       "<style scoped>\n",
       "    .dataframe tbody tr th:only-of-type {\n",
       "        vertical-align: middle;\n",
       "    }\n",
       "\n",
       "    .dataframe tbody tr th {\n",
       "        vertical-align: top;\n",
       "    }\n",
       "\n",
       "    .dataframe thead th {\n",
       "        text-align: right;\n",
       "    }\n",
       "</style>\n",
       "<table border=\"1\" class=\"dataframe\">\n",
       "  <thead>\n",
       "    <tr style=\"text-align: right;\">\n",
       "      <th></th>\n",
       "      <th>Baseline</th>\n",
       "      <th>TTX</th>\n",
       "      <th>id</th>\n",
       "    </tr>\n",
       "  </thead>\n",
       "  <tbody>\n",
       "    <tr>\n",
       "      <th>0</th>\n",
       "      <td>5.700000</td>\n",
       "      <td>1.200000</td>\n",
       "      <td>0</td>\n",
       "    </tr>\n",
       "    <tr>\n",
       "      <th>1</th>\n",
       "      <td>5.052632</td>\n",
       "      <td>0.947368</td>\n",
       "      <td>1</td>\n",
       "    </tr>\n",
       "    <tr>\n",
       "      <th>2</th>\n",
       "      <td>0.632911</td>\n",
       "      <td>0.240506</td>\n",
       "      <td>2</td>\n",
       "    </tr>\n",
       "    <tr>\n",
       "      <th>3</th>\n",
       "      <td>1.525338</td>\n",
       "      <td>0.511824</td>\n",
       "      <td>3</td>\n",
       "    </tr>\n",
       "  </tbody>\n",
       "</table>\n",
       "</div>"
      ],
      "text/plain": [
       "   Baseline       TTX  id\n",
       "0  5.700000  1.200000   0\n",
       "1  5.052632  0.947368   1\n",
       "2  0.632911  0.240506   2\n",
       "3  1.525338  0.511824   3"
      ]
     },
     "execution_count": 16,
     "metadata": {},
     "output_type": "execute_result"
    }
   ],
   "source": [
    "df_freq = df\n",
    "df_freq['id']=df_freq.index\n",
    "df_freq.head()"
   ]
  },
  {
   "cell_type": "code",
   "execution_count": 17,
   "metadata": {},
   "outputs": [
    {
     "data": {
      "text/html": [
       "<div>\n",
       "<style scoped>\n",
       "    .dataframe tbody tr th:only-of-type {\n",
       "        vertical-align: middle;\n",
       "    }\n",
       "\n",
       "    .dataframe tbody tr th {\n",
       "        vertical-align: top;\n",
       "    }\n",
       "\n",
       "    .dataframe thead th {\n",
       "        text-align: right;\n",
       "    }\n",
       "</style>\n",
       "<table border=\"1\" class=\"dataframe\">\n",
       "  <thead>\n",
       "    <tr style=\"text-align: right;\">\n",
       "      <th></th>\n",
       "      <th>Baseline</th>\n",
       "      <th>TTX</th>\n",
       "      <th>id</th>\n",
       "    </tr>\n",
       "  </thead>\n",
       "  <tbody>\n",
       "    <tr>\n",
       "      <th>count</th>\n",
       "      <td>4.000000</td>\n",
       "      <td>4.000000</td>\n",
       "      <td>4.000000</td>\n",
       "    </tr>\n",
       "    <tr>\n",
       "      <th>mean</th>\n",
       "      <td>3.227720</td>\n",
       "      <td>0.724925</td>\n",
       "      <td>1.500000</td>\n",
       "    </tr>\n",
       "    <tr>\n",
       "      <th>std</th>\n",
       "      <td>2.521482</td>\n",
       "      <td>0.430214</td>\n",
       "      <td>1.290994</td>\n",
       "    </tr>\n",
       "    <tr>\n",
       "      <th>min</th>\n",
       "      <td>0.632911</td>\n",
       "      <td>0.240506</td>\n",
       "      <td>0.000000</td>\n",
       "    </tr>\n",
       "    <tr>\n",
       "      <th>25%</th>\n",
       "      <td>1.302231</td>\n",
       "      <td>0.443994</td>\n",
       "      <td>0.750000</td>\n",
       "    </tr>\n",
       "    <tr>\n",
       "      <th>50%</th>\n",
       "      <td>3.288985</td>\n",
       "      <td>0.729596</td>\n",
       "      <td>1.500000</td>\n",
       "    </tr>\n",
       "    <tr>\n",
       "      <th>75%</th>\n",
       "      <td>5.214474</td>\n",
       "      <td>1.010526</td>\n",
       "      <td>2.250000</td>\n",
       "    </tr>\n",
       "    <tr>\n",
       "      <th>max</th>\n",
       "      <td>5.700000</td>\n",
       "      <td>1.200000</td>\n",
       "      <td>3.000000</td>\n",
       "    </tr>\n",
       "  </tbody>\n",
       "</table>\n",
       "</div>"
      ],
      "text/plain": [
       "       Baseline       TTX        id\n",
       "count  4.000000  4.000000  4.000000\n",
       "mean   3.227720  0.724925  1.500000\n",
       "std    2.521482  0.430214  1.290994\n",
       "min    0.632911  0.240506  0.000000\n",
       "25%    1.302231  0.443994  0.750000\n",
       "50%    3.288985  0.729596  1.500000\n",
       "75%    5.214474  1.010526  2.250000\n",
       "max    5.700000  1.200000  3.000000"
      ]
     },
     "execution_count": 17,
     "metadata": {},
     "output_type": "execute_result"
    }
   ],
   "source": [
    "df_freq.describe()"
   ]
  },
  {
   "cell_type": "code",
   "execution_count": 45,
   "metadata": {},
   "outputs": [
    {
     "name": "stderr",
     "output_type": "stream",
     "text": [
      "C:\\Users\\zhouli\\Anaconda3\\lib\\site-packages\\scipy\\stats\\morestats.py:2863: UserWarning: Sample size too small for normal approximation.\n",
      "  warnings.warn(\"Sample size too small for normal approximation.\")\n",
      "C:\\Users\\zhouli\\Anaconda3\\lib\\site-packages\\matplotlib\\figure.py:2366: UserWarning: This figure includes Axes that are not compatible with tight_layout, so results might be incorrect.\n",
      "  warnings.warn(\"This figure includes Axes that are not compatible \"\n"
     ]
    },
    {
     "name": "stdout",
     "output_type": "stream",
     "text": [
      "DABEST v0.3.0\n",
      "=============\n",
      "             \n",
      "Good afternoon!\n",
      "The current time is Wed Sep  9 13:50:19 2020.\n",
      "\n",
      "The paired mean difference between Baseline and TTX is -2.5 [95%CI -4.4, -0.703].\n",
      "The p-value of the two-sided permutation t-test is 0.0. \n",
      "\n",
      "5000 bootstrap samples were taken; the confidence interval is bias-corrected and accelerated.\n",
      "The p-value(s) reported are the likelihood(s) of observing the effect size(s),\n",
      "if the null hypothesis of zero difference is true.\n",
      "For each p-value, 5000 reshuffles of the control and test labels were performed.\n",
      "\n",
      "To get the results of all valid statistical tests, use `.mean_diff.statistical_tests`\n",
      "    control test  control_N  test_N      effect_size  is_paired  difference  \\\n",
      "0  Baseline  TTX          4       4  mean difference       True   -2.502796   \n",
      "\n",
      "   ci   bca_low  bca_high  pvalue_permutation  pvalue_wilcoxon  \\\n",
      "0  95 -4.401316 -0.702959                 0.0         0.067889   \n",
      "\n",
      "   statistic_wilcoxon  pvalue_paired_students_t  statistic_paired_students_t  \n",
      "0                 0.0                  0.097288                     2.383756  \n"
     ]
    },
    {
     "name": "stderr",
     "output_type": "stream",
     "text": [
      "C:\\Users\\zhouli\\Anaconda3\\lib\\site-packages\\matplotlib\\figure.py:2366: UserWarning: This figure includes Axes that are not compatible with tight_layout, so results might be incorrect.\n",
      "  warnings.warn(\"This figure includes Axes that are not compatible \"\n"
     ]
    },
    {
     "data": {
      "image/png": "[encoded data removed]",
      "text/plain": [
       "<Figure size 400x350 with 2 Axes>"
      ]
     },
     "metadata": {
      "needs_background": "light"
     },
     "output_type": "display_data"
    }
   ],
   "source": [
    "plt.rcParams.update({'font.size': 14})\n",
    "\n",
    "two_groups = dabest.load(df_freq, idx=(\"Baseline\", \"TTX\"),paired=True,id_col='id')\n",
    "print(two_groups.mean_diff)\n",
    "print(two_groups.mean_diff.statistical_tests)\n",
    "two_groups.mean_diff.plot(swarm_label=\"Calcium events number (5 min)\",contrast_label=\"Mean difference distribution\", float_contrast=True,\n",
    "                           group_summaries = 'mean_sd',slopegraph_kwargs={'linewidth':1, 'alpha':0.9},show_pairs=False,\n",
    "                         group_summaries_offset=0.1,group_summary_kwargs = None,\n",
    "                          fig_size=(4,3.5),swarm_ylim=(0,6),raw_marker_size=9, es_marker_size=10)#group_summaries = 'mean_sd',,swarm_ylim=(0,20),contrast_ylim =(,6)group_summary_kwargs = {'lw':2, 'alpha':1, 'zorder':1},\n",
    "\n",
    "plt.savefig('Calcium_TTX_300s_dpi130.png',bbox_inches='tight',dpi=130)\n"
   ]
  },
  {
   "cell_type": "code",
   "execution_count": 49,
   "metadata": {},
   "outputs": [
    {
     "data": {
      "text/html": [
       "<div>\n",
       "<style scoped>\n",
       "    .dataframe tbody tr th:only-of-type {\n",
       "        vertical-align: middle;\n",
       "    }\n",
       "\n",
       "    .dataframe tbody tr th {\n",
       "        vertical-align: top;\n",
       "    }\n",
       "\n",
       "    .dataframe thead th {\n",
       "        text-align: right;\n",
       "    }\n",
       "</style>\n",
       "<table border=\"1\" class=\"dataframe\">\n",
       "  <thead>\n",
       "    <tr style=\"text-align: right;\">\n",
       "      <th></th>\n",
       "      <th>Baseline</th>\n",
       "      <th>TCB</th>\n",
       "      <th>id</th>\n",
       "    </tr>\n",
       "  </thead>\n",
       "  <tbody>\n",
       "    <tr>\n",
       "      <th>0</th>\n",
       "      <td>0</td>\n",
       "      <td>2</td>\n",
       "      <td>0</td>\n",
       "    </tr>\n",
       "    <tr>\n",
       "      <th>1</th>\n",
       "      <td>1</td>\n",
       "      <td>3</td>\n",
       "      <td>1</td>\n",
       "    </tr>\n",
       "  </tbody>\n",
       "</table>\n",
       "</div>"
      ],
      "text/plain": [
       "   Baseline  TCB  id\n",
       "0         0    2   0\n",
       "1         1    3   1"
      ]
     },
     "execution_count": 49,
     "metadata": {},
     "output_type": "execute_result"
    }
   ],
   "source": [
    "df1=pd.DataFrame()\n",
    "df1['Baseline']=[0,1]\n",
    "df1['TCB']=[2,3]\n",
    "df1['id']=[0,1]\n",
    "df1"
   ]
  },
  {
   "cell_type": "code",
   "execution_count": 52,
   "metadata": {},
   "outputs": [
    {
     "name": "stderr",
     "output_type": "stream",
     "text": [
      "C:\\Users\\zhouli\\Anaconda3\\lib\\site-packages\\dabest\\_classes.py:792: UserWarning: The lower limit of the BCa interval cannot be computed. It is set to the effect size itself. All bootstrap values were likely all the same.\n",
      "  stacklevel=0)\n",
      "C:\\Users\\zhouli\\Anaconda3\\lib\\site-packages\\dabest\\_classes.py:797: UserWarning: The upper limit of the BCa interval cannot be computed. It is set to the effect size itself. All bootstrap values were likely all the same.\n",
      "  stacklevel=0)\n"
     ]
    },
    {
     "name": "stdout",
     "output_type": "stream",
     "text": [
      "DABEST v0.3.0\n",
      "=============\n",
      "             \n",
      "Good afternoon!\n",
      "The current time is Wed Sep  9 14:06:26 2020.\n",
      "\n",
      "The paired mean difference between Baseline and TCB is 2.0 [95%CI 2.0, 2.0].\n",
      "The p-value of the two-sided permutation t-test is 0.0. \n",
      "\n",
      "5000 bootstrap samples were taken; the confidence interval is bias-corrected and accelerated.\n",
      "The p-value(s) reported are the likelihood(s) of observing the effect size(s),\n",
      "if the null hypothesis of zero difference is true.\n",
      "For each p-value, 5000 reshuffles of the control and test labels were performed.\n",
      "\n",
      "To get the results of all valid statistical tests, use `.mean_diff.statistical_tests`\n",
      "    control test  control_N  test_N      effect_size  is_paired  difference  \\\n",
      "0  Baseline  TCB          2       2  mean difference       True         2.0   \n",
      "\n",
      "   ci  bca_low  bca_high  pvalue_permutation  pvalue_wilcoxon  \\\n",
      "0  95      2.0       2.0                 0.0         0.157299   \n",
      "\n",
      "   statistic_wilcoxon  pvalue_paired_students_t  statistic_paired_students_t  \n",
      "0                 0.0                       0.0                         -inf  \n"
     ]
    },
    {
     "name": "stderr",
     "output_type": "stream",
     "text": [
      "C:\\Users\\zhouli\\Anaconda3\\lib\\site-packages\\scipy\\stats\\morestats.py:2863: UserWarning: Sample size too small for normal approximation.\n",
      "  warnings.warn(\"Sample size too small for normal approximation.\")\n",
      "C:\\Users\\zhouli\\Anaconda3\\lib\\site-packages\\matplotlib\\cbook\\__init__.py:1725: UserWarning: Saw kwargs ['lw', 'linewidth'] which are all aliases for 'linewidth'.  Kept value from 'linewidth'\n",
      "  seen=seen, canon=canonical, used=seen[-1]))\n",
      "C:\\Users\\zhouli\\Anaconda3\\lib\\site-packages\\matplotlib\\cbook\\__init__.py:1725: UserWarning: Saw kwargs ['lw', 'linewidth'] which are all aliases for 'linewidth'.  Kept value from 'linewidth'\n",
      "  seen=seen, canon=canonical, used=seen[-1]))\n",
      "C:\\Users\\zhouli\\Anaconda3\\lib\\site-packages\\matplotlib\\figure.py:2366: UserWarning: This figure includes Axes that are not compatible with tight_layout, so results might be incorrect.\n",
      "  warnings.warn(\"This figure includes Axes that are not compatible \"\n"
     ]
    },
    {
     "data": {
      "image/png": "[encoded data removed]",
      "text/plain": [
       "<Figure size 400x350 with 2 Axes>"
      ]
     },
     "execution_count": 52,
     "metadata": {},
     "output_type": "execute_result"
    },
    {
     "name": "stderr",
     "output_type": "stream",
     "text": [
      "C:\\Users\\zhouli\\Anaconda3\\lib\\site-packages\\matplotlib\\figure.py:2366: UserWarning: This figure includes Axes that are not compatible with tight_layout, so results might be incorrect.\n",
      "  warnings.warn(\"This figure includes Axes that are not compatible \"\n"
     ]
    },
    {
     "data": {
      "image/png": "[encoded data removed]",
      "text/plain": [
       "<Figure size 400x350 with 2 Axes>"
      ]
     },
     "metadata": {
      "needs_background": "light"
     },
     "output_type": "display_data"
    }
   ],
   "source": [
    "two_groups = dabest.load(df1, idx=(\"Baseline\", \"TCB\"),paired=True,id_col='id')\n",
    "print(two_groups.mean_diff)\n",
    "print(two_groups.mean_diff.statistical_tests)\n",
    "two_groups.mean_diff.plot(swarm_label=\"Calcium events number (5 min)\",contrast_label=\"Mean difference distribution\", float_contrast=True,\n",
    "                           group_summaries = 'mean_sd',slopegraph_kwargs={'linewidth':1, 'alpha':0.9},show_pairs=True,\n",
    "                         group_summaries_offset=0.1,group_summary_kwargs = None,\n",
    "                          fig_size=(4,3.5),raw_marker_size=9, es_marker_size=10)#group_summaries = 'mean_sd',,swarm_ylim=(0,20),contrast_ylim =(,6)group_summary_kwargs = {'lw':2, 'alpha':1, 'zorder':1},\n",
    "\n",
    "# plt.savefig('Calcium_TTX_300s_dpi130.png',bbox_inches='tight',dpi=130)\n"
   ]
  },
  {
   "cell_type": "code",
   "execution_count": null,
   "metadata": {},
   "outputs": [],
   "source": []
  },
  {
   "cell_type": "code",
   "execution_count": 85,
   "metadata": {},
   "outputs": [
    {
     "data": {
      "text/html": [
       "<div>\n",
       "<style scoped>\n",
       "    .dataframe tbody tr th:only-of-type {\n",
       "        vertical-align: middle;\n",
       "    }\n",
       "\n",
       "    .dataframe tbody tr th {\n",
       "        vertical-align: top;\n",
       "    }\n",
       "\n",
       "    .dataframe thead th {\n",
       "        text-align: right;\n",
       "    }\n",
       "</style>\n",
       "<table border=\"1\" class=\"dataframe\">\n",
       "  <thead>\n",
       "    <tr style=\"text-align: right;\">\n",
       "      <th></th>\n",
       "      <th>Baseline</th>\n",
       "      <th>TTX</th>\n",
       "    </tr>\n",
       "  </thead>\n",
       "  <tbody>\n",
       "    <tr>\n",
       "      <th>0</th>\n",
       "      <td>4</td>\n",
       "      <td>0</td>\n",
       "    </tr>\n",
       "    <tr>\n",
       "      <th>1</th>\n",
       "      <td>1</td>\n",
       "      <td>4</td>\n",
       "    </tr>\n",
       "    <tr>\n",
       "      <th>2</th>\n",
       "      <td>3</td>\n",
       "      <td>0</td>\n",
       "    </tr>\n",
       "    <tr>\n",
       "      <th>3</th>\n",
       "      <td>1</td>\n",
       "      <td>0</td>\n",
       "    </tr>\n",
       "    <tr>\n",
       "      <th>4</th>\n",
       "      <td>7</td>\n",
       "      <td>0</td>\n",
       "    </tr>\n",
       "  </tbody>\n",
       "</table>\n",
       "</div>"
      ],
      "text/plain": [
       "   Baseline  TTX\n",
       "0         4    0\n",
       "1         1    4\n",
       "2         3    0\n",
       "3         1    0\n",
       "4         7    0"
      ]
     },
     "execution_count": 85,
     "metadata": {},
     "output_type": "execute_result"
    }
   ],
   "source": [
    "df1=pd.DataFrame()\n",
    "df2=pd.DataFrame()\n",
    "df1['Baseline']=df[df['variable']=='before']['value'][:]\n",
    "df2['TTX']=df[df['variable']=='after']['value'][:]\n",
    "df1.reset_index(drop=True, inplace=True)\n",
    "df2.reset_index(drop=True, inplace=True)\n",
    "# dfvrest = dfvrest1.append(dfvrest2, ignore_index=True)\n",
    "# pd.concat([df1, df2], axis=1)\n",
    "df_freq = pd.merge(df1,df2,left_index=True, right_index=True,)#ignore_index=True\n",
    "df_freq.head()"
   ]
  },
  {
   "cell_type": "code",
   "execution_count": null,
   "metadata": {},
   "outputs": [],
   "source": []
  },
  {
   "cell_type": "code",
   "execution_count": 86,
   "metadata": {},
   "outputs": [],
   "source": [
    "df_freq['id']=df_freq.index"
   ]
  },
  {
   "cell_type": "code",
   "execution_count": 96,
   "metadata": {},
   "outputs": [
    {
     "name": "stdout",
     "output_type": "stream",
     "text": [
      "DABEST v0.3.0\n",
      "=============\n",
      "             \n",
      "Good afternoon!\n",
      "The current time is Thu Aug  6 15:26:02 2020.\n",
      "\n",
      "The paired mean difference between Baseline and TTX is -4.5 [95%CI -5.05, -4.05].\n",
      "The p-value of the two-sided permutation t-test is 0.0. \n",
      "\n",
      "5000 bootstrap samples were taken; the confidence interval is bias-corrected and accelerated.\n",
      "The p-value(s) reported are the likelihood(s) of observing the effect size(s),\n",
      "if the null hypothesis of zero difference is true.\n",
      "For each p-value, 5000 reshuffles of the control and test labels were performed.\n",
      "\n",
      "To get the results of all valid statistical tests, use `.mean_diff.statistical_tests`\n",
      "    control test  control_N  test_N      effect_size  is_paired  difference  \\\n",
      "0  Baseline  TTX        222     222  mean difference       True   -4.504505   \n",
      "\n",
      "   ci   bca_low  bca_high  pvalue_permutation  pvalue_wilcoxon  \\\n",
      "0  95 -5.045045 -4.045045                 0.0     1.990933e-33   \n",
      "\n",
      "   statistic_wilcoxon  pvalue_paired_students_t  statistic_paired_students_t  \n",
      "0               329.5              2.639270e-45                    18.032371  \n"
     ]
    },
    {
     "data": {
      "image/png": "[encoded data removed]",
      "text/plain": [
       "<Figure size 400x800 with 2 Axes>"
      ]
     },
     "metadata": {
      "needs_background": "light"
     },
     "output_type": "display_data"
    }
   ],
   "source": [
    "plt.rcParams.update({'font.size': 18})\n",
    "\n",
    "two_groups = dabest.load(df_freq, idx=(\"Baseline\", \"TTX\"),paired=True,id_col='id')\n",
    "print(two_groups.mean_diff)\n",
    "print(two_groups.mean_diff.statistical_tests)\n",
    "two_groups.mean_diff.plot(swarm_label=\"Calcium events number\",contrast_label=\"Mean difference distribution\", float_contrast=False,\n",
    "                          contrast_ylim =(-6,0), group_summaries = 'mean_sd',slopegraph_kwargs={'linewidth':1, 'alpha':0.1},\n",
    "                         group_summaries_offset=0.1,group_summary_kwargs = {'lw':2, 'alpha':1, 'zorder':3},\n",
    "                          fig_size=(4,8))#group_summaries = 'mean_sd',,swarm_ylim=(0,20)\n",
    "\n",
    "plt.savefig('Calcium numbertest.png',bbox_inches='tight',dpi=300)"
   ]
  },
  {
   "cell_type": "code",
   "execution_count": 97,
   "metadata": {},
   "outputs": [
    {
     "data": {
      "text/html": [
       "<div>\n",
       "<style scoped>\n",
       "    .dataframe tbody tr th:only-of-type {\n",
       "        vertical-align: middle;\n",
       "    }\n",
       "\n",
       "    .dataframe tbody tr th {\n",
       "        vertical-align: top;\n",
       "    }\n",
       "\n",
       "    .dataframe thead th {\n",
       "        text-align: right;\n",
       "    }\n",
       "</style>\n",
       "<table border=\"1\" class=\"dataframe\">\n",
       "  <thead>\n",
       "    <tr style=\"text-align: right;\">\n",
       "      <th></th>\n",
       "      <th>Baseline</th>\n",
       "      <th>TTX</th>\n",
       "      <th>id</th>\n",
       "    </tr>\n",
       "  </thead>\n",
       "  <tbody>\n",
       "    <tr>\n",
       "      <th>count</th>\n",
       "      <td>222.000000</td>\n",
       "      <td>222.000000</td>\n",
       "      <td>222.000000</td>\n",
       "    </tr>\n",
       "    <tr>\n",
       "      <th>mean</th>\n",
       "      <td>5.734234</td>\n",
       "      <td>1.229730</td>\n",
       "      <td>110.500000</td>\n",
       "    </tr>\n",
       "    <tr>\n",
       "      <th>std</th>\n",
       "      <td>4.112292</td>\n",
       "      <td>1.882623</td>\n",
       "      <td>64.230055</td>\n",
       "    </tr>\n",
       "    <tr>\n",
       "      <th>min</th>\n",
       "      <td>0.000000</td>\n",
       "      <td>0.000000</td>\n",
       "      <td>0.000000</td>\n",
       "    </tr>\n",
       "    <tr>\n",
       "      <th>25%</th>\n",
       "      <td>3.000000</td>\n",
       "      <td>0.000000</td>\n",
       "      <td>55.250000</td>\n",
       "    </tr>\n",
       "    <tr>\n",
       "      <th>50%</th>\n",
       "      <td>5.000000</td>\n",
       "      <td>0.000000</td>\n",
       "      <td>110.500000</td>\n",
       "    </tr>\n",
       "    <tr>\n",
       "      <th>75%</th>\n",
       "      <td>8.000000</td>\n",
       "      <td>2.000000</td>\n",
       "      <td>165.750000</td>\n",
       "    </tr>\n",
       "    <tr>\n",
       "      <th>max</th>\n",
       "      <td>27.000000</td>\n",
       "      <td>11.000000</td>\n",
       "      <td>221.000000</td>\n",
       "    </tr>\n",
       "  </tbody>\n",
       "</table>\n",
       "</div>"
      ],
      "text/plain": [
       "         Baseline         TTX          id\n",
       "count  222.000000  222.000000  222.000000\n",
       "mean     5.734234    1.229730  110.500000\n",
       "std      4.112292    1.882623   64.230055\n",
       "min      0.000000    0.000000    0.000000\n",
       "25%      3.000000    0.000000   55.250000\n",
       "50%      5.000000    0.000000  110.500000\n",
       "75%      8.000000    2.000000  165.750000\n",
       "max     27.000000   11.000000  221.000000"
      ]
     },
     "execution_count": 97,
     "metadata": {},
     "output_type": "execute_result"
    }
   ],
   "source": [
    "df_freq.describe()"
   ]
  },
  {
   "cell_type": "code",
   "execution_count": null,
   "metadata": {},
   "outputs": [],
   "source": []
  },
  {
   "cell_type": "code",
   "execution_count": null,
   "metadata": {},
   "outputs": [],
   "source": []
  },
  {
   "cell_type": "code",
   "execution_count": null,
   "metadata": {},
   "outputs": [],
   "source": []
  },
  {
   "cell_type": "code",
   "execution_count": 79,
   "metadata": {},
   "outputs": [],
   "source": [
    "#create a new dataframe, contains wide format data\n",
    "dfvrest = pd.DataFrame()\n",
    "dfvrest1 = pd.DataFrame()\n",
    "dfvrest2 = pd.DataFrame()\n",
    "# dfvrest['EX']=\n",
    "dfvrest1['EX']=df[df['cell_type']=='EX']['Vrest'][:]\n",
    "dfvrest2['IN']=df[df['cell_type']=='IN']['Vrest'][:]\n",
    "dfvrest = dfvrest1.append(dfvrest2, ignore_index=True)\n",
    "dfvrest\n",
    "\n",
    "two_groups = dabest.load(dfvrest, idx=(\"EX\", \"IN\"),paired=False)"
   ]
  },
  {
   "cell_type": "code",
   "execution_count": 80,
   "metadata": {},
   "outputs": [
    {
     "data": {
      "text/plain": [
       "DABEST v0.3.0\n",
       "=============\n",
       "             \n",
       "Good evening!\n",
       "The current time is Wed Jun 10 12:26:31 2020.\n",
       "\n",
       "The unpaired mean difference between EX and IN is -0.0101 [95%CI -14.2, 10.6].\n",
       "The p-value of the two-sided permutation t-test is 1.0. \n",
       "\n",
       "5000 bootstrap samples were taken; the confidence interval is bias-corrected and accelerated.\n",
       "The p-value(s) reported are the likelihood(s) of observing the effect size(s),\n",
       "if the null hypothesis of zero difference is true.\n",
       "For each p-value, 5000 reshuffles of the control and test labels were performed.\n",
       "\n",
       "To get the results of all valid statistical tests, use `.mean_diff.statistical_tests`"
      ]
     },
     "execution_count": 80,
     "metadata": {},
     "output_type": "execute_result"
    }
   ],
   "source": [
    "two_groups.mean_diff"
   ]
  },
  {
   "cell_type": "code",
   "execution_count": 81,
   "metadata": {},
   "outputs": [
    {
     "data": {
      "text/html": [
       "<div>\n",
       "<style scoped>\n",
       "    .dataframe tbody tr th:only-of-type {\n",
       "        vertical-align: middle;\n",
       "    }\n",
       "\n",
       "    .dataframe tbody tr th {\n",
       "        vertical-align: top;\n",
       "    }\n",
       "\n",
       "    .dataframe thead th {\n",
       "        text-align: right;\n",
       "    }\n",
       "</style>\n",
       "<table border=\"1\" class=\"dataframe\">\n",
       "  <thead>\n",
       "    <tr style=\"text-align: right;\">\n",
       "      <th></th>\n",
       "      <th>control</th>\n",
       "      <th>test</th>\n",
       "      <th>control_N</th>\n",
       "      <th>test_N</th>\n",
       "      <th>effect_size</th>\n",
       "      <th>is_paired</th>\n",
       "      <th>difference</th>\n",
       "      <th>ci</th>\n",
       "      <th>bca_low</th>\n",
       "      <th>bca_high</th>\n",
       "      <th>pvalue_permutation</th>\n",
       "      <th>pvalue_welch</th>\n",
       "      <th>statistic_welch</th>\n",
       "      <th>pvalue_students_t</th>\n",
       "      <th>statistic_students_t</th>\n",
       "      <th>pvalue_mann_whitney</th>\n",
       "      <th>statistic_mann_whitney</th>\n",
       "    </tr>\n",
       "  </thead>\n",
       "  <tbody>\n",
       "    <tr>\n",
       "      <th>0</th>\n",
       "      <td>EX</td>\n",
       "      <td>IN</td>\n",
       "      <td>16</td>\n",
       "      <td>9</td>\n",
       "      <td>mean difference</td>\n",
       "      <td>False</td>\n",
       "      <td>-0.010054</td>\n",
       "      <td>95</td>\n",
       "      <td>-14.245293</td>\n",
       "      <td>10.641238</td>\n",
       "      <td>0.9996</td>\n",
       "      <td>0.998814</td>\n",
       "      <td>0.001514</td>\n",
       "      <td>0.998713</td>\n",
       "      <td>0.00163</td>\n",
       "      <td>0.671125</td>\n",
       "      <td>64.0</td>\n",
       "    </tr>\n",
       "  </tbody>\n",
       "</table>\n",
       "</div>"
      ],
      "text/plain": [
       "  control test  control_N  test_N      effect_size  is_paired  difference  ci  \\\n",
       "0      EX   IN         16       9  mean difference      False   -0.010054  95   \n",
       "\n",
       "     bca_low   bca_high  pvalue_permutation  pvalue_welch  statistic_welch  \\\n",
       "0 -14.245293  10.641238              0.9996      0.998814         0.001514   \n",
       "\n",
       "   pvalue_students_t  statistic_students_t  pvalue_mann_whitney  \\\n",
       "0           0.998713               0.00163             0.671125   \n",
       "\n",
       "   statistic_mann_whitney  \n",
       "0                    64.0  "
      ]
     },
     "execution_count": 81,
     "metadata": {},
     "output_type": "execute_result"
    }
   ],
   "source": [
    "two_groups.mean_diff.statistical_tests"
   ]
  },
  {
   "cell_type": "code",
   "execution_count": 88,
   "metadata": {},
   "outputs": [
    {
     "data": {
      "image/png": "[encoded data removed]",
      "text/plain": [
       "<Figure size 500x400 with 2 Axes>"
      ]
     },
     "metadata": {
      "needs_background": "light"
     },
     "output_type": "display_data"
    }
   ],
   "source": [
    "import matplotlib.pyplot as plt\n",
    "two_groups.mean_diff.plot(swarm_label=\"Resting membrane potential (mV)\",contrast_label=\"Mean differentce distribution (mV)\")\n",
    "plt.savefig('VrestDiff_estimation.png')"
   ]
  },
  {
   "cell_type": "code",
   "execution_count": 96,
   "metadata": {},
   "outputs": [],
   "source": [
    "dfmohm = pd.DataFrame()\n",
    "dfmohm1 = pd.DataFrame()\n",
    "dfmohm2 = pd.DataFrame()\n",
    "# dfvrest['EX']=\n",
    "dfmohm1['EX']=df[df['cell_type']=='EX']['Mohm(v)']\n",
    "dfmohm2['IN']=df[df['cell_type']=='IN']['Mohm(v)']\n",
    "dfmohm = dfmohm1.append(dfmohm2, ignore_index=True)\n",
    "\n",
    "\n",
    "two_groups = dabest.load(dfmohm, idx=(\"EX\", \"IN\"),paired=False)\n"
   ]
  },
  {
   "cell_type": "code",
   "execution_count": 97,
   "metadata": {
    "scrolled": true
   },
   "outputs": [
    {
     "data": {
      "text/plain": [
       "DABEST v0.3.0\n",
       "=============\n",
       "             \n",
       "Good evening!\n",
       "The current time is Wed Jun 10 12:40:29 2020.\n",
       "\n",
       "The unpaired mean difference between EX and IN is 1.82e+03 [95%CI -1.2e+03, 5.85e+03].\n",
       "The p-value of the two-sided permutation t-test is 0.314. \n",
       "\n",
       "5000 bootstrap samples were taken; the confidence interval is bias-corrected and accelerated.\n",
       "The p-value(s) reported are the likelihood(s) of observing the effect size(s),\n",
       "if the null hypothesis of zero difference is true.\n",
       "For each p-value, 5000 reshuffles of the control and test labels were performed.\n",
       "\n",
       "To get the results of all valid statistical tests, use `.mean_diff.statistical_tests`"
      ]
     },
     "execution_count": 97,
     "metadata": {},
     "output_type": "execute_result"
    }
   ],
   "source": [
    "two_groups.mean_diff"
   ]
  },
  {
   "cell_type": "code",
   "execution_count": 99,
   "metadata": {},
   "outputs": [
    {
     "data": {
      "text/html": [
       "<div>\n",
       "<style scoped>\n",
       "    .dataframe tbody tr th:only-of-type {\n",
       "        vertical-align: middle;\n",
       "    }\n",
       "\n",
       "    .dataframe tbody tr th {\n",
       "        vertical-align: top;\n",
       "    }\n",
       "\n",
       "    .dataframe thead th {\n",
       "        text-align: right;\n",
       "    }\n",
       "</style>\n",
       "<table border=\"1\" class=\"dataframe\">\n",
       "  <thead>\n",
       "    <tr style=\"text-align: right;\">\n",
       "      <th></th>\n",
       "      <th>control</th>\n",
       "      <th>test</th>\n",
       "      <th>control_N</th>\n",
       "      <th>test_N</th>\n",
       "      <th>effect_size</th>\n",
       "      <th>is_paired</th>\n",
       "      <th>difference</th>\n",
       "      <th>ci</th>\n",
       "      <th>bca_low</th>\n",
       "      <th>bca_high</th>\n",
       "      <th>pvalue_permutation</th>\n",
       "      <th>pvalue_welch</th>\n",
       "      <th>statistic_welch</th>\n",
       "      <th>pvalue_students_t</th>\n",
       "      <th>statistic_students_t</th>\n",
       "      <th>pvalue_mann_whitney</th>\n",
       "      <th>statistic_mann_whitney</th>\n",
       "    </tr>\n",
       "  </thead>\n",
       "  <tbody>\n",
       "    <tr>\n",
       "      <th>0</th>\n",
       "      <td>EX</td>\n",
       "      <td>IN</td>\n",
       "      <td>16</td>\n",
       "      <td>10</td>\n",
       "      <td>mean difference</td>\n",
       "      <td>False</td>\n",
       "      <td>1815.975853</td>\n",
       "      <td>95</td>\n",
       "      <td>-1198.468795</td>\n",
       "      <td>5853.181169</td>\n",
       "      <td>0.3136</td>\n",
       "      <td>0.349196</td>\n",
       "      <td>-0.966673</td>\n",
       "      <td>0.307046</td>\n",
       "      <td>-1.04365</td>\n",
       "      <td>0.476767</td>\n",
       "      <td>66.0</td>\n",
       "    </tr>\n",
       "  </tbody>\n",
       "</table>\n",
       "</div>"
      ],
      "text/plain": [
       "  control test  control_N  test_N      effect_size  is_paired   difference  \\\n",
       "0      EX   IN         16      10  mean difference      False  1815.975853   \n",
       "\n",
       "   ci      bca_low     bca_high  pvalue_permutation  pvalue_welch  \\\n",
       "0  95 -1198.468795  5853.181169              0.3136      0.349196   \n",
       "\n",
       "   statistic_welch  pvalue_students_t  statistic_students_t  \\\n",
       "0        -0.966673           0.307046              -1.04365   \n",
       "\n",
       "   pvalue_mann_whitney  statistic_mann_whitney  \n",
       "0             0.476767                    66.0  "
      ]
     },
     "execution_count": 99,
     "metadata": {},
     "output_type": "execute_result"
    }
   ],
   "source": [
    "two_groups.mean_diff.statistical_tests"
   ]
  },
  {
   "cell_type": "code",
   "execution_count": 98,
   "metadata": {},
   "outputs": [
    {
     "data": {
      "image/png": "[encoded data removed]",
      "text/plain": [
       "<Figure size 500x400 with 2 Axes>"
      ]
     },
     "metadata": {
      "needs_background": "light"
     },
     "output_type": "display_data"
    }
   ],
   "source": [
    "two_groups.mean_diff.plot(swarm_label=\"Membrane resistence (mohm)\",contrast_label=\"Mean differentce distribution (mohm)\")\n",
    "plt.savefig('mohmDiff_estimation.png')"
   ]
  }
 ],
 "metadata": {
  "kernelspec": {
   "display_name": "Python 3",
   "language": "python",
   "name": "python3"
  },
  "language_info": {
   "codemirror_mode": {
    "name": "ipython",
    "version": 3
   },
   "file_extension": ".py",
   "mimetype": "text/x-python",
   "name": "python",
   "nbconvert_exporter": "python",
   "pygments_lexer": "ipython3",
   "version": "3.7.1"
  }
 },
 "nbformat": 4,
 "nbformat_minor": 2
}
