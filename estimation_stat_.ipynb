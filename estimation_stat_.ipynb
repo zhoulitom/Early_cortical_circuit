{
 "cells": [
  {
   "cell_type": "code",
   "execution_count": 28,
   "metadata": {},
   "outputs": [
    {
     "name": "stdout",
     "output_type": "stream",
     "text": [
      "IN:\n",
      "               gw  enlargements      Vrest       Mohm(v)  Mohm(current)\n",
      "count  11.000000     11.000000   9.000000     10.000000      10.000000\n",
      "mean   20.545455      1.318182 -26.488398   6530.131577    6926.418700\n",
      "std     2.114882      1.965613  17.235640   5162.766481    6218.308976\n",
      "min    18.000000     -1.500000 -62.897999   1659.269092    1150.335000\n",
      "25%    19.000000      0.500000 -35.320744   2782.637758    2270.501000\n",
      "50%    20.000000      1.000000 -18.570292   4544.305136    4873.295000\n",
      "75%    23.000000      1.000000 -15.119467   9332.218676    8523.115000\n",
      "max    23.000000      5.000000  -7.413364  17059.460750   18670.220000 \n",
      " -_-_-_-_-_-_-_-_-_-_-_-_-_-_-_-_-_-_-_-_-_-_-_-_-_-_-_-_-_-_-_-_-_-_-_-_-_-_-_-_-_-_-_-_-_-_-_-_-_-_\n",
      "EX:\n",
      "               gw  enlargements      Vrest       Mohm(v)  Mohm(current)\n",
      "count  16.000000     15.000000  16.000000     16.000000      15.000000\n",
      "mean   21.125000      0.366667 -26.478344   4714.155724    6281.230267\n",
      "std     2.061553      1.619818  13.322257   3717.327358    4883.541031\n",
      "min    18.000000     -5.000000 -48.326717    385.104912    1243.384000\n",
      "25%    20.000000      0.000000 -34.197207   2657.248447    3581.950000\n",
      "50%    21.500000      0.500000 -28.276812   3419.686362    5049.780000\n",
      "75%    23.000000      1.000000 -22.608983   6144.036511    7373.320000\n",
      "max    23.000000      2.000000   4.150860  15096.390450   21282.800000\n"
     ]
    },
    {
     "data": {
      "text/html": [
       "<div>\n",
       "<style scoped>\n",
       "    .dataframe tbody tr th:only-of-type {\n",
       "        vertical-align: middle;\n",
       "    }\n",
       "\n",
       "    .dataframe tbody tr th {\n",
       "        vertical-align: top;\n",
       "    }\n",
       "\n",
       "    .dataframe thead th {\n",
       "        text-align: right;\n",
       "    }\n",
       "</style>\n",
       "<table border=\"1\" class=\"dataframe\">\n",
       "  <thead>\n",
       "    <tr style=\"text-align: right;\">\n",
       "      <th></th>\n",
       "      <th>location</th>\n",
       "      <th>gw</th>\n",
       "      <th>potential type</th>\n",
       "      <th>Morphology</th>\n",
       "      <th>if, radial</th>\n",
       "      <th>polarity</th>\n",
       "      <th>branch</th>\n",
       "      <th>enlargements</th>\n",
       "      <th>Vrest</th>\n",
       "      <th>Mohm(v)</th>\n",
       "      <th>Mohm(current)</th>\n",
       "      <th>cell_type</th>\n",
       "    </tr>\n",
       "  </thead>\n",
       "  <tbody>\n",
       "    <tr>\n",
       "      <th>c8</th>\n",
       "      <td>slice3</td>\n",
       "      <td>18.0</td>\n",
       "      <td>interneuons</td>\n",
       "      <td>radial</td>\n",
       "      <td>NaN</td>\n",
       "      <td>bi</td>\n",
       "      <td>no</td>\n",
       "      <td>1.0</td>\n",
       "      <td>NaN</td>\n",
       "      <td>2936.650574</td>\n",
       "      <td>3232.790</td>\n",
       "      <td>IN</td>\n",
       "    </tr>\n",
       "    <tr>\n",
       "      <th>c9</th>\n",
       "      <td>slice4</td>\n",
       "      <td>18.0</td>\n",
       "      <td>interneuons</td>\n",
       "      <td>tan</td>\n",
       "      <td>NaN</td>\n",
       "      <td>uni</td>\n",
       "      <td>bitufted</td>\n",
       "      <td>1.0</td>\n",
       "      <td>NaN</td>\n",
       "      <td>NaN</td>\n",
       "      <td>NaN</td>\n",
       "      <td>IN</td>\n",
       "    </tr>\n",
       "    <tr>\n",
       "      <th>c13</th>\n",
       "      <td>slice4</td>\n",
       "      <td>18.0</td>\n",
       "      <td>CR</td>\n",
       "      <td>NaN</td>\n",
       "      <td>NaN</td>\n",
       "      <td>NaN</td>\n",
       "      <td>NaN</td>\n",
       "      <td>NaN</td>\n",
       "      <td>-28.068893</td>\n",
       "      <td>2786.664140</td>\n",
       "      <td>5740.120</td>\n",
       "      <td>EX</td>\n",
       "    </tr>\n",
       "    <tr>\n",
       "      <th>c14</th>\n",
       "      <td>slice4</td>\n",
       "      <td>18.0</td>\n",
       "      <td>interneuons</td>\n",
       "      <td>tan</td>\n",
       "      <td>NaN</td>\n",
       "      <td>bi</td>\n",
       "      <td>no</td>\n",
       "      <td>5.0</td>\n",
       "      <td>-36.843517</td>\n",
       "      <td>7768.438389</td>\n",
       "      <td>1150.335</td>\n",
       "      <td>IN</td>\n",
       "    </tr>\n",
       "    <tr>\n",
       "      <th>c15</th>\n",
       "      <td>slice4</td>\n",
       "      <td>18.0</td>\n",
       "      <td>interneuons</td>\n",
       "      <td>tan</td>\n",
       "      <td>NaN</td>\n",
       "      <td>bi</td>\n",
       "      <td>bitufted</td>\n",
       "      <td>1.0</td>\n",
       "      <td>-41.402317</td>\n",
       "      <td>2534.613313</td>\n",
       "      <td>NaN</td>\n",
       "      <td>EX</td>\n",
       "    </tr>\n",
       "  </tbody>\n",
       "</table>\n",
       "</div>"
      ],
      "text/plain": [
       "    location    gw potential type Morphology if, radial polarity    branch  \\\n",
       "c8    slice3  18.0    interneuons     radial        NaN       bi        no   \n",
       "c9    slice4  18.0    interneuons        tan        NaN      uni  bitufted   \n",
       "c13   slice4  18.0             CR        NaN        NaN      NaN       NaN   \n",
       "c14   slice4  18.0    interneuons        tan        NaN       bi        no   \n",
       "c15   slice4  18.0    interneuons        tan        NaN       bi  bitufted   \n",
       "\n",
       "     enlargements      Vrest      Mohm(v)  Mohm(current) cell_type  \n",
       "c8            1.0        NaN  2936.650574       3232.790        IN  \n",
       "c9            1.0        NaN          NaN            NaN        IN  \n",
       "c13           NaN -28.068893  2786.664140       5740.120        EX  \n",
       "c14           5.0 -36.843517  7768.438389       1150.335        IN  \n",
       "c15           1.0 -41.402317  2534.613313            NaN        EX  "
      ]
     },
     "execution_count": 28,
     "metadata": {},
     "output_type": "execute_result"
    }
   ],
   "source": [
    "import pandas as pd\n",
    "import dabest\n",
    "df = pd.read_csv('patch_celltype.csv', index_col = 0)\n",
    "#print mean and std of IN and EX\n",
    "dfin = df[df['cell_type']=='IN']\n",
    "dfex = df[df['cell_type']=='EX']\n",
    "print('IN:\\n',dfin.describe(),'\\n','-_'*50)\n",
    "print('EX:\\n',dfex.describe())\n",
    "df.head()"
   ]
  },
  {
   "cell_type": "code",
   "execution_count": 79,
   "metadata": {},
   "outputs": [],
   "source": [
    "dfvrest = pd.DataFrame()\n",
    "dfvrest1 = pd.DataFrame()\n",
    "dfvrest2 = pd.DataFrame()\n",
    "# dfvrest['EX']=\n",
    "dfvrest1['EX']=df[df['cell_type']=='EX']['Vrest'][:]\n",
    "dfvrest2['IN']=df[df['cell_type']=='IN']['Vrest'][:]\n",
    "dfvrest = dfvrest1.append(dfvrest2, ignore_index=True)\n",
    "dfvrest\n",
    "\n",
    "two_groups = dabest.load(dfvrest, idx=(\"EX\", \"IN\"),paired=False)"
   ]
  },
  {
   "cell_type": "code",
   "execution_count": 80,
   "metadata": {},
   "outputs": [
    {
     "data": {
      "text/plain": [
       "DABEST v0.3.0\n",
       "=============\n",
       "             \n",
       "Good evening!\n",
       "The current time is Wed Jun 10 12:26:31 2020.\n",
       "\n",
       "The unpaired mean difference between EX and IN is -0.0101 [95%CI -14.2, 10.6].\n",
       "The p-value of the two-sided permutation t-test is 1.0. \n",
       "\n",
       "5000 bootstrap samples were taken; the confidence interval is bias-corrected and accelerated.\n",
       "The p-value(s) reported are the likelihood(s) of observing the effect size(s),\n",
       "if the null hypothesis of zero difference is true.\n",
       "For each p-value, 5000 reshuffles of the control and test labels were performed.\n",
       "\n",
       "To get the results of all valid statistical tests, use `.mean_diff.statistical_tests`"
      ]
     },
     "execution_count": 80,
     "metadata": {},
     "output_type": "execute_result"
    }
   ],
   "source": [
    "two_groups.mean_diff"
   ]
  },
  {
   "cell_type": "code",
   "execution_count": 81,
   "metadata": {},
   "outputs": [
    {
     "data": {
      "text/html": [
       "<div>\n",
       "<style scoped>\n",
       "    .dataframe tbody tr th:only-of-type {\n",
       "        vertical-align: middle;\n",
       "    }\n",
       "\n",
       "    .dataframe tbody tr th {\n",
       "        vertical-align: top;\n",
       "    }\n",
       "\n",
       "    .dataframe thead th {\n",
       "        text-align: right;\n",
       "    }\n",
       "</style>\n",
       "<table border=\"1\" class=\"dataframe\">\n",
       "  <thead>\n",
       "    <tr style=\"text-align: right;\">\n",
       "      <th></th>\n",
       "      <th>control</th>\n",
       "      <th>test</th>\n",
       "      <th>control_N</th>\n",
       "      <th>test_N</th>\n",
       "      <th>effect_size</th>\n",
       "      <th>is_paired</th>\n",
       "      <th>difference</th>\n",
       "      <th>ci</th>\n",
       "      <th>bca_low</th>\n",
       "      <th>bca_high</th>\n",
       "      <th>pvalue_permutation</th>\n",
       "      <th>pvalue_welch</th>\n",
       "      <th>statistic_welch</th>\n",
       "      <th>pvalue_students_t</th>\n",
       "      <th>statistic_students_t</th>\n",
       "      <th>pvalue_mann_whitney</th>\n",
       "      <th>statistic_mann_whitney</th>\n",
       "    </tr>\n",
       "  </thead>\n",
       "  <tbody>\n",
       "    <tr>\n",
       "      <th>0</th>\n",
       "      <td>EX</td>\n",
       "      <td>IN</td>\n",
       "      <td>16</td>\n",
       "      <td>9</td>\n",
       "      <td>mean difference</td>\n",
       "      <td>False</td>\n",
       "      <td>-0.010054</td>\n",
       "      <td>95</td>\n",
       "      <td>-14.245293</td>\n",
       "      <td>10.641238</td>\n",
       "      <td>0.9996</td>\n",
       "      <td>0.998814</td>\n",
       "      <td>0.001514</td>\n",
       "      <td>0.998713</td>\n",
       "      <td>0.00163</td>\n",
       "      <td>0.671125</td>\n",
       "      <td>64.0</td>\n",
       "    </tr>\n",
       "  </tbody>\n",
       "</table>\n",
       "</div>"
      ],
      "text/plain": [
       "  control test  control_N  test_N      effect_size  is_paired  difference  ci  \\\n",
       "0      EX   IN         16       9  mean difference      False   -0.010054  95   \n",
       "\n",
       "     bca_low   bca_high  pvalue_permutation  pvalue_welch  statistic_welch  \\\n",
       "0 -14.245293  10.641238              0.9996      0.998814         0.001514   \n",
       "\n",
       "   pvalue_students_t  statistic_students_t  pvalue_mann_whitney  \\\n",
       "0           0.998713               0.00163             0.671125   \n",
       "\n",
       "   statistic_mann_whitney  \n",
       "0                    64.0  "
      ]
     },
     "execution_count": 81,
     "metadata": {},
     "output_type": "execute_result"
    }
   ],
   "source": [
    "two_groups.mean_diff.statistical_tests"
   ]
  },
  {
   "cell_type": "code",
   "execution_count": 88,
   "metadata": {},
   "outputs": [
    {
     "data": {
      "image/png": "[encoded data removed]",
      "text/plain": [
       "<Figure size 500x400 with 2 Axes>"
      ]
     },
     "metadata": {
      "needs_background": "light"
     },
     "output_type": "display_data"
    }
   ],
   "source": [
    "import matplotlib.pyplot as plt\n",
    "two_groups.mean_diff.plot(swarm_label=\"Resting membrane potential (mV)\",contrast_label=\"Mean differentce distribution (mV)\")\n",
    "plt.savefig('VrestDiff_estimation.png')"
   ]
  },
  {
   "cell_type": "code",
   "execution_count": 96,
   "metadata": {},
   "outputs": [],
   "source": [
    "dfmohm = pd.DataFrame()\n",
    "dfmohm1 = pd.DataFrame()\n",
    "dfmohm2 = pd.DataFrame()\n",
    "# dfvrest['EX']=\n",
    "dfmohm1['EX']=df[df['cell_type']=='EX']['Mohm(v)']\n",
    "dfmohm2['IN']=df[df['cell_type']=='IN']['Mohm(v)']\n",
    "dfmohm = dfmohm1.append(dfmohm2, ignore_index=True)\n",
    "\n",
    "\n",
    "two_groups = dabest.load(dfmohm, idx=(\"EX\", \"IN\"),paired=False)\n"
   ]
  },
  {
   "cell_type": "code",
   "execution_count": 97,
   "metadata": {
    "scrolled": true
   },
   "outputs": [
    {
     "data": {
      "text/plain": [
       "DABEST v0.3.0\n",
       "=============\n",
       "             \n",
       "Good evening!\n",
       "The current time is Wed Jun 10 12:40:29 2020.\n",
       "\n",
       "The unpaired mean difference between EX and IN is 1.82e+03 [95%CI -1.2e+03, 5.85e+03].\n",
       "The p-value of the two-sided permutation t-test is 0.314. \n",
       "\n",
       "5000 bootstrap samples were taken; the confidence interval is bias-corrected and accelerated.\n",
       "The p-value(s) reported are the likelihood(s) of observing the effect size(s),\n",
       "if the null hypothesis of zero difference is true.\n",
       "For each p-value, 5000 reshuffles of the control and test labels were performed.\n",
       "\n",
       "To get the results of all valid statistical tests, use `.mean_diff.statistical_tests`"
      ]
     },
     "execution_count": 97,
     "metadata": {},
     "output_type": "execute_result"
    }
   ],
   "source": [
    "two_groups.mean_diff"
   ]
  },
  {
   "cell_type": "code",
   "execution_count": 99,
   "metadata": {},
   "outputs": [
    {
     "data": {
      "text/html": [
       "<div>\n",
       "<style scoped>\n",
       "    .dataframe tbody tr th:only-of-type {\n",
       "        vertical-align: middle;\n",
       "    }\n",
       "\n",
       "    .dataframe tbody tr th {\n",
       "        vertical-align: top;\n",
       "    }\n",
       "\n",
       "    .dataframe thead th {\n",
       "        text-align: right;\n",
       "    }\n",
       "</style>\n",
       "<table border=\"1\" class=\"dataframe\">\n",
       "  <thead>\n",
       "    <tr style=\"text-align: right;\">\n",
       "      <th></th>\n",
       "      <th>control</th>\n",
       "      <th>test</th>\n",
       "      <th>control_N</th>\n",
       "      <th>test_N</th>\n",
       "      <th>effect_size</th>\n",
       "      <th>is_paired</th>\n",
       "      <th>difference</th>\n",
       "      <th>ci</th>\n",
       "      <th>bca_low</th>\n",
       "      <th>bca_high</th>\n",
       "      <th>pvalue_permutation</th>\n",
       "      <th>pvalue_welch</th>\n",
       "      <th>statistic_welch</th>\n",
       "      <th>pvalue_students_t</th>\n",
       "      <th>statistic_students_t</th>\n",
       "      <th>pvalue_mann_whitney</th>\n",
       "      <th>statistic_mann_whitney</th>\n",
       "    </tr>\n",
       "  </thead>\n",
       "  <tbody>\n",
       "    <tr>\n",
       "      <th>0</th>\n",
       "      <td>EX</td>\n",
       "      <td>IN</td>\n",
       "      <td>16</td>\n",
       "      <td>10</td>\n",
       "      <td>mean difference</td>\n",
       "      <td>False</td>\n",
       "      <td>1815.975853</td>\n",
       "      <td>95</td>\n",
       "      <td>-1198.468795</td>\n",
       "      <td>5853.181169</td>\n",
       "      <td>0.3136</td>\n",
       "      <td>0.349196</td>\n",
       "      <td>-0.966673</td>\n",
       "      <td>0.307046</td>\n",
       "      <td>-1.04365</td>\n",
       "      <td>0.476767</td>\n",
       "      <td>66.0</td>\n",
       "    </tr>\n",
       "  </tbody>\n",
       "</table>\n",
       "</div>"
      ],
      "text/plain": [
       "  control test  control_N  test_N      effect_size  is_paired   difference  \\\n",
       "0      EX   IN         16      10  mean difference      False  1815.975853   \n",
       "\n",
       "   ci      bca_low     bca_high  pvalue_permutation  pvalue_welch  \\\n",
       "0  95 -1198.468795  5853.181169              0.3136      0.349196   \n",
       "\n",
       "   statistic_welch  pvalue_students_t  statistic_students_t  \\\n",
       "0        -0.966673           0.307046              -1.04365   \n",
       "\n",
       "   pvalue_mann_whitney  statistic_mann_whitney  \n",
       "0             0.476767                    66.0  "
      ]
     },
     "execution_count": 99,
     "metadata": {},
     "output_type": "execute_result"
    }
   ],
   "source": [
    "two_groups.mean_diff.statistical_tests"
   ]
  },
  {
   "cell_type": "code",
   "execution_count": 98,
   "metadata": {},
   "outputs": [
    {
     "data": {
      "image/png": "[encoded data removed]",
      "text/plain": [
       "<Figure size 500x400 with 2 Axes>"
      ]
     },
     "metadata": {
      "needs_background": "light"
     },
     "output_type": "display_data"
    }
   ],
   "source": [
    "two_groups.mean_diff.plot(swarm_label=\"Membrane resistence (mohm)\",contrast_label=\"Mean differentce distribution (mohm)\")\n",
    "plt.savefig('mohmDiff_estimation.png')"
   ]
  }
 ],
 "metadata": {
  "kernelspec": {
   "display_name": "Python 3",
   "language": "python",
   "name": "python3"
  },
  "language_info": {
   "codemirror_mode": {
    "name": "ipython",
    "version": 3
   },
   "file_extension": ".py",
   "mimetype": "text/x-python",
   "name": "python",
   "nbconvert_exporter": "python",
   "pygments_lexer": "ipython3",
   "version": "3.7.1"
  }
 },
 "nbformat": 4,
 "nbformat_minor": 2
}
