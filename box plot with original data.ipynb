{
 "cells": [
  {
   "cell_type": "code",
   "execution_count": 1,
   "metadata": {},
   "outputs": [],
   "source": [
    "#plot parameters of domains"
   ]
  },
  {
   "cell_type": "code",
   "execution_count": 2,
   "metadata": {},
   "outputs": [],
   "source": [
    "import pandas as pd"
   ]
  },
  {
   "cell_type": "code",
   "execution_count": 3,
   "metadata": {},
   "outputs": [],
   "source": [
    "import numpy as np"
   ]
  },
  {
   "cell_type": "code",
   "execution_count": 4,
   "metadata": {},
   "outputs": [],
   "source": [
    "import matplotlib.pyplot as plt\n",
    "import matplotlib as mpl\n",
    "mpl.rcParams['figure.dpi']= 120"
   ]
  },
  {
   "cell_type": "code",
   "execution_count": 80,
   "metadata": {},
   "outputs": [],
   "source": [
    "import seaborn as sns\n"
   ]
  },
  {
   "cell_type": "code",
   "execution_count": 82,
   "metadata": {},
   "outputs": [
    {
     "name": "stdout",
     "output_type": "stream",
     "text": [
      "seaborn==0.9.0\n",
      "pandas==0.25.0\n",
      "numpy==1.18.5\n",
      "matplotlib==3.0.2\n"
     ]
    }
   ],
   "source": [
    "# to print the version of current used modules\n",
    "import pkg_resources\n",
    "import types\n",
    "def get_imports():\n",
    "    for name, val in globals().items():\n",
    "        if isinstance(val, types.ModuleType):\n",
    "            # Split ensures you get root package, \n",
    "            # not just imported function\n",
    "            name = val.__name__.split(\".\")[0]\n",
    "\n",
    "        elif isinstance(val, type):\n",
    "            name = val.__module__.split(\".\")[0]\n",
    "\n",
    "        # Some packages are weird and have different\n",
    "        # imported names vs. system/pip names. Unfortunately,\n",
    "        # there is no systematic way to get pip names from\n",
    "        # a package's imported name. You'll have to add\n",
    "        # exceptions to this list manually!\n",
    "        poorly_named_packages = {\n",
    "            \"PIL\": \"Pillow\",\n",
    "            \"sklearn\": \"scikit-learn\"\n",
    "        }\n",
    "        if name in poorly_named_packages.keys():\n",
    "            name = poorly_named_packages[name]\n",
    "\n",
    "        yield name\n",
    "imports = list(set(get_imports()))\n",
    "\n",
    "# The only way I found to get the version of the root package\n",
    "# from only the name of the package is to cross-check the names \n",
    "# of installed packages vs. imported packages\n",
    "requirements = []\n",
    "for m in pkg_resources.working_set:\n",
    "    if m.project_name in imports and m.project_name!=\"pip\":\n",
    "        requirements.append((m.project_name, m.version))\n",
    "\n",
    "for r in requirements:\n",
    "    print(\"{}=={}\".format(*r))"
   ]
  },
  {
   "cell_type": "code",
   "execution_count": 12,
   "metadata": {},
   "outputs": [
    {
     "data": {
      "text/html": [
       "<div>\n",
       "<style scoped>\n",
       "    .dataframe tbody tr th:only-of-type {\n",
       "        vertical-align: middle;\n",
       "    }\n",
       "\n",
       "    .dataframe tbody tr th {\n",
       "        vertical-align: top;\n",
       "    }\n",
       "\n",
       "    .dataframe thead th {\n",
       "        text-align: right;\n",
       "    }\n",
       "</style>\n",
       "<table border=\"1\" class=\"dataframe\">\n",
       "  <thead>\n",
       "    <tr style=\"text-align: right;\">\n",
       "      <th></th>\n",
       "      <th>Unnamed: 0</th>\n",
       "      <th>Area</th>\n",
       "      <th>Major axis</th>\n",
       "      <th>Minor axis</th>\n",
       "    </tr>\n",
       "  </thead>\n",
       "  <tbody>\n",
       "    <tr>\n",
       "      <th>0</th>\n",
       "      <td>wo_TTX</td>\n",
       "      <td>3015.25</td>\n",
       "      <td>108.118</td>\n",
       "      <td>95.780</td>\n",
       "    </tr>\n",
       "    <tr>\n",
       "      <th>1</th>\n",
       "      <td>wo_TTX</td>\n",
       "      <td>2554.75</td>\n",
       "      <td>83.810</td>\n",
       "      <td>70.840</td>\n",
       "    </tr>\n",
       "    <tr>\n",
       "      <th>2</th>\n",
       "      <td>wo_TTX</td>\n",
       "      <td>1272.50</td>\n",
       "      <td>71.632</td>\n",
       "      <td>65.126</td>\n",
       "    </tr>\n",
       "    <tr>\n",
       "      <th>3</th>\n",
       "      <td>wo_TTX</td>\n",
       "      <td>1963.00</td>\n",
       "      <td>85.739</td>\n",
       "      <td>73.505</td>\n",
       "    </tr>\n",
       "    <tr>\n",
       "      <th>4</th>\n",
       "      <td>wo_TTX</td>\n",
       "      <td>2861.50</td>\n",
       "      <td>128.307</td>\n",
       "      <td>91.484</td>\n",
       "    </tr>\n",
       "  </tbody>\n",
       "</table>\n",
       "</div>"
      ],
      "text/plain": [
       "  Unnamed: 0     Area  Major axis  Minor axis\n",
       "0     wo_TTX  3015.25     108.118      95.780\n",
       "1     wo_TTX  2554.75      83.810      70.840\n",
       "2     wo_TTX  1272.50      71.632      65.126\n",
       "3     wo_TTX  1963.00      85.739      73.505\n",
       "4     wo_TTX  2861.50     128.307      91.484"
      ]
     },
     "execution_count": 12,
     "metadata": {},
     "output_type": "execute_result"
    }
   ],
   "source": [
    "a = pd.read_csv('domains_parameters_08172020.csv')\n",
    "a.head()"
   ]
  },
  {
   "cell_type": "code",
   "execution_count": 13,
   "metadata": {
    "scrolled": true
   },
   "outputs": [
    {
     "data": {
      "text/html": [
       "<div>\n",
       "<style scoped>\n",
       "    .dataframe tbody tr th:only-of-type {\n",
       "        vertical-align: middle;\n",
       "    }\n",
       "\n",
       "    .dataframe tbody tr th {\n",
       "        vertical-align: top;\n",
       "    }\n",
       "\n",
       "    .dataframe thead th {\n",
       "        text-align: right;\n",
       "    }\n",
       "</style>\n",
       "<table border=\"1\" class=\"dataframe\">\n",
       "  <thead>\n",
       "    <tr style=\"text-align: right;\">\n",
       "      <th></th>\n",
       "      <th>if_ttx</th>\n",
       "      <th>Area</th>\n",
       "      <th>Major axis</th>\n",
       "      <th>Minor axis</th>\n",
       "    </tr>\n",
       "  </thead>\n",
       "  <tbody>\n",
       "    <tr>\n",
       "      <th>0</th>\n",
       "      <td>wo_TTX</td>\n",
       "      <td>3015.25</td>\n",
       "      <td>108.118</td>\n",
       "      <td>95.780</td>\n",
       "    </tr>\n",
       "    <tr>\n",
       "      <th>1</th>\n",
       "      <td>wo_TTX</td>\n",
       "      <td>2554.75</td>\n",
       "      <td>83.810</td>\n",
       "      <td>70.840</td>\n",
       "    </tr>\n",
       "    <tr>\n",
       "      <th>2</th>\n",
       "      <td>wo_TTX</td>\n",
       "      <td>1272.50</td>\n",
       "      <td>71.632</td>\n",
       "      <td>65.126</td>\n",
       "    </tr>\n",
       "    <tr>\n",
       "      <th>3</th>\n",
       "      <td>wo_TTX</td>\n",
       "      <td>1963.00</td>\n",
       "      <td>85.739</td>\n",
       "      <td>73.505</td>\n",
       "    </tr>\n",
       "    <tr>\n",
       "      <th>4</th>\n",
       "      <td>wo_TTX</td>\n",
       "      <td>2861.50</td>\n",
       "      <td>128.307</td>\n",
       "      <td>91.484</td>\n",
       "    </tr>\n",
       "  </tbody>\n",
       "</table>\n",
       "</div>"
      ],
      "text/plain": [
       "   if_ttx     Area  Major axis  Minor axis\n",
       "0  wo_TTX  3015.25     108.118      95.780\n",
       "1  wo_TTX  2554.75      83.810      70.840\n",
       "2  wo_TTX  1272.50      71.632      65.126\n",
       "3  wo_TTX  1963.00      85.739      73.505\n",
       "4  wo_TTX  2861.50     128.307      91.484"
      ]
     },
     "execution_count": 13,
     "metadata": {},
     "output_type": "execute_result"
    }
   ],
   "source": [
    "a.rename(columns = {'Unnamed: 0':'if_ttx'},inplace=True) #when to use inplace = True ???\n",
    "a.head()"
   ]
  },
  {
   "cell_type": "code",
   "execution_count": 22,
   "metadata": {},
   "outputs": [
    {
     "data": {
      "text/html": [
       "<div>\n",
       "<style scoped>\n",
       "    .dataframe tbody tr th:only-of-type {\n",
       "        vertical-align: middle;\n",
       "    }\n",
       "\n",
       "    .dataframe tbody tr th {\n",
       "        vertical-align: top;\n",
       "    }\n",
       "\n",
       "    .dataframe thead th {\n",
       "        text-align: right;\n",
       "    }\n",
       "</style>\n",
       "<table border=\"1\" class=\"dataframe\">\n",
       "  <thead>\n",
       "    <tr style=\"text-align: right;\">\n",
       "      <th></th>\n",
       "      <th>if_ttx</th>\n",
       "      <th>Area</th>\n",
       "      <th>Major axis</th>\n",
       "      <th>Minor axis</th>\n",
       "      <th>id</th>\n",
       "    </tr>\n",
       "  </thead>\n",
       "  <tbody>\n",
       "    <tr>\n",
       "      <th>0</th>\n",
       "      <td>wo_TTX</td>\n",
       "      <td>3015.25</td>\n",
       "      <td>108.118</td>\n",
       "      <td>95.780</td>\n",
       "      <td>0</td>\n",
       "    </tr>\n",
       "    <tr>\n",
       "      <th>1</th>\n",
       "      <td>wo_TTX</td>\n",
       "      <td>2554.75</td>\n",
       "      <td>83.810</td>\n",
       "      <td>70.840</td>\n",
       "      <td>1</td>\n",
       "    </tr>\n",
       "    <tr>\n",
       "      <th>2</th>\n",
       "      <td>wo_TTX</td>\n",
       "      <td>1272.50</td>\n",
       "      <td>71.632</td>\n",
       "      <td>65.126</td>\n",
       "      <td>2</td>\n",
       "    </tr>\n",
       "    <tr>\n",
       "      <th>3</th>\n",
       "      <td>wo_TTX</td>\n",
       "      <td>1963.00</td>\n",
       "      <td>85.739</td>\n",
       "      <td>73.505</td>\n",
       "      <td>3</td>\n",
       "    </tr>\n",
       "    <tr>\n",
       "      <th>4</th>\n",
       "      <td>wo_TTX</td>\n",
       "      <td>2861.50</td>\n",
       "      <td>128.307</td>\n",
       "      <td>91.484</td>\n",
       "      <td>4</td>\n",
       "    </tr>\n",
       "  </tbody>\n",
       "</table>\n",
       "</div>"
      ],
      "text/plain": [
       "   if_ttx     Area  Major axis  Minor axis  id\n",
       "0  wo_TTX  3015.25     108.118      95.780   0\n",
       "1  wo_TTX  2554.75      83.810      70.840   1\n",
       "2  wo_TTX  1272.50      71.632      65.126   2\n",
       "3  wo_TTX  1963.00      85.739      73.505   3\n",
       "4  wo_TTX  2861.50     128.307      91.484   4"
      ]
     },
     "execution_count": 22,
     "metadata": {},
     "output_type": "execute_result"
    }
   ],
   "source": [
    "a['id']=a.index\n",
    "a.head()"
   ]
  },
  {
   "cell_type": "code",
   "execution_count": 27,
   "metadata": {},
   "outputs": [],
   "source": [
    "# a1=pd.melt(a,id_vars=['id'],var_name='metrics', value_name='values')\n",
    "# a1"
   ]
  },
  {
   "cell_type": "code",
   "execution_count": 32,
   "metadata": {},
   "outputs": [
    {
     "name": "stdout",
     "output_type": "stream",
     "text": [
      "without TTX, the domain parameter:\n",
      "\n",
      "Mean of area is: 3186.3189655172414\n",
      "Std of area is: 3395.997042801532\n"
     ]
    },
    {
     "data": {
      "text/html": [
       "<div>\n",
       "<style scoped>\n",
       "    .dataframe tbody tr th:only-of-type {\n",
       "        vertical-align: middle;\n",
       "    }\n",
       "\n",
       "    .dataframe tbody tr th {\n",
       "        vertical-align: top;\n",
       "    }\n",
       "\n",
       "    .dataframe thead th {\n",
       "        text-align: right;\n",
       "    }\n",
       "</style>\n",
       "<table border=\"1\" class=\"dataframe\">\n",
       "  <thead>\n",
       "    <tr style=\"text-align: right;\">\n",
       "      <th></th>\n",
       "      <th>Area</th>\n",
       "      <th>Major axis</th>\n",
       "      <th>Minor axis</th>\n",
       "      <th>id</th>\n",
       "    </tr>\n",
       "  </thead>\n",
       "  <tbody>\n",
       "    <tr>\n",
       "      <th>count</th>\n",
       "      <td>29.000000</td>\n",
       "      <td>29.000000</td>\n",
       "      <td>29.000000</td>\n",
       "      <td>29.000000</td>\n",
       "    </tr>\n",
       "    <tr>\n",
       "      <th>mean</th>\n",
       "      <td>3186.318966</td>\n",
       "      <td>136.568621</td>\n",
       "      <td>93.303276</td>\n",
       "      <td>14.000000</td>\n",
       "    </tr>\n",
       "    <tr>\n",
       "      <th>std</th>\n",
       "      <td>3395.997043</td>\n",
       "      <td>59.163465</td>\n",
       "      <td>46.898838</td>\n",
       "      <td>8.514693</td>\n",
       "    </tr>\n",
       "    <tr>\n",
       "      <th>min</th>\n",
       "      <td>104.250000</td>\n",
       "      <td>48.959000</td>\n",
       "      <td>31.051000</td>\n",
       "      <td>0.000000</td>\n",
       "    </tr>\n",
       "    <tr>\n",
       "      <th>25%</th>\n",
       "      <td>1185.000000</td>\n",
       "      <td>85.739000</td>\n",
       "      <td>65.126000</td>\n",
       "      <td>7.000000</td>\n",
       "    </tr>\n",
       "    <tr>\n",
       "      <th>50%</th>\n",
       "      <td>2076.750000</td>\n",
       "      <td>128.307000</td>\n",
       "      <td>82.121000</td>\n",
       "      <td>14.000000</td>\n",
       "    </tr>\n",
       "    <tr>\n",
       "      <th>75%</th>\n",
       "      <td>3330.500000</td>\n",
       "      <td>176.573000</td>\n",
       "      <td>110.425000</td>\n",
       "      <td>21.000000</td>\n",
       "    </tr>\n",
       "    <tr>\n",
       "      <th>max</th>\n",
       "      <td>15128.000000</td>\n",
       "      <td>255.863000</td>\n",
       "      <td>228.996000</td>\n",
       "      <td>28.000000</td>\n",
       "    </tr>\n",
       "  </tbody>\n",
       "</table>\n",
       "</div>"
      ],
      "text/plain": [
       "               Area  Major axis  Minor axis         id\n",
       "count     29.000000   29.000000   29.000000  29.000000\n",
       "mean    3186.318966  136.568621   93.303276  14.000000\n",
       "std     3395.997043   59.163465   46.898838   8.514693\n",
       "min      104.250000   48.959000   31.051000   0.000000\n",
       "25%     1185.000000   85.739000   65.126000   7.000000\n",
       "50%     2076.750000  128.307000   82.121000  14.000000\n",
       "75%     3330.500000  176.573000  110.425000  21.000000\n",
       "max    15128.000000  255.863000  228.996000  28.000000"
      ]
     },
     "execution_count": 32,
     "metadata": {},
     "output_type": "execute_result"
    }
   ],
   "source": [
    "a_wo=a.loc[a['if_ttx']=='wo_TTX']\n",
    "print('without TTX, the domain parameter:\\n')\n",
    "print('Mean of area is:',a_wo.loc[:,'Area'].mean())\n",
    "print('Std of area is:',a_wo.loc[:,'Area'].std())\n",
    "a_wo.describe()"
   ]
  },
  {
   "cell_type": "code",
   "execution_count": 33,
   "metadata": {},
   "outputs": [
    {
     "data": {
      "text/html": [
       "<div>\n",
       "<style scoped>\n",
       "    .dataframe tbody tr th:only-of-type {\n",
       "        vertical-align: middle;\n",
       "    }\n",
       "\n",
       "    .dataframe tbody tr th {\n",
       "        vertical-align: top;\n",
       "    }\n",
       "\n",
       "    .dataframe thead th {\n",
       "        text-align: right;\n",
       "    }\n",
       "</style>\n",
       "<table border=\"1\" class=\"dataframe\">\n",
       "  <thead>\n",
       "    <tr style=\"text-align: right;\">\n",
       "      <th></th>\n",
       "      <th>if_ttx</th>\n",
       "      <th>Area</th>\n",
       "      <th>Major axis</th>\n",
       "      <th>Minor axis</th>\n",
       "      <th>id</th>\n",
       "    </tr>\n",
       "  </thead>\n",
       "  <tbody>\n",
       "    <tr>\n",
       "      <th>29</th>\n",
       "      <td>TTX</td>\n",
       "      <td>3015.25</td>\n",
       "      <td>108.118</td>\n",
       "      <td>95.780</td>\n",
       "      <td>29</td>\n",
       "    </tr>\n",
       "    <tr>\n",
       "      <th>30</th>\n",
       "      <td>TTX</td>\n",
       "      <td>2554.75</td>\n",
       "      <td>83.810</td>\n",
       "      <td>70.840</td>\n",
       "      <td>30</td>\n",
       "    </tr>\n",
       "    <tr>\n",
       "      <th>31</th>\n",
       "      <td>TTX</td>\n",
       "      <td>1272.50</td>\n",
       "      <td>71.632</td>\n",
       "      <td>65.126</td>\n",
       "      <td>31</td>\n",
       "    </tr>\n",
       "    <tr>\n",
       "      <th>32</th>\n",
       "      <td>TTX</td>\n",
       "      <td>1963.00</td>\n",
       "      <td>85.739</td>\n",
       "      <td>73.505</td>\n",
       "      <td>32</td>\n",
       "    </tr>\n",
       "    <tr>\n",
       "      <th>33</th>\n",
       "      <td>TTX</td>\n",
       "      <td>2861.50</td>\n",
       "      <td>128.307</td>\n",
       "      <td>91.484</td>\n",
       "      <td>33</td>\n",
       "    </tr>\n",
       "  </tbody>\n",
       "</table>\n",
       "</div>"
      ],
      "text/plain": [
       "   if_ttx     Area  Major axis  Minor axis  id\n",
       "29    TTX  3015.25     108.118      95.780  29\n",
       "30    TTX  2554.75      83.810      70.840  30\n",
       "31    TTX  1272.50      71.632      65.126  31\n",
       "32    TTX  1963.00      85.739      73.505  32\n",
       "33    TTX  2861.50     128.307      91.484  33"
      ]
     },
     "execution_count": 33,
     "metadata": {},
     "output_type": "execute_result"
    }
   ],
   "source": [
    "a.tail()"
   ]
  },
  {
   "cell_type": "code",
   "execution_count": 34,
   "metadata": {},
   "outputs": [
    {
     "name": "stdout",
     "output_type": "stream",
     "text": [
      "without TTX, the domain parameter:\n",
      "\n",
      "Mean of area is: 2333.4\n",
      "Std of area is: 716.8524647722152\n"
     ]
    },
    {
     "data": {
      "text/html": [
       "<div>\n",
       "<style scoped>\n",
       "    .dataframe tbody tr th:only-of-type {\n",
       "        vertical-align: middle;\n",
       "    }\n",
       "\n",
       "    .dataframe tbody tr th {\n",
       "        vertical-align: top;\n",
       "    }\n",
       "\n",
       "    .dataframe thead th {\n",
       "        text-align: right;\n",
       "    }\n",
       "</style>\n",
       "<table border=\"1\" class=\"dataframe\">\n",
       "  <thead>\n",
       "    <tr style=\"text-align: right;\">\n",
       "      <th></th>\n",
       "      <th>Area</th>\n",
       "      <th>Major axis</th>\n",
       "      <th>Minor axis</th>\n",
       "      <th>id</th>\n",
       "    </tr>\n",
       "  </thead>\n",
       "  <tbody>\n",
       "    <tr>\n",
       "      <th>count</th>\n",
       "      <td>5.000000</td>\n",
       "      <td>5.000000</td>\n",
       "      <td>5.000000</td>\n",
       "      <td>5.000000</td>\n",
       "    </tr>\n",
       "    <tr>\n",
       "      <th>mean</th>\n",
       "      <td>2333.400000</td>\n",
       "      <td>95.521200</td>\n",
       "      <td>79.347000</td>\n",
       "      <td>31.000000</td>\n",
       "    </tr>\n",
       "    <tr>\n",
       "      <th>std</th>\n",
       "      <td>716.852465</td>\n",
       "      <td>22.567264</td>\n",
       "      <td>13.472983</td>\n",
       "      <td>1.581139</td>\n",
       "    </tr>\n",
       "    <tr>\n",
       "      <th>min</th>\n",
       "      <td>1272.500000</td>\n",
       "      <td>71.632000</td>\n",
       "      <td>65.126000</td>\n",
       "      <td>29.000000</td>\n",
       "    </tr>\n",
       "    <tr>\n",
       "      <th>25%</th>\n",
       "      <td>1963.000000</td>\n",
       "      <td>83.810000</td>\n",
       "      <td>70.840000</td>\n",
       "      <td>30.000000</td>\n",
       "    </tr>\n",
       "    <tr>\n",
       "      <th>50%</th>\n",
       "      <td>2554.750000</td>\n",
       "      <td>85.739000</td>\n",
       "      <td>73.505000</td>\n",
       "      <td>31.000000</td>\n",
       "    </tr>\n",
       "    <tr>\n",
       "      <th>75%</th>\n",
       "      <td>2861.500000</td>\n",
       "      <td>108.118000</td>\n",
       "      <td>91.484000</td>\n",
       "      <td>32.000000</td>\n",
       "    </tr>\n",
       "    <tr>\n",
       "      <th>max</th>\n",
       "      <td>3015.250000</td>\n",
       "      <td>128.307000</td>\n",
       "      <td>95.780000</td>\n",
       "      <td>33.000000</td>\n",
       "    </tr>\n",
       "  </tbody>\n",
       "</table>\n",
       "</div>"
      ],
      "text/plain": [
       "              Area  Major axis  Minor axis         id\n",
       "count     5.000000    5.000000    5.000000   5.000000\n",
       "mean   2333.400000   95.521200   79.347000  31.000000\n",
       "std     716.852465   22.567264   13.472983   1.581139\n",
       "min    1272.500000   71.632000   65.126000  29.000000\n",
       "25%    1963.000000   83.810000   70.840000  30.000000\n",
       "50%    2554.750000   85.739000   73.505000  31.000000\n",
       "75%    2861.500000  108.118000   91.484000  32.000000\n",
       "max    3015.250000  128.307000   95.780000  33.000000"
      ]
     },
     "execution_count": 34,
     "metadata": {},
     "output_type": "execute_result"
    }
   ],
   "source": [
    "a_ttx=a.loc[a['if_ttx']=='TTX']\n",
    "print('without TTX, the domain parameter:\\n')\n",
    "print('Mean of area is:',a_ttx.loc[:,'Area'].mean())\n",
    "print('Std of area is:',a_ttx.loc[:,'Area'].std())\n",
    "a_ttx.describe()"
   ]
  },
  {
   "cell_type": "code",
   "execution_count": 72,
   "metadata": {},
   "outputs": [
    {
     "data": {
      "image/png": "[encoded data removed]",
      "text/plain": [
       "<Figure size 216x288 with 1 Axes>"
      ]
     },
     "metadata": {
      "needs_background": "light"
     },
     "output_type": "display_data"
    }
   ],
   "source": [
    "#plot the figures in the wide format dataset\n",
    "\n",
    "fig, ax = plt.subplots(figsize=(3,4))\n",
    "sns.boxplot(x = None, y = 'Area',data = a_wo)\n",
    "sns.swarmplot(x = None, y = 'Area',data = a_wo,color=\"white\", edgecolor=\"grey\", linewidth=1)\n",
    "# ax.set(title = '', xlabel = \"\", ylabel='Area (um^2)')\n",
    "sns.despine() #magic to remove the x-top , and y-right axis\n",
    "#g.set(xticks=(np.arange(1,80,30))) #xlim=(0,80),ylim=(0,30000),\n",
    "plt.ylabel('Domain Area (um^2)',size=20)#,fontname=\"Arial\"\n",
    "ax.tick_params(axis=\"x\", labelsize=18)\n",
    "ax.tick_params(axis=\"y\", labelsize=14)\n",
    "# You can specify a rotation for the tick labels in degrees or with keywords.\n",
    "# plt.xticks(rotation='vertical')\n",
    "# Pad margins so that markers don't get clipped by the axes\n",
    "#plt.margins(0.2)\n",
    "# Tweak spacing to prevent clipping of tick-labels\n",
    "#plt.subplots_adjust(bottom=0.15)\n",
    "\n",
    "plt.tight_layout()\n",
    "plt.savefig(\"wottx_domain_area.png\",dpi=300,)"
   ]
  },
  {
   "cell_type": "code",
   "execution_count": 52,
   "metadata": {},
   "outputs": [
    {
     "data": {
      "text/html": [
       "<div>\n",
       "<style scoped>\n",
       "    .dataframe tbody tr th:only-of-type {\n",
       "        vertical-align: middle;\n",
       "    }\n",
       "\n",
       "    .dataframe tbody tr th {\n",
       "        vertical-align: top;\n",
       "    }\n",
       "\n",
       "    .dataframe thead th {\n",
       "        text-align: right;\n",
       "    }\n",
       "</style>\n",
       "<table border=\"1\" class=\"dataframe\">\n",
       "  <thead>\n",
       "    <tr style=\"text-align: right;\">\n",
       "      <th></th>\n",
       "      <th>Major axis</th>\n",
       "      <th>Minor axis</th>\n",
       "    </tr>\n",
       "  </thead>\n",
       "  <tbody>\n",
       "    <tr>\n",
       "      <th>0</th>\n",
       "      <td>108.118</td>\n",
       "      <td>95.780</td>\n",
       "    </tr>\n",
       "    <tr>\n",
       "      <th>1</th>\n",
       "      <td>83.810</td>\n",
       "      <td>70.840</td>\n",
       "    </tr>\n",
       "    <tr>\n",
       "      <th>2</th>\n",
       "      <td>71.632</td>\n",
       "      <td>65.126</td>\n",
       "    </tr>\n",
       "    <tr>\n",
       "      <th>3</th>\n",
       "      <td>85.739</td>\n",
       "      <td>73.505</td>\n",
       "    </tr>\n",
       "    <tr>\n",
       "      <th>4</th>\n",
       "      <td>128.307</td>\n",
       "      <td>91.484</td>\n",
       "    </tr>\n",
       "  </tbody>\n",
       "</table>\n",
       "</div>"
      ],
      "text/plain": [
       "   Major axis  Minor axis\n",
       "0     108.118      95.780\n",
       "1      83.810      70.840\n",
       "2      71.632      65.126\n",
       "3      85.739      73.505\n",
       "4     128.307      91.484"
      ]
     },
     "execution_count": 52,
     "metadata": {},
     "output_type": "execute_result"
    }
   ],
   "source": [
    "a_wo.loc[:,['Major axis','Minor axis']].head()"
   ]
  },
  {
   "cell_type": "code",
   "execution_count": 76,
   "metadata": {},
   "outputs": [
    {
     "data": {
      "image/png": "[encoded data removed]",
      "text/plain": [
       "<Figure size 288x288 with 1 Axes>"
      ]
     },
     "metadata": {
      "needs_background": "light"
     },
     "output_type": "display_data"
    }
   ],
   "source": [
    "fig, ax = plt.subplots(figsize=(4,4))\n",
    "sns.boxplot(data = a_wo.loc[:,['Major axis','Minor axis']])\n",
    "sns.swarmplot(data = a_wo.loc[:,['Major axis','Minor axis']],color=\"white\", edgecolor=\"grey\", linewidth=1)\n",
    "# ax.set(title = '', xlabel = \"\", ylabel='Area (um^2)')\n",
    "sns.despine() #magic to remove the x-top , and y-right axis\n",
    "#g.set(xticks=(np.arange(1,80,30))) #xlim=(0,80),ylim=(0,30000),\n",
    "plt.ylabel('Domain diameter (um)',size=20)#,fontname=\"Arial\"\n",
    "ax.tick_params(axis=\"x\", labelsize=18)\n",
    "ax.tick_params(axis=\"y\", labelsize=18)\n",
    "plt.ylim(0,300)\n",
    "# You can specify a rotation for the tick labels in degrees or with keywords.\n",
    "# plt.xticks(rotation='vertical')\n",
    "# Pad margins so that markers don't get clipped by the axes\n",
    "#plt.margins(0.2)\n",
    "# Tweak spacing to prevent clipping of tick-labels\n",
    "#plt.subplots_adjust(bottom=0.15)\n",
    "plt.tight_layout()\n",
    "plt.savefig(\"wottx_domain_diameter.png\",dpi=300,)"
   ]
  },
  {
   "cell_type": "code",
   "execution_count": null,
   "metadata": {},
   "outputs": [],
   "source": []
  },
  {
   "cell_type": "code",
   "execution_count": 74,
   "metadata": {},
   "outputs": [
    {
     "name": "stdout",
     "output_type": "stream",
     "text": [
      "without TTX, the domain parameter:\n",
      "\n",
      "Mean of area is: 2333.4\n",
      "Std of area is: 716.8524647722152\n"
     ]
    },
    {
     "data": {
      "text/html": [
       "<div>\n",
       "<style scoped>\n",
       "    .dataframe tbody tr th:only-of-type {\n",
       "        vertical-align: middle;\n",
       "    }\n",
       "\n",
       "    .dataframe tbody tr th {\n",
       "        vertical-align: top;\n",
       "    }\n",
       "\n",
       "    .dataframe thead th {\n",
       "        text-align: right;\n",
       "    }\n",
       "</style>\n",
       "<table border=\"1\" class=\"dataframe\">\n",
       "  <thead>\n",
       "    <tr style=\"text-align: right;\">\n",
       "      <th></th>\n",
       "      <th>Area</th>\n",
       "      <th>Major axis</th>\n",
       "      <th>Minor axis</th>\n",
       "      <th>id</th>\n",
       "    </tr>\n",
       "  </thead>\n",
       "  <tbody>\n",
       "    <tr>\n",
       "      <th>count</th>\n",
       "      <td>5.000000</td>\n",
       "      <td>5.000000</td>\n",
       "      <td>5.000000</td>\n",
       "      <td>5.000000</td>\n",
       "    </tr>\n",
       "    <tr>\n",
       "      <th>mean</th>\n",
       "      <td>2333.400000</td>\n",
       "      <td>95.521200</td>\n",
       "      <td>79.347000</td>\n",
       "      <td>31.000000</td>\n",
       "    </tr>\n",
       "    <tr>\n",
       "      <th>std</th>\n",
       "      <td>716.852465</td>\n",
       "      <td>22.567264</td>\n",
       "      <td>13.472983</td>\n",
       "      <td>1.581139</td>\n",
       "    </tr>\n",
       "    <tr>\n",
       "      <th>min</th>\n",
       "      <td>1272.500000</td>\n",
       "      <td>71.632000</td>\n",
       "      <td>65.126000</td>\n",
       "      <td>29.000000</td>\n",
       "    </tr>\n",
       "    <tr>\n",
       "      <th>25%</th>\n",
       "      <td>1963.000000</td>\n",
       "      <td>83.810000</td>\n",
       "      <td>70.840000</td>\n",
       "      <td>30.000000</td>\n",
       "    </tr>\n",
       "    <tr>\n",
       "      <th>50%</th>\n",
       "      <td>2554.750000</td>\n",
       "      <td>85.739000</td>\n",
       "      <td>73.505000</td>\n",
       "      <td>31.000000</td>\n",
       "    </tr>\n",
       "    <tr>\n",
       "      <th>75%</th>\n",
       "      <td>2861.500000</td>\n",
       "      <td>108.118000</td>\n",
       "      <td>91.484000</td>\n",
       "      <td>32.000000</td>\n",
       "    </tr>\n",
       "    <tr>\n",
       "      <th>max</th>\n",
       "      <td>3015.250000</td>\n",
       "      <td>128.307000</td>\n",
       "      <td>95.780000</td>\n",
       "      <td>33.000000</td>\n",
       "    </tr>\n",
       "  </tbody>\n",
       "</table>\n",
       "</div>"
      ],
      "text/plain": [
       "              Area  Major axis  Minor axis         id\n",
       "count     5.000000    5.000000    5.000000   5.000000\n",
       "mean   2333.400000   95.521200   79.347000  31.000000\n",
       "std     716.852465   22.567264   13.472983   1.581139\n",
       "min    1272.500000   71.632000   65.126000  29.000000\n",
       "25%    1963.000000   83.810000   70.840000  30.000000\n",
       "50%    2554.750000   85.739000   73.505000  31.000000\n",
       "75%    2861.500000  108.118000   91.484000  32.000000\n",
       "max    3015.250000  128.307000   95.780000  33.000000"
      ]
     },
     "execution_count": 74,
     "metadata": {},
     "output_type": "execute_result"
    }
   ],
   "source": [
    "a_ttx=a.loc[a['if_ttx']=='TTX']\n",
    "print('without TTX, the domain parameter:\\n')\n",
    "print('Mean of area is:',a_ttx.loc[:,'Area'].mean())\n",
    "print('Std of area is:',a_ttx.loc[:,'Area'].std())\n",
    "a_ttx.describe()"
   ]
  },
  {
   "cell_type": "code",
   "execution_count": 77,
   "metadata": {},
   "outputs": [
    {
     "data": {
      "image/png": "[encoded data removed]",
      "text/plain": [
       "<Figure size 216x288 with 1 Axes>"
      ]
     },
     "metadata": {
      "needs_background": "light"
     },
     "output_type": "display_data"
    }
   ],
   "source": [
    "fig, ax = plt.subplots(figsize=(3,4))\n",
    "sns.boxplot(x = None, y = 'Area',data = a_ttx)\n",
    "sns.swarmplot(x = None, y = 'Area',data = a_ttx,color=\"white\", edgecolor=\"grey\", linewidth=1)\n",
    "# ax.set(title = '', xlabel = \"\", ylabel='Area (um^2)')\n",
    "sns.despine() #magic to remove the x-top , and y-right axis\n",
    "#g.set(xticks=(np.arange(1,80,30))) #xlim=(0,80),ylim=(0,30000),\n",
    "plt.ylabel('Domain Area (um^2)',size=20)#,fontname=\"Arial\"\n",
    "ax.tick_params(axis=\"x\", labelsize=18)\n",
    "ax.tick_params(axis=\"y\", labelsize=14)\n",
    "# You can specify a rotation for the tick labels in degrees or with keywords.\n",
    "# plt.xticks(rotation='vertical')\n",
    "# Pad margins so that markers don't get clipped by the axes\n",
    "#plt.margins(0.2)\n",
    "# Tweak spacing to prevent clipping of tick-labels\n",
    "#plt.subplots_adjust(bottom=0.15)\n",
    "plt.ylim(0,3500)\n",
    "plt.tight_layout()\n",
    "plt.savefig(\"ttx_domain_area.png\",dpi=300,)"
   ]
  },
  {
   "cell_type": "code",
   "execution_count": 79,
   "metadata": {},
   "outputs": [
    {
     "data": {
      "image/png": "[encoded data removed]",
      "text/plain": [
       "<Figure size 288x288 with 1 Axes>"
      ]
     },
     "metadata": {
      "needs_background": "light"
     },
     "output_type": "display_data"
    }
   ],
   "source": [
    "fig, ax = plt.subplots(figsize=(4,4))\n",
    "sns.boxplot(data = a_ttx.loc[:,['Major axis','Minor axis']])\n",
    "sns.swarmplot(data = a_ttx.loc[:,['Major axis','Minor axis']],color=\"white\", edgecolor=\"grey\", linewidth=1)\n",
    "# ax.set(title = '', xlabel = \"\", ylabel='Area (um^2)')\n",
    "sns.despine() #magic to remove the x-top , and y-right axis\n",
    "#g.set(xticks=(np.arange(1,80,30))) #xlim=(0,80),ylim=(0,30000),\n",
    "plt.ylabel('Domain diameter (um)',size=20)#,fontname=\"Arial\"\n",
    "ax.tick_params(axis=\"x\", labelsize=18)\n",
    "ax.tick_params(axis=\"y\", labelsize=18)\n",
    "plt.ylim(0,150)\n",
    "# You can specify a rotation for the tick labels in degrees or with keywords.\n",
    "# plt.xticks(rotation='vertical')\n",
    "# Pad margins so that markers don't get clipped by the axes\n",
    "#plt.margins(0.2)\n",
    "# Tweak spacing to prevent clipping of tick-labels\n",
    "#plt.subplots_adjust(bottom=0.15)\n",
    "plt.tight_layout()\n",
    "plt.savefig(\"ttx_domain_diameter.png\",dpi=300,)"
   ]
  },
  {
   "cell_type": "code",
   "execution_count": null,
   "metadata": {},
   "outputs": [],
   "source": []
  },
  {
   "cell_type": "code",
   "execution_count": null,
   "metadata": {},
   "outputs": [],
   "source": []
  },
  {
   "cell_type": "code",
   "execution_count": null,
   "metadata": {},
   "outputs": [],
   "source": []
  },
  {
   "cell_type": "code",
   "execution_count": null,
   "metadata": {},
   "outputs": [],
   "source": []
  },
  {
   "cell_type": "code",
   "execution_count": null,
   "metadata": {},
   "outputs": [],
   "source": []
  },
  {
   "cell_type": "code",
   "execution_count": null,
   "metadata": {},
   "outputs": [],
   "source": []
  },
  {
   "cell_type": "code",
   "execution_count": null,
   "metadata": {},
   "outputs": [],
   "source": []
  },
  {
   "cell_type": "code",
   "execution_count": null,
   "metadata": {},
   "outputs": [],
   "source": []
  },
  {
   "cell_type": "code",
   "execution_count": null,
   "metadata": {},
   "outputs": [],
   "source": []
  },
  {
   "cell_type": "code",
   "execution_count": null,
   "metadata": {},
   "outputs": [],
   "source": []
  },
  {
   "cell_type": "code",
   "execution_count": null,
   "metadata": {},
   "outputs": [],
   "source": []
  },
  {
   "cell_type": "code",
   "execution_count": null,
   "metadata": {},
   "outputs": [],
   "source": []
  },
  {
   "cell_type": "code",
   "execution_count": null,
   "metadata": {},
   "outputs": [],
   "source": []
  },
  {
   "cell_type": "code",
   "execution_count": null,
   "metadata": {},
   "outputs": [],
   "source": []
  },
  {
   "cell_type": "code",
   "execution_count": null,
   "metadata": {},
   "outputs": [],
   "source": []
  },
  {
   "cell_type": "code",
   "execution_count": null,
   "metadata": {},
   "outputs": [],
   "source": []
  },
  {
   "cell_type": "code",
   "execution_count": null,
   "metadata": {},
   "outputs": [],
   "source": []
  },
  {
   "cell_type": "code",
   "execution_count": null,
   "metadata": {},
   "outputs": [],
   "source": []
  },
  {
   "cell_type": "code",
   "execution_count": null,
   "metadata": {},
   "outputs": [],
   "source": []
  },
  {
   "cell_type": "code",
   "execution_count": null,
   "metadata": {},
   "outputs": [],
   "source": []
  },
  {
   "cell_type": "code",
   "execution_count": null,
   "metadata": {},
   "outputs": [],
   "source": []
  },
  {
   "cell_type": "code",
   "execution_count": null,
   "metadata": {},
   "outputs": [],
   "source": []
  },
  {
   "cell_type": "code",
   "execution_count": null,
   "metadata": {},
   "outputs": [],
   "source": []
  },
  {
   "cell_type": "code",
   "execution_count": null,
   "metadata": {},
   "outputs": [],
   "source": []
  },
  {
   "cell_type": "code",
   "execution_count": null,
   "metadata": {},
   "outputs": [],
   "source": []
  },
  {
   "cell_type": "code",
   "execution_count": null,
   "metadata": {},
   "outputs": [],
   "source": []
  },
  {
   "cell_type": "code",
   "execution_count": null,
   "metadata": {},
   "outputs": [],
   "source": []
  },
  {
   "cell_type": "code",
   "execution_count": null,
   "metadata": {},
   "outputs": [],
   "source": []
  },
  {
   "cell_type": "code",
   "execution_count": null,
   "metadata": {},
   "outputs": [],
   "source": []
  },
  {
   "cell_type": "code",
   "execution_count": null,
   "metadata": {},
   "outputs": [],
   "source": []
  }
 ],
 "metadata": {
  "kernelspec": {
   "display_name": "Python 3",
   "language": "python",
   "name": "python3"
  },
  "language_info": {
   "codemirror_mode": {
    "name": "ipython",
    "version": 3
   },
   "file_extension": ".py",
   "mimetype": "text/x-python",
   "name": "python",
   "nbconvert_exporter": "python",
   "pygments_lexer": "ipython3",
   "version": "3.7.1"
  }
 },
 "nbformat": 4,
 "nbformat_minor": 2
}
