{
 "cells": [
  {
   "cell_type": "code",
   "execution_count": null,
   "metadata": {},
   "outputs": [],
   "source": []
  },
  {
   "cell_type": "code",
   "execution_count": 1,
   "metadata": {},
   "outputs": [],
   "source": [
    "import matplotlib.pyplot as plt\n",
    "import numpy as np\n",
    "import pandas as pd\n",
    "import seaborn as sns\n",
    "from sklearn import preprocessing"
   ]
  },
  {
   "cell_type": "code",
   "execution_count": 2,
   "metadata": {},
   "outputs": [],
   "source": [
    "def _datacheck_peakdetect(x_axis, y_axis):\n",
    "    if x_axis is None:\n",
    "        x_axis = range(len(y_axis))\n",
    "    \n",
    "    if len(y_axis) != len(x_axis):\n",
    "        raise ValueError( \n",
    "                \"Input vectors y_axis and x_axis must have same length\")\n",
    "    \n",
    "    #needs to be a numpy array\n",
    "    y_axis = np.array(y_axis)\n",
    "    x_axis = np.array(x_axis)\n",
    "    return x_axis, y_axis"
   ]
  },
  {
   "cell_type": "code",
   "execution_count": 3,
   "metadata": {},
   "outputs": [],
   "source": [
    "def peakdetect(y_axis, x_axis = None, lookahead = 200, delta=0):\n",
    "    \"\"\"\n",
    "    Converted from/based on a MATLAB script at: \n",
    "    http://billauer.co.il/peakdet.html\n",
    "    ##note li zhou: also cite Converted from MATLAB script at http://billauer.co.il/peakdet.html\n",
    "    function for detecting local maxima and minima in a signal.\n",
    "    Discovers peaks by searching for values which are surrounded by lower\n",
    "    or larger values for maxima and minima respectively\n",
    "    \n",
    "    keyword arguments:\n",
    "    y_axis -- A list containing the signal over which to find peaks\n",
    "    \n",
    "    x_axis -- A x-axis whose values correspond to the y_axis list and is used\n",
    "        in the return to specify the position of the peaks. If omitted an\n",
    "        index of the y_axis is used.\n",
    "        (default: None)\n",
    "    \n",
    "    lookahead -- distance to look ahead from a peak candidate to determine if\n",
    "        it is the actual peak\n",
    "        (default: 200) \n",
    "        '(samples / period) / f' where '4 >= f >= 1.25' might be a good value\n",
    "    \n",
    "    delta -- this specifies a minimum difference between a peak and\n",
    "        the following points, before a peak may be considered a peak. Useful\n",
    "        to hinder the function from picking up false peaks towards to end of\n",
    "        the signal. To work well delta should be set to delta >= RMSnoise * 5.\n",
    "        (default: 0)\n",
    "            When omitted delta function causes a 20% decrease in speed.\n",
    "            When used Correctly it can double the speed of the function\n",
    "    \n",
    "    \n",
    "    return: two lists [max_peaks, min_peaks] containing the positive and\n",
    "        negative peaks respectively. Each cell of the lists contains a tuple\n",
    "        of: (position, peak_value) \n",
    "        to get the average peak value do: np.mean(max_peaks, 0)[1] on the\n",
    "        results to unpack one of the lists into x, y coordinates do: \n",
    "        x, y = zip(*max_peaks)\n",
    "    \"\"\"\n",
    "    max_peaks = []\n",
    "    min_peaks = []\n",
    "    dump = []   #Used to pop the first hit which almost always is false\n",
    "       \n",
    "    # check input data\n",
    "    x_axis, y_axis = _datacheck_peakdetect(x_axis, y_axis)\n",
    "    # store data length for later use\n",
    "    length = len(y_axis)\n",
    "    \n",
    "    \n",
    "    #perform some checks\n",
    "    if lookahead < 1:\n",
    "        raise ValueError(\"Lookahead must be '1' or above in value\")\n",
    "    if not (np.isscalar(delta) and delta >= 0):\n",
    "        raise ValueError(\"delta must be a positive number\")\n",
    "    \n",
    "    #maxima and minima candidates are temporarily stored in\n",
    "    #mx and mn respectively\n",
    "    mn, mx = np.Inf, -np.Inf\n",
    "    \n",
    "    #Only detect peak if there is 'lookahead' amount of points after it\n",
    "    for index, (x, y) in enumerate(zip(x_axis[:-lookahead], \n",
    "                                        y_axis[:-lookahead])):\n",
    "        if y > mx:\n",
    "            mx = y\n",
    "            mxpos = x\n",
    "        if y < mn:\n",
    "            mn = y\n",
    "            mnpos = x\n",
    "        \n",
    "        ####look for max####\n",
    "        if y < mx-delta and mx != np.Inf:\n",
    "            #Maxima peak candidate found\n",
    "            #look ahead in signal to ensure that this is a peak and not jitter\n",
    "            if y_axis[index:index+lookahead].max() < mx:\n",
    "                max_peaks.append([mxpos, mx])\n",
    "                dump.append(True)\n",
    "                #set algorithm to only find minima now\n",
    "                mx = np.Inf\n",
    "                mn = np.Inf\n",
    "                if index+lookahead >= length:\n",
    "                    #end is within lookahead no more peaks can be found\n",
    "                    break\n",
    "                continue\n",
    "            #else:  #slows shit down this does\n",
    "            #    mx = ahead\n",
    "            #    mxpos = x_axis[np.where(y_axis[index:index+lookahead]==mx)]\n",
    "        \n",
    "        ####look for min####\n",
    "        if y > mn+delta and mn != -np.Inf:\n",
    "            #Minima peak candidate found \n",
    "            #look ahead in signal to ensure that this is a peak and not jitter\n",
    "            if y_axis[index:index+lookahead].min() > mn:\n",
    "                min_peaks.append([mnpos, mn])\n",
    "                dump.append(False)\n",
    "                #set algorithm to only find maxima now\n",
    "                mn = -np.Inf\n",
    "                mx = -np.Inf\n",
    "                if index+lookahead >= length:\n",
    "                    #end is within lookahead no more peaks can be found\n",
    "                    break\n",
    "            #else:  #slows shit down this does\n",
    "            #    mn = ahead\n",
    "            #    mnpos = x_axis[np.where(y_axis[index:index+lookahead]==mn)]\n",
    "    \n",
    "    \n",
    "    #Remove the false hit on the first value of the y_axis\n",
    "    try:\n",
    "        if dump[0]:\n",
    "            max_peaks.pop(0)\n",
    "        else:\n",
    "            min_peaks.pop(0)\n",
    "        del dump\n",
    "    except IndexError:\n",
    "        #no peaks were found, should the function return empty lists?\n",
    "        pass\n",
    "        \n",
    "    return [max_peaks, min_peaks]"
   ]
  },
  {
   "cell_type": "code",
   "execution_count": null,
   "metadata": {
    "scrolled": true
   },
   "outputs": [],
   "source": []
  },
  {
   "cell_type": "code",
   "execution_count": 4,
   "metadata": {},
   "outputs": [
    {
     "data": {
      "image/png": "[encoded data removed]",
      "text/plain": [
       "<Figure size 576x432 with 1 Axes>"
      ]
     },
     "metadata": {
      "needs_background": "light"
     },
     "output_type": "display_data"
    }
   ],
   "source": [
    "# need to run the above def peakdet\n",
    "from matplotlib.pyplot import plot, scatter, show\n",
    "import matplotlib.pyplot as plt\n",
    "import numpy as np\n",
    "from numpy import array\n",
    "\n",
    "SelectCell = 49\n",
    "\n",
    "Cal_temp_C = np.load('Cal_temp_C.npy')\n",
    "idx_components = np.load('cnm.estimates.idx_components.npy')\n",
    "Cal_temp_C = Cal_temp_C[idx_components] #select good trace\n",
    "\n",
    "x = Cal_temp_C[:,:]#slicing the pharmacology time, sampling at 1 Hz. \n",
    "standardized_X = preprocessing.normalize(x,norm = \"l2\", axis=1) # row norm, 'L2' not '12'\n",
    "\n",
    "series = standardized_X[SelectCell,:]\n",
    "\n",
    "maxtab, mintab = peakdetect(y_axis=series, x_axis = None, lookahead = 1, delta=0.01)\n",
    "\n",
    "fig,ax = plt.subplots(figsize=(8,6))\n",
    "plot(series)\n",
    "# scatter(maxtab[:,0], maxtab[:,1], color='blue')\n",
    "# scatter(mintab[:,0], mintab[:,1], color='red')\n",
    "scatter(np.array(maxtab)[:,0], np.array(maxtab)[:,1], color='blue')\n",
    "scatter(np.array(mintab)[:,0], np.array(mintab)[:,1], color='red')\n",
    "# plt.savefig('peaktest.png',dpi=300)\n",
    "show()\n",
    "# anp=np.array(maxtab)  \n",
    "# anp"
   ]
  },
  {
   "cell_type": "code",
   "execution_count": 5,
   "metadata": {},
   "outputs": [],
   "source": [
    "def calcium_peaks(data):\n",
    "    ls = []\n",
    "    row,col = data.shape\n",
    "    for i in range(0,row):\n",
    "        row_data=data[i,:]\n",
    "        maxtab, mintab = peakdetect(y_axis=row_data, x_axis = None, lookahead = 1, delta=0.01)\n",
    "        ls.append(maxtab)\n",
    "\n",
    "    return ls"
   ]
  },
  {
   "cell_type": "code",
   "execution_count": 6,
   "metadata": {},
   "outputs": [
    {
     "name": "stdout",
     "output_type": "stream",
     "text": [
      "87\n"
     ]
    },
    {
     "data": {
      "text/plain": [
       "[[270, 0.009434766602239367],\n",
       " [344, 0.022819803620277017],\n",
       " [472, 0.015194826183756931],\n",
       " [527, 0.09311006139431902],\n",
       " [587, 0.09339245341125293],\n",
       " [652, 0.04528368928099162],\n",
       " [703, 0.04424665571036929],\n",
       " [887, 0.028440305213544046],\n",
       " [938, 0.02551714078934444],\n",
       " [1090, 0.02641471279719363],\n",
       " [1189, 0.02660187282944563],\n",
       " [1291, 0.023062495024309005],\n",
       " [1772, 0.04018917835720727]]"
      ]
     },
     "execution_count": 6,
     "metadata": {},
     "output_type": "execute_result"
    }
   ],
   "source": [
    "\n",
    "Cal_temp_C = np.load('Cal_temp_C.npy')\n",
    "idx_components = np.load('cnm.estimates.idx_components.npy')\n",
    "Cal_temp_C = Cal_temp_C[idx_components] #select good trace\n",
    "\n",
    "x = Cal_temp_C[:,:]#slicing the pharmacology time, sampling at 1 Hz. \n",
    "standardized_X = preprocessing.normalize(x,norm = \"l2\", axis=1) # row norm, 'L2' not '12'\n",
    "\n",
    "testdata = standardized_X\n",
    "testresult = calcium_peaks(testdata)\n",
    "    \n",
    "print(len(testresult))\n",
    "testresult[0]"
   ]
  },
  {
   "cell_type": "code",
   "execution_count": 7,
   "metadata": {},
   "outputs": [
    {
     "name": "stdout",
     "output_type": "stream",
     "text": [
      "[1, 3, 0, 0, 1, 0, 2, 0, 7, 0, 0, 0, 1, 1, 1, 1, 1, 1, 0, 0, 0, 2, 4, 1, 0, 0, 1, 0, 0, 0, 0, 0, 3, 1, 1, 0, 2, 0, 1, 0, 0, 0, 1, 1, 0, 0, 1, 0, 5, 6, 0, 0, 0, 2, 1, 1, 1, 2, 0, 2, 2, 1, 0, 1, 1, 1, 2, 0, 0, 0, 1, 0, 0, 0, 1, 0, 1, 2, 0, 1, 0, 2, 2, 0, 0, 5, 0]\n",
      "0.9425287356321839\n",
      "-------------\n",
      "[2, 0, 1, 0, 0, 0, 0, 1, 1, 1, 0, 1, 5, 5, 6, 3, 1, 1, 2, 1, 3, 2, 6, 0, 1, 0, 2, 0, 0, 1, 1, 1, 2, 3, 3, 2, 2, 3, 1, 4, 0, 2, 0, 1, 1, 1, 6, 3, 2, 3, 1, 0, 0, 0, 1, 0, 1, 0, 0, 1, 3, 1, 0, 2, 0, 4, 2, 0, 2, 0, 3, 2, 1, 0, 5, 1, 1, 1, 0, 2, 2, 1, 1, 4, 0, 4, 1]\n",
      "1.5402298850574712\n"
     ]
    }
   ],
   "source": [
    "before = []\n",
    "after = []\n",
    "for x in range(0,len(testresult)):\n",
    "    i100_300 =0\n",
    "    i400_600 =0\n",
    "    for i in testresult[x]:\n",
    "\n",
    "        if 400<i[0]<500:\n",
    "            i100_300+=1\n",
    "        if 500<i[0]<600:\n",
    "            i400_600+=1\n",
    "    before.append(i100_300)\n",
    "    after.append(i400_600)\n",
    "\n",
    "print(before)\n",
    "print(np.mean(before))\n",
    "print('-------------')\n",
    "print(after)\n",
    "print(np.mean(after))"
   ]
  },
  {
   "cell_type": "code",
   "execution_count": 8,
   "metadata": {},
   "outputs": [
    {
     "name": "stdout",
     "output_type": "stream",
     "text": [
      "(array([ 8, 48, 49, 85], dtype=int64),)\n"
     ]
    }
   ],
   "source": [
    "a = np.array(before)\n",
    "np.where(a > 5)\n",
    "a_drop = np.where(a >= 5)\n",
    "print(a_drop)\n",
    "# dropls = a_drop[0].tolist()\n",
    "#preserve 46,84,111,228,235,243,246,249\n",
    "dropls =[8,49]\n",
    "drop = dropls.copy()"
   ]
  },
  {
   "cell_type": "code",
   "execution_count": 9,
   "metadata": {},
   "outputs": [
    {
     "data": {
      "image/png": "[encoded data removed]",
      "text/plain": [
       "<Figure size 216x252 with 1 Axes>"
      ]
     },
     "metadata": {
      "needs_background": "light"
     },
     "output_type": "display_data"
    }
   ],
   "source": [
    "#data preparation: list to dataframe, transpose, and wide_to _long format\n",
    "\n",
    "df1 = pd.DataFrame(before, columns = ['Baseline'])\n",
    "df2 = pd.DataFrame(after,columns = ['TCB-2'])\n",
    "df1.drop(index=dropls, inplace=True)\n",
    "df2.drop(index=dropls, inplace=True)\n",
    "df = pd.concat([df1,df2],axis = 1)\n",
    "# print(df)\n",
    "# print(df.head())\n",
    "#df = pd.DataFrame([before,after],index=['before','after'])\n",
    "\n",
    "\n",
    "#df = df.T # or df.transpose()  # no need here\n",
    "\n",
    "df = pd.melt(df,value_vars=['Baseline', 'TCB-2']) # wide_to _long format\n",
    "df.tail()\n",
    "\n",
    "\n",
    "#violin plot and \n",
    "import seaborn as sns\n",
    "\n",
    "fig,ax = plt.subplots(figsize=(3,3.5))\n",
    "\n",
    "ax=sns.boxplot(x=\"variable\", y=\"value\", data=df);\n",
    "# ax=sns.swarmplot(x=\"variable\", y=\"value\", data=df, color=\"white\", edgecolor=\"grey\", linewidth=0.5,size=6,dodge=True)\n",
    "ax.set(title = '', xlabel = \"\", ylabel='Calcium events (100 sec)',)\n",
    "sns.despine() #magic to remove the x-top , and y-right axis\n",
    "plt.ylabel('Calcium events (100 sec)',fontsize=16)\n",
    "\n",
    "plt.xticks(fontsize= 18)\n",
    "plt.yticks(fontsize= 18)\n",
    "\n",
    "plt.tight_layout()\n",
    "# ax.set(yscale=\"log\")\n",
    "plt.savefig(\"box_TCB2_curated.png\",dpi=300)"
   ]
  },
  {
   "cell_type": "code",
   "execution_count": 27,
   "metadata": {
    "scrolled": true
   },
   "outputs": [
    {
     "data": {
      "image/png": "[encoded data removed]",
      "text/plain": [
       "<Figure size 216x252 with 1 Axes>"
      ]
     },
     "metadata": {
      "needs_background": "light"
     },
     "output_type": "display_data"
    }
   ],
   "source": [
    "fig,ax = plt.subplots(figsize=(3,3.5))\n",
    "\n",
    "ax=sns.barplot(x=\"variable\", y=\"value\", data=df);\n",
    "#ax=sns.swarmplot(x=\"variable\", y=\"value\", data=df, color=\"white\", edgecolor=\"grey\", linewidth=0.5,size=6,dodge=True)\n",
    "ax.set(title = '', xlabel = \"\", ylabel='Calcium events (100 s)')\n",
    "\n",
    "plt.yticks(range(0,3,1))\n",
    "plt.ylabel('Calcium events (100 sec)',fontsize=16)\n",
    "\n",
    "plt.xticks(fontsize= 18)\n",
    "plt.yticks(fontsize= 18)\n",
    "sns.despine() #magic to remove the x-top , and y-right axis\n",
    "\n",
    "plt.tight_layout()\n",
    "plt.savefig(\"bar_TCB2_curated.png\",dpi=300)\n",
    "\n"
   ]
  },
  {
   "cell_type": "code",
   "execution_count": 31,
   "metadata": {},
   "outputs": [
    {
     "data": {
      "image/png": "[encoded data removed]",
      "text/plain": [
       "<Figure size 216x252 with 1 Axes>"
      ]
     },
     "metadata": {
      "needs_background": "light"
     },
     "output_type": "display_data"
    },
    {
     "data": {
      "image/png": "[encoded data removed]",
      "text/plain": [
       "<Figure size 216x252 with 1 Axes>"
      ]
     },
     "metadata": {
      "needs_background": "light"
     },
     "output_type": "display_data"
    },
    {
     "data": {
      "image/png": "[encoded data removed]",
      "text/plain": [
       "<Figure size 216x252 with 1 Axes>"
      ]
     },
     "metadata": {
      "needs_background": "light"
     },
     "output_type": "display_data"
    }
   ],
   "source": [
    "fig,ax = plt.subplots(figsize=(3,3.5))\n",
    "\n",
    "ax=sns.barplot(x=\"variable\", y=\"value\", data=df,ci=95);\n",
    "#ax=sns.swarmplot(x=\"variable\", y=\"value\", data=df, color=\"white\", edgecolor=\"grey\", linewidth=0.5,size=6,dodge=True)\n",
    "ax.set(title = '', xlabel = \"\", ylabel='Calcium events (100 s)')\n",
    "\n",
    "plt.yticks(range(0,3,1))\n",
    "plt.ylabel('Calcium events (100 sec)',fontsize=16)\n",
    "\n",
    "plt.xticks(fontsize= 18)\n",
    "plt.yticks(fontsize= 18)\n",
    "sns.despine() #magic to remove the x-top , and y-right axis\n",
    "\n",
    "plt.tight_layout()\n",
    "plt.savefig(\"bar_TCB2_curated_ci95.png\",dpi=300)\n",
    "\n"
   ]
  },
  {
   "cell_type": "code",
   "execution_count": 68,
   "metadata": {},
   "outputs": [
    {
     "data": {
      "image/png": "[encoded data removed]",
      "text/plain": [
       "<Figure size 432x288 with 1 Axes>"
      ]
     },
     "metadata": {
      "needs_background": "light"
     },
     "output_type": "display_data"
    }
   ],
   "source": [
    "x = [0,5,9,10,15]\n",
    "y = [0,1,2,3,4]\n",
    "plt.plot(x,y)\n",
    "plt.xticks(np.arange(5, 10, 2))\n",
    "plt.show()"
   ]
  },
  {
   "cell_type": "code",
   "execution_count": null,
   "metadata": {},
   "outputs": [],
   "source": []
  },
  {
   "cell_type": "code",
   "execution_count": 49,
   "metadata": {},
   "outputs": [
    {
     "name": "stdout",
     "output_type": "stream",
     "text": [
      "Ttest_relResult(statistic=-4.0228456016868055, pvalue=0.0001251823177106555)\n"
     ]
    }
   ],
   "source": [
    "from scipy import stats\n",
    "print(stats.ttest_rel(df[df[\"variable\"]=='Baseline']['value'],df[df[\"variable\"]=='TCB-2']['value'])) #independent, paired t test"
   ]
  },
  {
   "cell_type": "code",
   "execution_count": 48,
   "metadata": {},
   "outputs": [
    {
     "data": {
      "text/plain": [
       "0     1\n",
       "1     3\n",
       "2     0\n",
       "3     0\n",
       "4     1\n",
       "     ..\n",
       "80    2\n",
       "81    0\n",
       "82    0\n",
       "83    5\n",
       "84    0\n",
       "Name: value, Length: 85, dtype: int64"
      ]
     },
     "execution_count": 48,
     "metadata": {},
     "output_type": "execute_result"
    }
   ],
   "source": [
    "df[df[\"variable\"]=='Baseline']['value']"
   ]
  },
  {
   "cell_type": "code",
   "execution_count": null,
   "metadata": {},
   "outputs": [],
   "source": []
  },
  {
   "cell_type": "code",
   "execution_count": null,
   "metadata": {},
   "outputs": [],
   "source": []
  },
  {
   "cell_type": "code",
   "execution_count": 18,
   "metadata": {
    "scrolled": true
   },
   "outputs": [
    {
     "name": "stdout",
     "output_type": "stream",
     "text": [
      "Ttest_relResult(statistic=-4.177612764730694, pvalue=7.043674443204742e-05)\n"
     ]
    },
    {
     "data": {
      "image/png": "[encoded data removed]",
      "text/plain": [
       "<Figure size 576x432 with 1 Axes>"
      ]
     },
     "metadata": {
      "needs_background": "light"
     },
     "output_type": "display_data"
    }
   ],
   "source": [
    "import matplotlib.pyplot as plt\n",
    "import numpy as np\n",
    "import pandas as pd\n",
    "import seaborn as sns\n",
    "from sklearn import preprocessing\n",
    "from numpy import trapz\n",
    "\n",
    "\n",
    "Cal_temp_C = np.load('Cal_temp_C.npy')\n",
    "idx_components = np.load('cnm.estimates.idx_components.npy')\n",
    "Cal_temp_C = Cal_temp_C[idx_components] #select good trace\n",
    "\n",
    "x = Cal_temp_C[:,:]#slicing the pharmacology time, sampling at 1 Hz. \n",
    "standardized_X = preprocessing.normalize(x,norm = \"l2\", axis=1) # row norm\n",
    "\n",
    "ab= standardized_X[:,400:500]\n",
    "ap= standardized_X[:,500:600]\n",
    "\n",
    "#print(ab.shape)\n",
    "\n",
    "def trapz_area(row):\n",
    "    return trapz(row, dx=1)\n",
    "\n",
    "dfab = pd.DataFrame(ab)\n",
    "dfap = pd.DataFrame(ap)\n",
    "\n",
    "\n",
    "\n",
    "#dfap = pd.DataFrame(ap)\n",
    "dfab['area']=dfab.apply(trapz_area,axis=1)\n",
    "dfap['area']=dfap.apply(trapz_area,axis=1)\n",
    "\n",
    "#print(dfap.head())\n",
    "df1=pd.DataFrame()\n",
    "df1['Before']=dfab['area']\n",
    "df1['After']=dfap['area']\n",
    "df = pd.melt(df1)\n",
    "dfhold2=df.copy()\n",
    "\n",
    "\n",
    "\n",
    "sns.set_context(\"talk\") #paper, notebook, talk, and poster\n",
    "#sns.set_style(\"white\",{'ytick.left':True,'xtick.bottom': True,'ytick.right':False})\n",
    "\n",
    "ax,fig = plt.subplots(figsize=(8,6))\n",
    "\n",
    "ax=sns.boxplot(x=\"variable\", y=\"value\", data=df );\n",
    "# ax=sns.swarmplot(x=\"variable\", y=\"value\", data=df, color=\"white\", edgecolor=\"grey\", linewidth=1)\n",
    "ax.set(title = '', xlabel = \"\", ylabel='Normalized area')\n",
    "sns.despine() #magic to remove the x-top , and y-right axis\n",
    "\n",
    "# plt.savefig(\"box_second_pharma_p=.png\",dpi=300)\n",
    "\n",
    "\n",
    "from scipy import stats\n",
    "print(stats.ttest_rel(df1['Before'],df1['After'])) #independent, paired t test"
   ]
  },
  {
   "cell_type": "code",
   "execution_count": 19,
   "metadata": {},
   "outputs": [
    {
     "data": {
      "image/png": "[encoded data removed]",
      "text/plain": [
       "<Figure size 288x216 with 1 Axes>"
      ]
     },
     "metadata": {
      "needs_background": "light"
     },
     "output_type": "display_data"
    }
   ],
   "source": [
    "fig,ax = plt.subplots(figsize=(4,3))\n",
    "\n",
    "ax=sns.barplot(x=\"variable\", y=\"value\", data=df);\n",
    "#ax=sns.swarmplot(x=\"variable\", y=\"value\", data=df, color=\"white\", edgecolor=\"grey\", linewidth=0.5,size=6,dodge=True)\n",
    "ax.set(title = '', xlabel = \"\", ylabel='Calcium events (5 min)')\n",
    "sns.despine() #magic to remove the x-top , and y-right axis\n",
    "plt.tight_layout()\n",
    "# plt.savefig(\"bar_TTX_curated.png\",dpi=300)"
   ]
  },
  {
   "cell_type": "code",
   "execution_count": null,
   "metadata": {},
   "outputs": [],
   "source": [
    "fig,ax = plt.subplots(figsize=(4,3))\n",
    "\n",
    "ax=sns.barplot(x=\"variable\", y=\"value\", data=df);\n",
    "#ax=sns.swarmplot(x=\"variable\", y=\"value\", data=df, color=\"white\", edgecolor=\"grey\", linewidth=0.5,size=6,dodge=True)\n",
    "ax.set(title = '', xlabel = \"\", ylabel='Calcium events (5 min)')\n",
    "sns.despine() #magic to remove the x-top , and y-right axis\n",
    "plt.tight_layout()\n",
    "# plt.savefig(\"bar_TTX_curated.png\",dpi=300)"
   ]
  }
 ],
 "metadata": {
  "kernelspec": {
   "display_name": "Python 3",
   "language": "python",
   "name": "python3"
  },
  "language_info": {
   "codemirror_mode": {
    "name": "ipython",
    "version": 3
   },
   "file_extension": ".py",
   "mimetype": "text/x-python",
   "name": "python",
   "nbconvert_exporter": "python",
   "pygments_lexer": "ipython3",
   "version": "3.7.1"
  }
 },
 "nbformat": 4,
 "nbformat_minor": 2
}
