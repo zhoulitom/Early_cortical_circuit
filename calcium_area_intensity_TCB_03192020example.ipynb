{
 "cells": [
  {
   "cell_type": "code",
   "execution_count": null,
   "metadata": {},
   "outputs": [],
   "source": []
  },
  {
   "cell_type": "code",
   "execution_count": 32,
   "metadata": {},
   "outputs": [
    {
     "name": "stdout",
     "output_type": "stream",
     "text": [
      "Ttest_relResult(statistic=-1.9590847978709398, pvalue=0.10741368937680572)\n"
     ]
    },
    {
     "data": {
      "image/png": "[encoded data removed]",
      "text/plain": [
       "<Figure size 576x432 with 1 Axes>"
      ]
     },
     "metadata": {
      "needs_background": "light"
     },
     "output_type": "display_data"
    }
   ],
   "source": [
    "import matplotlib.pyplot as plt\n",
    "import numpy as np\n",
    "import pandas as pd\n",
    "import seaborn as sns\n",
    "from sklearn import preprocessing\n",
    "from numpy import trapz\n",
    "\n",
    "\n",
    "Cal_temp_C = np.load('Cal_temp_C.npy')\n",
    "idx_components = np.load('cnm.estimates.idx_components.npy')\n",
    "idx_components=np.array([ 0,  2,  3,  4,  5, 12])\n",
    "Cal_temp_C = Cal_temp_C[idx_components] #select good trace\n",
    "\n",
    "\n",
    "x = Cal_temp_C[:,:]#slicing the pharmacology time, sampling at 1 Hz. \n",
    "standardized_X = preprocessing.normalize(x,norm = \"l2\", axis=1) # row norm\n",
    "\n",
    "ab= standardized_X[:,400:700]\n",
    "ap= standardized_X[:,700:1000]\n",
    "\n",
    "#print(ab.shape)\n",
    "\n",
    "def trapz_area(row):\n",
    "    return trapz(row, dx=1)\n",
    "\n",
    "dfab = pd.DataFrame(ab)\n",
    "dfap = pd.DataFrame(ap)\n",
    "\n",
    "\n",
    "\n",
    "#dfap = pd.DataFrame(ap)\n",
    "dfab['area']=dfab.apply(trapz_area,axis=1)\n",
    "dfap['area']=dfap.apply(trapz_area,axis=1)\n",
    "\n",
    "#print(dfap.head())\n",
    "df1=pd.DataFrame()\n",
    "df1['Before']=dfab['area']\n",
    "df1['After']=dfap['area']\n",
    "df = pd.melt(df1)\n",
    "dfhold2=df.copy()\n",
    "\n",
    "sns.set_context(\"talk\") #paper, notebook, talk, and poster\n",
    "#sns.set_style(\"white\",{'ytick.left':True,'xtick.bottom': True,'ytick.right':False})\n",
    "\n",
    "ax,fig = plt.subplots(figsize=(8,6))\n",
    "\n",
    "ax=sns.boxplot(x=\"variable\", y=\"value\", data=df );\n",
    "ax=sns.swarmplot(x=\"variable\", y=\"value\", data=df, color=\"white\", edgecolor=\"grey\", linewidth=1)\n",
    "ax.set(title = '', xlabel = \"\", ylabel='Normalized area')\n",
    "sns.despine() #magic to remove the x-top , and y-right axis\n",
    "\n",
    "plt.savefig(\"box_second_pharma_p=.png\",dpi=300)\n",
    "\n",
    "\n",
    "from scipy import stats\n",
    "print(stats.ttest_rel(df1['Before'],df1['After'])) #independent, paired t test"
   ]
  },
  {
   "cell_type": "code",
   "execution_count": 33,
   "metadata": {},
   "outputs": [
    {
     "data": {
      "text/plain": [
       "count    6.000000\n",
       "mean     2.487507\n",
       "std      2.547767\n",
       "min     -0.008337\n",
       "25%      1.017403\n",
       "50%      2.032640\n",
       "75%      2.722903\n",
       "max      7.236118\n",
       "Name: Before, dtype: float64"
      ]
     },
     "execution_count": 33,
     "metadata": {},
     "output_type": "execute_result"
    }
   ],
   "source": [
    "df1['Before'].describe()"
   ]
  },
  {
   "cell_type": "code",
   "execution_count": 34,
   "metadata": {},
   "outputs": [
    {
     "data": {
      "text/plain": [
       "count     6.000000\n",
       "mean      6.011985\n",
       "std       4.627548\n",
       "min       0.276843\n",
       "25%       2.657121\n",
       "50%       5.876986\n",
       "75%       9.211094\n",
       "max      12.134797\n",
       "Name: After, dtype: float64"
      ]
     },
     "execution_count": 34,
     "metadata": {},
     "output_type": "execute_result"
    }
   ],
   "source": [
    "df1['After'].describe()"
   ]
  },
  {
   "cell_type": "code",
   "execution_count": 35,
   "metadata": {},
   "outputs": [
    {
     "name": "stdout",
     "output_type": "stream",
     "text": [
      "1.416871516654588\n"
     ]
    }
   ],
   "source": [
    "print((df1['After'].mean()-df1['Before'].mean())/df1['Before'].mean())"
   ]
  },
  {
   "cell_type": "code",
   "execution_count": null,
   "metadata": {},
   "outputs": [],
   "source": []
  },
  {
   "cell_type": "code",
   "execution_count": null,
   "metadata": {},
   "outputs": [],
   "source": []
  },
  {
   "cell_type": "code",
   "execution_count": null,
   "metadata": {},
   "outputs": [],
   "source": []
  },
  {
   "cell_type": "code",
   "execution_count": null,
   "metadata": {},
   "outputs": [],
   "source": []
  }
 ],
 "metadata": {
  "kernelspec": {
   "display_name": "Python 3",
   "language": "python",
   "name": "python3"
  },
  "language_info": {
   "codemirror_mode": {
    "name": "ipython",
    "version": 3
   },
   "file_extension": ".py",
   "mimetype": "text/x-python",
   "name": "python",
   "nbconvert_exporter": "python",
   "pygments_lexer": "ipython3",
   "version": "3.6.7"
  }
 },
 "nbformat": 4,
 "nbformat_minor": 2
}
