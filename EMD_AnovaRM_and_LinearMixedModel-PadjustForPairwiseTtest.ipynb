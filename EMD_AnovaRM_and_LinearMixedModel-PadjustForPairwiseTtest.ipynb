{
 "cells": [
  {
   "cell_type": "code",
   "execution_count": 1,
   "metadata": {},
   "outputs": [],
   "source": [
    "# Citation of the following great resource\n",
    "# https://www.statology.org/repeated-measures-anova-python/\n",
    "# https://jbhender.github.io/Stats506/F18/GP/Group16.html\n",
    "# https://www.statsmodels.org/devel/mixed_linear.html\n",
    "# Author: Li Zhou, 09242020"
   ]
  },
  {
   "cell_type": "code",
   "execution_count": 2,
   "metadata": {},
   "outputs": [],
   "source": [
    "#quick summary:\n",
    "#For AnovaRM interpretations:\n",
    "# the pharmacology affected GFP signal, lead to statistically significant differences in dosages (F(3, 9) = 15.5122, p = 0.0007)\n",
    "# the pharmacology did not significant  affected mcherry signal in dosages (F(3, 9) = 0.4240, p = 0.7405)\n",
    "\n",
    "#For Linear Mixed models interpretations:\n",
    "#GFP beta coef: -2.01, 95%CI[-2.95,-1.07]\n",
    "#mcherry beta coef: 0.08, 95%CI[-1.43, 1.59]"
   ]
  },
  {
   "cell_type": "code",
   "execution_count": 3,
   "metadata": {},
   "outputs": [
    {
     "name": "stdout",
     "output_type": "stream",
     "text": [
      "python version: 3.8.3 | packaged by conda-forge | (default, Jun  1 2020, 16:59:10) [MSC v.1916 64 bit (AMD64)]\n",
      "pandas version: 1.0.5\n",
      "numpy version: 1.18.5\n",
      "statsmodels: 0.11.1\n",
      "sklearn: 0.23.1\n",
      "scipy: 1.3.2\n"
     ]
    }
   ],
   "source": [
    "import numpy as np\n",
    "import pandas as pd\n",
    "import sys\n",
    "import statsmodels\n",
    "import sklearn\n",
    "import scipy\n",
    "print('python version:',sys.version)\n",
    "print(\"pandas version:\",pd.__version__)\n",
    "print(\"numpy version:\",np.__version__)\n",
    "print('statsmodels:',statsmodels.__version__)\n",
    "print('sklearn:',sklearn.__version__)\n",
    "print('scipy:',scipy.__version__)\n",
    "# python version: 3.8.3 | packaged by conda-forge | (default, Jun  1 2020, 16:59:10) [MSC v.1916 64 bit (AMD64)]\n",
    "# pandas version: 1.0.5\n",
    "# numpy version: 1.18.5\n",
    "# statsmodels: 0.11.1\n",
    "# sklearn: 0.23.1\n",
    "# scipy: 1.3.2"
   ]
  },
  {
   "cell_type": "code",
   "execution_count": 4,
   "metadata": {},
   "outputs": [],
   "source": [
    "from sklearn import preprocessing"
   ]
  },
  {
   "cell_type": "code",
   "execution_count": 5,
   "metadata": {
    "scrolled": true
   },
   "outputs": [
    {
     "data": {
      "text/html": [
       "<div>\n",
       "<style scoped>\n",
       "    .dataframe tbody tr th:only-of-type {\n",
       "        vertical-align: middle;\n",
       "    }\n",
       "\n",
       "    .dataframe tbody tr th {\n",
       "        vertical-align: top;\n",
       "    }\n",
       "\n",
       "    .dataframe thead th {\n",
       "        text-align: right;\n",
       "    }\n",
       "</style>\n",
       "<table border=\"1\" class=\"dataframe\">\n",
       "  <thead>\n",
       "    <tr style=\"text-align: right;\">\n",
       "      <th></th>\n",
       "      <th>patient</th>\n",
       "      <th>drug</th>\n",
       "      <th>Normalized</th>\n",
       "    </tr>\n",
       "  </thead>\n",
       "  <tbody>\n",
       "    <tr>\n",
       "      <th>0</th>\n",
       "      <td>p1</td>\n",
       "      <td>Control</td>\n",
       "      <td>0.711548</td>\n",
       "    </tr>\n",
       "    <tr>\n",
       "      <th>1</th>\n",
       "      <td>p1</td>\n",
       "      <td>EMD_10</td>\n",
       "      <td>0.780589</td>\n",
       "    </tr>\n",
       "    <tr>\n",
       "      <th>2</th>\n",
       "      <td>p1</td>\n",
       "      <td>EMD_25</td>\n",
       "      <td>0.241017</td>\n",
       "    </tr>\n",
       "    <tr>\n",
       "      <th>3</th>\n",
       "      <td>p1</td>\n",
       "      <td>EMD_50</td>\n",
       "      <td>0.038849</td>\n",
       "    </tr>\n",
       "    <tr>\n",
       "      <th>4</th>\n",
       "      <td>p2</td>\n",
       "      <td>Control</td>\n",
       "      <td>0.557485</td>\n",
       "    </tr>\n",
       "  </tbody>\n",
       "</table>\n",
       "</div>"
      ],
      "text/plain": [
       "  patient     drug  Normalized\n",
       "0      p1  Control    0.711548\n",
       "1      p1   EMD_10    0.780589\n",
       "2      p1   EMD_25    0.241017\n",
       "3      p1   EMD_50    0.038849\n",
       "4      p2  Control    0.557485"
      ]
     },
     "execution_count": 5,
     "metadata": {},
     "output_type": "execute_result"
    }
   ],
   "source": [
    "#import the data\n",
    "df_GFP = pd.read_csv('1EMD_normalized_ratio.csv')\n",
    "# df_GFP['drug_scaled'] = preprocessing.scale(df_GFP.drug.values)\n",
    "\n",
    "df_GFP.head()"
   ]
  },
  {
   "cell_type": "code",
   "execution_count": 6,
   "metadata": {},
   "outputs": [
    {
     "name": "stdout",
     "output_type": "stream",
     "text": [
      "p = 0.589598\n",
      "The null hypothesis cannot be rejected\n",
      "Probably Gaussian or normal distribution\n"
     ]
    },
    {
     "name": "stderr",
     "output_type": "stream",
     "text": [
      "C:\\Users\\zhouli\\Anaconda3\\envs\\scanpy_sfn-workshop\\lib\\site-packages\\scipy\\stats\\stats.py:1449: UserWarning: kurtosistest only valid for n>=20 ... continuing anyway, n=16\n",
      "  warnings.warn(\"kurtosistest only valid for n>=20 ... continuing \"\n"
     ]
    }
   ],
   "source": [
    "# Test if the sample differs from a normal distribution / Gaussian.\n",
    "from scipy import stats\n",
    "x = df_GFP['Normalized']\n",
    "k2, p = stats.normaltest(x)\n",
    "alpha = 0.05\n",
    "print(\"p = {:g}\".format(p))\n",
    "\n",
    "if p < alpha:  # null hypothesis: samples comes from a normal distribution /Gaussian. \n",
    "    print(\"The null hypothesis can be rejected\")\n",
    "    print('Probably NOT Gaussian')\n",
    "else:\n",
    "    print(\"The null hypothesis cannot be rejected\")\n",
    "    print('Probably Gaussian or normal distribution')"
   ]
  },
  {
   "cell_type": "code",
   "execution_count": 7,
   "metadata": {},
   "outputs": [],
   "source": [
    "#perform the repeated measures ANOVA"
   ]
  },
  {
   "cell_type": "code",
   "execution_count": 8,
   "metadata": {},
   "outputs": [
    {
     "name": "stdout",
     "output_type": "stream",
     "text": [
      "For GFP:\n",
      "              Anova\n",
      "=================================\n",
      "     F Value Num DF Den DF Pr > F\n",
      "---------------------------------\n",
      "drug 18.2632 3.0000 9.0000 0.0004\n",
      "=================================\n",
      "\n",
      "_*_*_*_*_*_*_*_*_*_*_*_*_*_*_*_*_*_*_*_*\n",
      "_*_*_*_*_*_*_*_*_*_*_*_*_*_*_*_*_*_*_*_*\n"
     ]
    }
   ],
   "source": [
    "from statsmodels.stats.anova import AnovaRM\n",
    "#perform the repeated measures ANOVA\n",
    "print('For GFP:')\n",
    "print(AnovaRM(data=df_GFP, depvar='Normalized',aggregate_func='mean', subject='patient', within=['drug']).fit())\n",
    "print('_*'*20)\n",
    "print('_*'*20)\n",
    "#(F(3, 9) = 18.2632, p = 0.0004)"
   ]
  },
  {
   "cell_type": "code",
   "execution_count": 9,
   "metadata": {},
   "outputs": [],
   "source": [
    "# Linear Mixed Effects Models in R and Python\n"
   ]
  },
  {
   "cell_type": "code",
   "execution_count": 10,
   "metadata": {},
   "outputs": [
    {
     "name": "stderr",
     "output_type": "stream",
     "text": [
      "C:\\Users\\zhouli\\Anaconda3\\envs\\scanpy_sfn-workshop\\lib\\site-packages\\statsmodels\\base\\model.py:567: ConvergenceWarning: Maximum Likelihood optimization failed to converge. Check mle_retvals\n",
      "  warn(\"Maximum Likelihood optimization failed to converge. \"\n",
      "C:\\Users\\zhouli\\Anaconda3\\envs\\scanpy_sfn-workshop\\lib\\site-packages\\statsmodels\\regression\\mixed_linear_model.py:2112: ConvergenceWarning: Retrying MixedLM optimization with lbfgs\n",
      "  warnings.warn(\n",
      "C:\\Users\\zhouli\\Anaconda3\\envs\\scanpy_sfn-workshop\\lib\\site-packages\\statsmodels\\base\\model.py:567: ConvergenceWarning: Maximum Likelihood optimization failed to converge. Check mle_retvals\n",
      "  warn(\"Maximum Likelihood optimization failed to converge. \"\n",
      "C:\\Users\\zhouli\\Anaconda3\\envs\\scanpy_sfn-workshop\\lib\\site-packages\\statsmodels\\regression\\mixed_linear_model.py:2112: ConvergenceWarning: Retrying MixedLM optimization with cg\n",
      "  warnings.warn(\n"
     ]
    },
    {
     "name": "stdout",
     "output_type": "stream",
     "text": [
      "the residual probably Gaussian distribution if P is large: 0.4988710284233093\n",
      "\n",
      "p value: Intercept                              9.325537e-09\n",
      "drug[T.EMD_10]                         7.591211e-03\n",
      "drug[T.EMD_25]                         3.860697e-12\n",
      "drug[T.EMD_50]                         9.508538e-10\n",
      "patient Var                            2.327533e-01\n",
      "patient x drug[T.EMD_10] Cov           2.611838e-01\n",
      "drug[T.EMD_10] Var                     2.738664e-01\n",
      "patient x drug[T.EMD_25] Cov           5.669017e-01\n",
      "drug[T.EMD_10] x drug[T.EMD_25] Cov    5.172678e-01\n",
      "drug[T.EMD_25] Var                              NaN\n",
      "patient x drug[T.EMD_50] Cov           2.390261e-01\n",
      "drug[T.EMD_10] x drug[T.EMD_50] Cov    2.943626e-01\n",
      "drug[T.EMD_25] x drug[T.EMD_50] Cov    5.553715e-01\n",
      "drug[T.EMD_50] Var                     2.950040e-01\n",
      "dtype: float64\n"
     ]
    },
    {
     "name": "stderr",
     "output_type": "stream",
     "text": [
      "C:\\Users\\zhouli\\Anaconda3\\envs\\scanpy_sfn-workshop\\lib\\site-packages\\statsmodels\\base\\model.py:567: ConvergenceWarning: Maximum Likelihood optimization failed to converge. Check mle_retvals\n",
      "  warn(\"Maximum Likelihood optimization failed to converge. \"\n",
      "C:\\Users\\zhouli\\Anaconda3\\envs\\scanpy_sfn-workshop\\lib\\site-packages\\statsmodels\\regression\\mixed_linear_model.py:2118: ConvergenceWarning: MixedLM optimization failed, trying a different optimizer may help.\n",
      "  warnings.warn(msg, ConvergenceWarning)\n",
      "C:\\Users\\zhouli\\Anaconda3\\envs\\scanpy_sfn-workshop\\lib\\site-packages\\statsmodels\\regression\\mixed_linear_model.py:2130: ConvergenceWarning: Gradient optimization failed, |grad| = 2.349447\n",
      "  warnings.warn(msg, ConvergenceWarning)\n",
      "C:\\Users\\zhouli\\Anaconda3\\envs\\scanpy_sfn-workshop\\lib\\site-packages\\statsmodels\\regression\\mixed_linear_model.py:2170: ConvergenceWarning: The Hessian matrix at the estimated parameter values is not positive definite.\n",
      "  warnings.warn(msg, ConvergenceWarning)\n",
      "C:\\Users\\zhouli\\Anaconda3\\envs\\scanpy_sfn-workshop\\lib\\site-packages\\statsmodels\\base\\model.py:1354: RuntimeWarning: invalid value encountered in sqrt\n",
      "  bse_ = np.sqrt(np.diag(self.cov_params()))\n",
      "C:\\Users\\zhouli\\Anaconda3\\envs\\scanpy_sfn-workshop\\lib\\site-packages\\scipy\\stats\\_distn_infrastructure.py:901: RuntimeWarning: invalid value encountered in greater\n",
      "  return (a < x) & (x < b)\n",
      "C:\\Users\\zhouli\\Anaconda3\\envs\\scanpy_sfn-workshop\\lib\\site-packages\\scipy\\stats\\_distn_infrastructure.py:901: RuntimeWarning: invalid value encountered in less\n",
      "  return (a < x) & (x < b)\n",
      "C:\\Users\\zhouli\\Anaconda3\\envs\\scanpy_sfn-workshop\\lib\\site-packages\\scipy\\stats\\_distn_infrastructure.py:1892: RuntimeWarning: invalid value encountered in less_equal\n",
      "  cond2 = cond0 & (x <= _a)\n"
     ]
    },
    {
     "data": {
      "text/html": [
       "<table class=\"simpletable\">\n",
       "<tr>\n",
       "       <td>Model:</td>       <td>MixedLM</td> <td>Dependent Variable:</td> <td>Normalized</td>\n",
       "</tr>\n",
       "<tr>\n",
       "  <td>No. Observations:</td>   <td>16</td>          <td>Method:</td>          <td>REML</td>   \n",
       "</tr>\n",
       "<tr>\n",
       "     <td>No. Groups:</td>       <td>4</td>          <td>Scale:</td>          <td>0.0062</td>  \n",
       "</tr>\n",
       "<tr>\n",
       "  <td>Min. group size:</td>     <td>4</td>      <td>Log-Likelihood:</td>     <td>1.7599</td>  \n",
       "</tr>\n",
       "<tr>\n",
       "  <td>Max. group size:</td>     <td>4</td>        <td>Converged:</td>          <td>No</td>    \n",
       "</tr>\n",
       "<tr>\n",
       "  <td>Mean group size:</td>    <td>4.0</td>            <td></td>                <td></td>     \n",
       "</tr>\n",
       "</table>\n",
       "<table class=\"simpletable\">\n",
       "<tr>\n",
       "                   <td></td>                    <th>Coef.</th> <th>Std.Err.</th>    <th>z</th>   <th>P>|z|</th> <th>[0.025</th> <th>0.975]</th>\n",
       "</tr>\n",
       "<tr>\n",
       "  <th>Intercept</th>                            <td>1.000</td>   <td>0.174</td>   <td>5.743</td> <td>0.000</td>  <td>0.659</td>  <td>1.341</td>\n",
       "</tr>\n",
       "<tr>\n",
       "  <th>drug[T.EMD_10]</th>                      <td>-0.252</td>   <td>0.094</td>  <td>-2.670</td> <td>0.008</td> <td>-0.437</td> <td>-0.067</td>\n",
       "</tr>\n",
       "<tr>\n",
       "  <th>drug[T.EMD_25]</th>                      <td>-0.547</td>   <td>0.079</td>  <td>-6.942</td> <td>0.000</td> <td>-0.702</td> <td>-0.393</td>\n",
       "</tr>\n",
       "<tr>\n",
       "  <th>drug[T.EMD_50]</th>                      <td>-0.914</td>   <td>0.149</td>  <td>-6.117</td> <td>0.000</td> <td>-1.206</td> <td>-0.621</td>\n",
       "</tr>\n",
       "<tr>\n",
       "  <th>patient Var</th>                          <td>0.115</td>   <td>1.223</td>     <td></td>      <td></td>       <td></td>       <td></td>   \n",
       "</tr>\n",
       "<tr>\n",
       "  <th>patient x drug[T.EMD_10] Cov</th>        <td>-0.037</td>   <td>0.423</td>     <td></td>      <td></td>       <td></td>       <td></td>   \n",
       "</tr>\n",
       "<tr>\n",
       "  <th>drug[T.EMD_10] Var</th>                   <td>0.023</td>   <td>0.269</td>     <td></td>      <td></td>       <td></td>       <td></td>   \n",
       "</tr>\n",
       "<tr>\n",
       "  <th>patient x drug[T.EMD_25] Cov</th>        <td>-0.021</td>   <td>0.467</td>     <td></td>      <td></td>       <td></td>       <td></td>   \n",
       "</tr>\n",
       "<tr>\n",
       "  <th>drug[T.EMD_10] x drug[T.EMD_25] Cov</th>  <td>0.010</td>   <td>0.187</td>     <td></td>      <td></td>       <td></td>       <td></td>   \n",
       "</tr>\n",
       "<tr>\n",
       "  <th>drug[T.EMD_25] Var</th>                   <td>0.012</td>     <td></td>        <td></td>      <td></td>       <td></td>       <td></td>   \n",
       "</tr>\n",
       "<tr>\n",
       "  <th>patient x drug[T.EMD_50] Cov</th>        <td>-0.089</td>   <td>0.960</td>     <td></td>      <td></td>       <td></td>       <td></td>   \n",
       "</tr>\n",
       "<tr>\n",
       "  <th>drug[T.EMD_10] x drug[T.EMD_50] Cov</th>  <td>0.029</td>   <td>0.349</td>     <td></td>      <td></td>       <td></td>       <td></td>   \n",
       "</tr>\n",
       "<tr>\n",
       "  <th>drug[T.EMD_25] x drug[T.EMD_50] Cov</th>  <td>0.018</td>   <td>0.385</td>     <td></td>      <td></td>       <td></td>       <td></td>   \n",
       "</tr>\n",
       "<tr>\n",
       "  <th>drug[T.EMD_50] Var</th>                   <td>0.077</td>   <td>0.930</td>     <td></td>      <td></td>       <td></td>       <td></td>   \n",
       "</tr>\n",
       "</table>"
      ],
      "text/plain": [
       "<class 'statsmodels.iolib.summary2.Summary'>\n",
       "\"\"\"\n",
       "                    Mixed Linear Model Regression Results\n",
       "==============================================================================\n",
       "Model:                    MixedLM        Dependent Variable:        Normalized\n",
       "No. Observations:         16             Method:                    REML      \n",
       "No. Groups:               4              Scale:                     0.0062    \n",
       "Min. group size:          4              Log-Likelihood:            1.7599    \n",
       "Max. group size:          4              Converged:                 No        \n",
       "Mean group size:          4.0                                                 \n",
       "------------------------------------------------------------------------------\n",
       "                                    Coef.  Std.Err.   z    P>|z| [0.025 0.975]\n",
       "------------------------------------------------------------------------------\n",
       "Intercept                            1.000    0.174  5.743 0.000  0.659  1.341\n",
       "drug[T.EMD_10]                      -0.252    0.094 -2.670 0.008 -0.437 -0.067\n",
       "drug[T.EMD_25]                      -0.547    0.079 -6.942 0.000 -0.702 -0.393\n",
       "drug[T.EMD_50]                      -0.914    0.149 -6.117 0.000 -1.206 -0.621\n",
       "patient Var                          0.115    1.223                           \n",
       "patient x drug[T.EMD_10] Cov        -0.037    0.423                           \n",
       "drug[T.EMD_10] Var                   0.023    0.269                           \n",
       "patient x drug[T.EMD_25] Cov        -0.021    0.467                           \n",
       "drug[T.EMD_10] x drug[T.EMD_25] Cov  0.010    0.187                           \n",
       "drug[T.EMD_25] Var                   0.012                                    \n",
       "patient x drug[T.EMD_50] Cov        -0.089    0.960                           \n",
       "drug[T.EMD_10] x drug[T.EMD_50] Cov  0.029    0.349                           \n",
       "drug[T.EMD_25] x drug[T.EMD_50] Cov  0.018    0.385                           \n",
       "drug[T.EMD_50] Var                   0.077    0.930                           \n",
       "==============================================================================\n",
       "\n",
       "\"\"\""
      ]
     },
     "execution_count": 10,
     "metadata": {},
     "output_type": "execute_result"
    }
   ],
   "source": [
    "import statsmodels.api as sm\n",
    "import statsmodels.formula.api as smf\n",
    "\n",
    "#fit the model\n",
    "mixed = smf.mixedlm(\"Normalized ~ drug\", df_GFP, groups='patient',re_formula=\"~drug\") #\n",
    "mixed_fit = mixed.fit()\n",
    "#print the summary\n",
    "# print(mixed_fit.summary())\n",
    "print('the residual probably Gaussian distribution if P is large:',stats.shapiro(mixed_fit.resid)[1])\n",
    "print('\\np value:',mixed_fit.pvalues)\n",
    "mixed_fit.summary()"
   ]
  },
  {
   "cell_type": "code",
   "execution_count": 11,
   "metadata": {},
   "outputs": [],
   "source": [
    "# TCB_1, beta coef: 0.959, 95%CI[0.564,1.355],p = 1.98E-6"
   ]
  },
  {
   "cell_type": "code",
   "execution_count": 12,
   "metadata": {},
   "outputs": [
    {
     "data": {
      "text/html": [
       "<div>\n",
       "<style scoped>\n",
       "    .dataframe tbody tr th:only-of-type {\n",
       "        vertical-align: middle;\n",
       "    }\n",
       "\n",
       "    .dataframe tbody tr th {\n",
       "        vertical-align: top;\n",
       "    }\n",
       "\n",
       "    .dataframe thead th {\n",
       "        text-align: right;\n",
       "    }\n",
       "</style>\n",
       "<table border=\"1\" class=\"dataframe\">\n",
       "  <thead>\n",
       "    <tr style=\"text-align: right;\">\n",
       "      <th></th>\n",
       "      <th>patient</th>\n",
       "      <th>drug</th>\n",
       "      <th>Normalized</th>\n",
       "    </tr>\n",
       "  </thead>\n",
       "  <tbody>\n",
       "    <tr>\n",
       "      <th>0</th>\n",
       "      <td>p1</td>\n",
       "      <td>Control</td>\n",
       "      <td>0.711548</td>\n",
       "    </tr>\n",
       "    <tr>\n",
       "      <th>1</th>\n",
       "      <td>p1</td>\n",
       "      <td>EMD_10</td>\n",
       "      <td>0.780589</td>\n",
       "    </tr>\n",
       "    <tr>\n",
       "      <th>2</th>\n",
       "      <td>p1</td>\n",
       "      <td>EMD_25</td>\n",
       "      <td>0.241017</td>\n",
       "    </tr>\n",
       "    <tr>\n",
       "      <th>3</th>\n",
       "      <td>p1</td>\n",
       "      <td>EMD_50</td>\n",
       "      <td>0.038849</td>\n",
       "    </tr>\n",
       "    <tr>\n",
       "      <th>4</th>\n",
       "      <td>p2</td>\n",
       "      <td>Control</td>\n",
       "      <td>0.557485</td>\n",
       "    </tr>\n",
       "  </tbody>\n",
       "</table>\n",
       "</div>"
      ],
      "text/plain": [
       "  patient     drug  Normalized\n",
       "0      p1  Control    0.711548\n",
       "1      p1   EMD_10    0.780589\n",
       "2      p1   EMD_25    0.241017\n",
       "3      p1   EMD_50    0.038849\n",
       "4      p2  Control    0.557485"
      ]
     },
     "execution_count": 12,
     "metadata": {},
     "output_type": "execute_result"
    }
   ],
   "source": [
    "#import the data\n",
    "df_GFP = pd.read_csv('1EMD_normalized_ratio.csv')\n",
    "# df_GFP['drug_scaled'] = preprocessing.scale(df_GFP.drug.values)\n",
    "# df['drug']=df['drug'].astype(str)\n",
    "# df['patient']=df['patient'].astype(str)\n",
    "df_GFP.head()"
   ]
  },
  {
   "cell_type": "code",
   "execution_count": 13,
   "metadata": {},
   "outputs": [],
   "source": [
    "from statsmodels.formula.api import ols\n",
    "\n",
    "# res = ols(\"np.log(Days+1) ~ C(Weight) + C(Duration)\", data).fit()\n",
    "res = ols(\"Normalized ~ drug\", df_GFP).fit()\n",
    "pw = res.t_test_pairwise(\"drug\")\n",
    "# pw.result_frame.head()"
   ]
  },
  {
   "cell_type": "code",
   "execution_count": 14,
   "metadata": {},
   "outputs": [
    {
     "name": "stdout",
     "output_type": "stream",
     "text": [
      "Index(['EMD_10-Control', 'EMD_25-Control', 'EMD_50-Control'], dtype='object')\n"
     ]
    },
    {
     "data": {
      "text/plain": [
       "(array([False, False,  True]),\n",
       " array([0.62174967, 0.08521784, 0.00417128]),\n",
       " 0.016952427508441503,\n",
       " 0.016666666666666666)"
      ]
     },
     "execution_count": 14,
     "metadata": {},
     "output_type": "execute_result"
    }
   ],
   "source": [
    "#ccorretion for control 1\n",
    "from statsmodels.stats.multitest import multipletests\n",
    "pvals = pw.result_frame['P>|t|'].values[0:3]\n",
    "print(pw.result_frame['P>|t|'].index[0:3])\n",
    "multipletests(pvals, alpha=0.05, method='sidak', is_sorted=False, returnsorted=False)#holm-sidak"
   ]
  },
  {
   "cell_type": "code",
   "execution_count": 34,
   "metadata": {},
   "outputs": [
    {
     "data": {
      "image/png": "[encoded data removed]",
      "text/plain": [
       "<Figure size 594x360 with 1 Axes>"
      ]
     },
     "metadata": {},
     "output_type": "display_data"
    }
   ],
   "source": [
    "#plotting the figure\n",
    "import pandas as pd\n",
    "import numpy as np\n",
    "import matplotlib.pyplot as plt\n",
    "import seaborn as sns\n",
    "df = pd.read_csv('1EMD_normalized_ratio.csv')#,index_col=0\n",
    "df.head(1)\n",
    "\n",
    "#convert a column number to str\n",
    "# df1['is_promoted'] = df1.is_promoted.astype(str)\n",
    "# df1['is_promoted'] = df1['is_promoted'].apply(str)\n",
    "\n",
    "# df['drug']=df['drug'].apply(str)\n",
    "\n",
    "# sns.set(font_scale=2)\n",
    "sns.set_style(\"white\",{'ytick.left':True,'xtick.bottom': True})\n",
    "sns.set_context(\"poster\") #paper, notebook, talk, and poster\n",
    "\n",
    "\n",
    "g=sns.catplot(data=df,x='drug',y='Normalized',kind='box',height=5,aspect=1.65); #height=5,aspect=2\n",
    "g=sns.lineplot(data=df, x='drug',y='Normalized',color = 'grey',style = 'patient',sort=False,legend=False,markers=True, dashes=True,)#hue='patient',sizes=1,\n",
    "# g=sns.swarmplot(data=df,x='drug',y='Normalized',linewidth=1,color='white',edgecolor='black',size=7)\n",
    "g.set(ylim=[0,1.5],xlabel='',ylabel='Normalized synaptic modules')\n",
    "# plt.yscale(\"log\")\n",
    "plt.savefig(\"EMD.dosage11052020dpi110.png\",dpi=110,bbox_inches='tight',transparent=True)"
   ]
  }
 ],
 "metadata": {
  "kernelspec": {
   "display_name": "Python 3",
   "language": "python",
   "name": "python3"
  },
  "language_info": {
   "codemirror_mode": {
    "name": "ipython",
    "version": 3
   },
   "file_extension": ".py",
   "mimetype": "text/x-python",
   "name": "python",
   "nbconvert_exporter": "python",
   "pygments_lexer": "ipython3",
   "version": "3.8.3"
  }
 },
 "nbformat": 4,
 "nbformat_minor": 2
}
