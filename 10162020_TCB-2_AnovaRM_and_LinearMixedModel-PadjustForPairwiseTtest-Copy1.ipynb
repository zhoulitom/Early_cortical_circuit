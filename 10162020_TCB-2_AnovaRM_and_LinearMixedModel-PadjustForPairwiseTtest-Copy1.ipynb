{
 "cells": [
  {
   "cell_type": "code",
   "execution_count": 1,
   "metadata": {},
   "outputs": [],
   "source": [
    "# Citation of the following great resource\n",
    "# https://www.statology.org/repeated-measures-anova-python/\n",
    "# https://jbhender.github.io/Stats506/F18/GP/Group16.html\n",
    "# https://www.statsmodels.org/devel/mixed_linear.html\n",
    "# Author: Li Zhou, 09242020"
   ]
  },
  {
   "cell_type": "code",
   "execution_count": 2,
   "metadata": {},
   "outputs": [],
   "source": [
    "#quick summary:\n",
    "#For AnovaRM interpretations:\n",
    "# the pharmacology affected GFP signal, lead to statistically significant differences in dosages (F(3, 9) = 15.5122, p = 0.0007)\n",
    "# the pharmacology did not significant  affected mcherry signal in dosages (F(3, 9) = 0.4240, p = 0.7405)\n",
    "\n",
    "#For Linear Mixed models interpretations:\n",
    "#GFP beta coef: -2.01, 95%CI[-2.95,-1.07]\n",
    "#mcherry beta coef: 0.08, 95%CI[-1.43, 1.59]\n",
    "\n",
    "\n",
    "#TCB\n",
    "# drug[T.TCB_1]                             2.204665e-05\n",
    "#               Coef.\tStd.Err.\tz\tP>|z|\t[0.025\t0.975]\n",
    "# drug[T.TCB_1]\t0.959\t0.226\t4.243\t0.000\t0.516\t1.403\n",
    "# beta coef: 0.95, 95%CI[0.52,1.40], p = 2.20E-5"
   ]
  },
  {
   "cell_type": "code",
   "execution_count": 3,
   "metadata": {},
   "outputs": [
    {
     "name": "stdout",
     "output_type": "stream",
     "text": [
      "python version: 3.8.3 | packaged by conda-forge | (default, Jun  1 2020, 16:59:10) [MSC v.1916 64 bit (AMD64)]\n",
      "pandas version: 1.0.5\n",
      "numpy version: 1.18.5\n",
      "statsmodels: 0.11.1\n",
      "sklearn: 0.23.1\n",
      "scipy: 1.3.2\n"
     ]
    }
   ],
   "source": [
    "import numpy as np\n",
    "import pandas as pd\n",
    "import sys\n",
    "import statsmodels\n",
    "import sklearn\n",
    "import scipy\n",
    "print('python version:',sys.version)\n",
    "print(\"pandas version:\",pd.__version__)\n",
    "print(\"numpy version:\",np.__version__)\n",
    "print('statsmodels:',statsmodels.__version__)\n",
    "print('sklearn:',sklearn.__version__)\n",
    "print('scipy:',scipy.__version__)\n",
    "# python version: 3.8.3 | packaged by conda-forge | (default, Jun  1 2020, 16:59:10) [MSC v.1916 64 bit (AMD64)]\n",
    "# pandas version: 1.0.5\n",
    "# numpy version: 1.18.5\n",
    "# statsmodels: 0.11.1\n",
    "# sklearn: 0.23.1\n",
    "# scipy: 1.3.2"
   ]
  },
  {
   "cell_type": "code",
   "execution_count": 4,
   "metadata": {},
   "outputs": [],
   "source": [
    "from sklearn import preprocessing"
   ]
  },
  {
   "cell_type": "code",
   "execution_count": 5,
   "metadata": {
    "scrolled": true
   },
   "outputs": [
    {
     "data": {
      "text/html": [
       "<div>\n",
       "<style scoped>\n",
       "    .dataframe tbody tr th:only-of-type {\n",
       "        vertical-align: middle;\n",
       "    }\n",
       "\n",
       "    .dataframe tbody tr th {\n",
       "        vertical-align: top;\n",
       "    }\n",
       "\n",
       "    .dataframe thead th {\n",
       "        text-align: right;\n",
       "    }\n",
       "</style>\n",
       "<table border=\"1\" class=\"dataframe\">\n",
       "  <thead>\n",
       "    <tr style=\"text-align: right;\">\n",
       "      <th></th>\n",
       "      <th>patient</th>\n",
       "      <th>drug</th>\n",
       "      <th>response</th>\n",
       "    </tr>\n",
       "  </thead>\n",
       "  <tbody>\n",
       "    <tr>\n",
       "      <th>0</th>\n",
       "      <td>311GW22</td>\n",
       "      <td>Control1</td>\n",
       "      <td>0.803689</td>\n",
       "    </tr>\n",
       "    <tr>\n",
       "      <th>1</th>\n",
       "      <td>311GW22</td>\n",
       "      <td>Control2</td>\n",
       "      <td>1.196311</td>\n",
       "    </tr>\n",
       "    <tr>\n",
       "      <th>2</th>\n",
       "      <td>311GW22</td>\n",
       "      <td>TCB_0.1</td>\n",
       "      <td>1.482685</td>\n",
       "    </tr>\n",
       "    <tr>\n",
       "      <th>3</th>\n",
       "      <td>311GW22</td>\n",
       "      <td>TCB_1</td>\n",
       "      <td>2.254695</td>\n",
       "    </tr>\n",
       "    <tr>\n",
       "      <th>4</th>\n",
       "      <td>311GW22</td>\n",
       "      <td>TCB_10</td>\n",
       "      <td>1.454476</td>\n",
       "    </tr>\n",
       "  </tbody>\n",
       "</table>\n",
       "</div>"
      ],
      "text/plain": [
       "   patient      drug  response\n",
       "0  311GW22  Control1  0.803689\n",
       "1  311GW22  Control2  1.196311\n",
       "2  311GW22   TCB_0.1  1.482685\n",
       "3  311GW22     TCB_1  2.254695\n",
       "4  311GW22    TCB_10  1.454476"
      ]
     },
     "execution_count": 5,
     "metadata": {},
     "output_type": "execute_result"
    }
   ],
   "source": [
    "#import the data\n",
    "df_GFP = pd.read_csv('1stats_norm_TCB2_rabies_pharmacology_03_27_2020.csv')\n",
    "# df_GFP['drug_scaled'] = preprocessing.scale(df_GFP.drug.values)\n",
    "\n",
    "df_GFP.head()"
   ]
  },
  {
   "cell_type": "code",
   "execution_count": 6,
   "metadata": {},
   "outputs": [
    {
     "name": "stdout",
     "output_type": "stream",
     "text": [
      "p = 0.257232\n",
      "The null hypothesis cannot be rejected\n",
      "Probably Gaussian or normal distribution\n"
     ]
    }
   ],
   "source": [
    "# Test if the sample differs from a normal distribution / Gaussian.\n",
    "from scipy import stats\n",
    "x = df_GFP['response']\n",
    "k2, p = stats.normaltest(x)\n",
    "alpha = 0.05\n",
    "print(\"p = {:g}\".format(p))\n",
    "\n",
    "if p < alpha:  # null hypothesis: samples comes from a normal distribution /Gaussian. \n",
    "    print(\"The null hypothesis can be rejected\")\n",
    "    print('Probably NOT Gaussian')\n",
    "else:\n",
    "    print(\"The null hypothesis cannot be rejected\")\n",
    "    print('Probably Gaussian or normal distribution')"
   ]
  },
  {
   "cell_type": "code",
   "execution_count": 7,
   "metadata": {},
   "outputs": [],
   "source": [
    "#perform the repeated measures ANOVA"
   ]
  },
  {
   "cell_type": "code",
   "execution_count": 8,
   "metadata": {},
   "outputs": [
    {
     "name": "stdout",
     "output_type": "stream",
     "text": [
      "For GFP:\n",
      "              Anova\n",
      "==================================\n",
      "     F Value Num DF  Den DF Pr > F\n",
      "----------------------------------\n",
      "drug  3.8915 4.0000 12.0000 0.0299\n",
      "==================================\n",
      "\n",
      "_*_*_*_*_*_*_*_*_*_*_*_*_*_*_*_*_*_*_*_*\n",
      "_*_*_*_*_*_*_*_*_*_*_*_*_*_*_*_*_*_*_*_*\n"
     ]
    }
   ],
   "source": [
    "from statsmodels.stats.anova import AnovaRM\n",
    "#perform the repeated measures ANOVA\n",
    "print('For GFP:')\n",
    "print(AnovaRM(data=df_GFP, depvar='response',aggregate_func='mean', subject='patient', within=['drug']).fit())\n",
    "print('_*'*20)\n",
    "print('_*'*20)\n"
   ]
  },
  {
   "cell_type": "code",
   "execution_count": 9,
   "metadata": {},
   "outputs": [],
   "source": [
    "# Linear Mixed Effects Models in R and Python\n"
   ]
  },
  {
   "cell_type": "code",
   "execution_count": 10,
   "metadata": {},
   "outputs": [
    {
     "name": "stderr",
     "output_type": "stream",
     "text": [
      "C:\\Users\\zhouli\\Anaconda3\\envs\\scanpy_sfn-workshop\\lib\\site-packages\\statsmodels\\base\\model.py:567: ConvergenceWarning: Maximum Likelihood optimization failed to converge. Check mle_retvals\n",
      "  warn(\"Maximum Likelihood optimization failed to converge. \"\n",
      "C:\\Users\\zhouli\\Anaconda3\\envs\\scanpy_sfn-workshop\\lib\\site-packages\\statsmodels\\regression\\mixed_linear_model.py:2112: ConvergenceWarning: Retrying MixedLM optimization with lbfgs\n",
      "  warnings.warn(\n",
      "C:\\Users\\zhouli\\Anaconda3\\envs\\scanpy_sfn-workshop\\lib\\site-packages\\statsmodels\\base\\model.py:567: ConvergenceWarning: Maximum Likelihood optimization failed to converge. Check mle_retvals\n",
      "  warn(\"Maximum Likelihood optimization failed to converge. \"\n",
      "C:\\Users\\zhouli\\Anaconda3\\envs\\scanpy_sfn-workshop\\lib\\site-packages\\statsmodels\\regression\\mixed_linear_model.py:2112: ConvergenceWarning: Retrying MixedLM optimization with cg\n",
      "  warnings.warn(\n"
     ]
    },
    {
     "name": "stdout",
     "output_type": "stream",
     "text": [
      "the residual probably Gaussian distribution if P is large: 0.7442741990089417\n",
      "\n",
      "p value: Intercept                                 1.395366e-12\n",
      "drug[T.Control2]                          1.653478e-01\n",
      "drug[T.TCB_0.1]                           2.806874e-02\n",
      "drug[T.TCB_1]                             2.204665e-05\n",
      "drug[T.TCB_10]                            3.700372e-01\n",
      "patient Var                                        NaN\n",
      "patient x drug[T.Control2] Cov            7.189122e-01\n",
      "drug[T.Control2] Var                      9.095275e-01\n",
      "patient x drug[T.TCB_0.1] Cov                      NaN\n",
      "drug[T.Control2] x drug[T.TCB_0.1] Cov    7.340138e-01\n",
      "drug[T.TCB_0.1] Var                       4.185488e-01\n",
      "patient x drug[T.TCB_1] Cov                        NaN\n",
      "drug[T.Control2] x drug[T.TCB_1] Cov      9.512588e-01\n",
      "drug[T.TCB_0.1] x drug[T.TCB_1] Cov       6.630121e-01\n",
      "drug[T.TCB_1] Var                         8.034435e-01\n",
      "patient x drug[T.TCB_10] Cov              8.662040e-01\n",
      "drug[T.Control2] x drug[T.TCB_10] Cov     9.189959e-01\n",
      "drug[T.TCB_0.1] x drug[T.TCB_10] Cov      7.142452e-01\n",
      "drug[T.TCB_1] x drug[T.TCB_10] Cov        5.974032e-01\n",
      "drug[T.TCB_10] Var                        5.926047e-01\n",
      "dtype: float64\n"
     ]
    },
    {
     "name": "stderr",
     "output_type": "stream",
     "text": [
      "C:\\Users\\zhouli\\Anaconda3\\envs\\scanpy_sfn-workshop\\lib\\site-packages\\statsmodels\\base\\model.py:567: ConvergenceWarning: Maximum Likelihood optimization failed to converge. Check mle_retvals\n",
      "  warn(\"Maximum Likelihood optimization failed to converge. \"\n",
      "C:\\Users\\zhouli\\Anaconda3\\envs\\scanpy_sfn-workshop\\lib\\site-packages\\statsmodels\\regression\\mixed_linear_model.py:2118: ConvergenceWarning: MixedLM optimization failed, trying a different optimizer may help.\n",
      "  warnings.warn(msg, ConvergenceWarning)\n",
      "C:\\Users\\zhouli\\Anaconda3\\envs\\scanpy_sfn-workshop\\lib\\site-packages\\statsmodels\\regression\\mixed_linear_model.py:2130: ConvergenceWarning: Gradient optimization failed, |grad| = 2.711038\n",
      "  warnings.warn(msg, ConvergenceWarning)\n",
      "C:\\Users\\zhouli\\Anaconda3\\envs\\scanpy_sfn-workshop\\lib\\site-packages\\statsmodels\\regression\\mixed_linear_model.py:2149: ConvergenceWarning: The MLE may be on the boundary of the parameter space.\n",
      "  warnings.warn(msg, ConvergenceWarning)\n",
      "C:\\Users\\zhouli\\Anaconda3\\envs\\scanpy_sfn-workshop\\lib\\site-packages\\statsmodels\\regression\\mixed_linear_model.py:2170: ConvergenceWarning: The Hessian matrix at the estimated parameter values is not positive definite.\n",
      "  warnings.warn(msg, ConvergenceWarning)\n",
      "C:\\Users\\zhouli\\Anaconda3\\envs\\scanpy_sfn-workshop\\lib\\site-packages\\statsmodels\\base\\model.py:1354: RuntimeWarning: invalid value encountered in sqrt\n",
      "  bse_ = np.sqrt(np.diag(self.cov_params()))\n",
      "C:\\Users\\zhouli\\Anaconda3\\envs\\scanpy_sfn-workshop\\lib\\site-packages\\scipy\\stats\\_distn_infrastructure.py:901: RuntimeWarning: invalid value encountered in greater\n",
      "  return (a < x) & (x < b)\n",
      "C:\\Users\\zhouli\\Anaconda3\\envs\\scanpy_sfn-workshop\\lib\\site-packages\\scipy\\stats\\_distn_infrastructure.py:901: RuntimeWarning: invalid value encountered in less\n",
      "  return (a < x) & (x < b)\n",
      "C:\\Users\\zhouli\\Anaconda3\\envs\\scanpy_sfn-workshop\\lib\\site-packages\\scipy\\stats\\_distn_infrastructure.py:1892: RuntimeWarning: invalid value encountered in less_equal\n",
      "  cond2 = cond0 & (x <= _a)\n"
     ]
    },
    {
     "data": {
      "text/html": [
       "<table class=\"simpletable\">\n",
       "<tr>\n",
       "       <td>Model:</td>       <td>MixedLM</td> <td>Dependent Variable:</td> <td>response</td>\n",
       "</tr>\n",
       "<tr>\n",
       "  <td>No. Observations:</td>   <td>20</td>          <td>Method:</td>         <td>REML</td>  \n",
       "</tr>\n",
       "<tr>\n",
       "     <td>No. Groups:</td>       <td>4</td>          <td>Scale:</td>         <td>0.0415</td> \n",
       "</tr>\n",
       "<tr>\n",
       "  <td>Min. group size:</td>     <td>5</td>      <td>Log-Likelihood:</td>    <td>-8.6037</td>\n",
       "</tr>\n",
       "<tr>\n",
       "  <td>Max. group size:</td>     <td>5</td>        <td>Converged:</td>         <td>No</td>   \n",
       "</tr>\n",
       "<tr>\n",
       "  <td>Mean group size:</td>    <td>5.0</td>            <td></td>               <td></td>    \n",
       "</tr>\n",
       "</table>\n",
       "<table class=\"simpletable\">\n",
       "<tr>\n",
       "                     <td></td>                     <th>Coef.</th> <th>Std.Err.</th>   <th>z</th>   <th>P>|z|</th> <th>[0.025</th> <th>0.975]</th>\n",
       "</tr>\n",
       "<tr>\n",
       "  <th>Intercept</th>                               <td>0.895</td>   <td>0.126</td>  <td>7.085</td> <td>0.000</td>  <td>0.647</td>  <td>1.143</td>\n",
       "</tr>\n",
       "<tr>\n",
       "  <th>drug[T.Control2]</th>                        <td>0.210</td>   <td>0.151</td>  <td>1.387</td> <td>0.165</td> <td>-0.087</td>  <td>0.506</td>\n",
       "</tr>\n",
       "<tr>\n",
       "  <th>drug[T.TCB_0.1]</th>                         <td>0.698</td>   <td>0.318</td>  <td>2.196</td> <td>0.028</td>  <td>0.075</td>  <td>1.321</td>\n",
       "</tr>\n",
       "<tr>\n",
       "  <th>drug[T.TCB_1]</th>                           <td>0.959</td>   <td>0.226</td>  <td>4.243</td> <td>0.000</td>  <td>0.516</td>  <td>1.403</td>\n",
       "</tr>\n",
       "<tr>\n",
       "  <th>drug[T.TCB_10]</th>                          <td>0.168</td>   <td>0.187</td>  <td>0.896</td> <td>0.370</td> <td>-0.199</td>  <td>0.534</td>\n",
       "</tr>\n",
       "<tr>\n",
       "  <th>patient Var</th>                             <td>0.022</td>     <td></td>       <td></td>      <td></td>       <td></td>       <td></td>   \n",
       "</tr>\n",
       "<tr>\n",
       "  <th>patient x drug[T.Control2] Cov</th>          <td>0.013</td>   <td>0.172</td>    <td></td>      <td></td>       <td></td>       <td></td>   \n",
       "</tr>\n",
       "<tr>\n",
       "  <th>drug[T.Control2] Var</th>                    <td>0.008</td>   <td>0.365</td>    <td></td>      <td></td>       <td></td>       <td></td>   \n",
       "</tr>\n",
       "<tr>\n",
       "  <th>patient x drug[T.TCB_0.1] Cov</th>           <td>0.001</td>     <td></td>       <td></td>      <td></td>       <td></td>       <td></td>   \n",
       "</tr>\n",
       "<tr>\n",
       "  <th>drug[T.Control2] x drug[T.TCB_0.1] Cov</th>  <td>0.006</td>   <td>0.082</td>    <td></td>      <td></td>       <td></td>       <td></td>   \n",
       "</tr>\n",
       "<tr>\n",
       "  <th>drug[T.TCB_0.1] Var</th>                     <td>0.321</td>   <td>1.949</td>    <td></td>      <td></td>       <td></td>       <td></td>   \n",
       "</tr>\n",
       "<tr>\n",
       "  <th>patient x drug[T.TCB_1] Cov</th>             <td>0.013</td>     <td></td>       <td></td>      <td></td>       <td></td>       <td></td>   \n",
       "</tr>\n",
       "<tr>\n",
       "  <th>drug[T.Control2] x drug[T.TCB_1] Cov</th>    <td>0.008</td>   <td>0.626</td>    <td></td>      <td></td>       <td></td>       <td></td>   \n",
       "</tr>\n",
       "<tr>\n",
       "  <th>drug[T.TCB_0.1] x drug[T.TCB_1] Cov</th>    <td>-0.151</td>   <td>1.703</td>    <td></td>      <td></td>       <td></td>       <td></td>   \n",
       "</tr>\n",
       "<tr>\n",
       "  <th>drug[T.TCB_1] Var</th>                       <td>0.121</td>   <td>2.395</td>    <td></td>      <td></td>       <td></td>       <td></td>   \n",
       "</tr>\n",
       "<tr>\n",
       "  <th>patient x drug[T.TCB_10] Cov</th>           <td>-0.007</td>   <td>0.204</td>    <td></td>      <td></td>       <td></td>       <td></td>   \n",
       "</tr>\n",
       "<tr>\n",
       "  <th>drug[T.Control2] x drug[T.TCB_10] Cov</th>  <td>-0.005</td>   <td>0.236</td>    <td></td>      <td></td>       <td></td>       <td></td>   \n",
       "</tr>\n",
       "<tr>\n",
       "  <th>drug[T.TCB_0.1] x drug[T.TCB_10] Cov</th>    <td>0.033</td>   <td>0.447</td>    <td></td>      <td></td>       <td></td>       <td></td>   \n",
       "</tr>\n",
       "<tr>\n",
       "  <th>drug[T.TCB_1] x drug[T.TCB_10] Cov</th>     <td>-0.017</td>   <td>0.159</td>    <td></td>      <td></td>       <td></td>       <td></td>   \n",
       "</tr>\n",
       "<tr>\n",
       "  <th>drug[T.TCB_10] Var</th>                      <td>0.057</td>   <td>0.520</td>    <td></td>      <td></td>       <td></td>       <td></td>   \n",
       "</tr>\n",
       "</table>"
      ],
      "text/plain": [
       "<class 'statsmodels.iolib.summary2.Summary'>\n",
       "\"\"\"\n",
       "                     Mixed Linear Model Regression Results\n",
       "================================================================================\n",
       "Model:                      MixedLM         Dependent Variable:         response\n",
       "No. Observations:           20              Method:                     REML    \n",
       "No. Groups:                 4               Scale:                      0.0415  \n",
       "Min. group size:            5               Log-Likelihood:             -8.6037 \n",
       "Max. group size:            5               Converged:                  No      \n",
       "Mean group size:            5.0                                                 \n",
       "--------------------------------------------------------------------------------\n",
       "                                       Coef.  Std.Err.   z   P>|z| [0.025 0.975]\n",
       "--------------------------------------------------------------------------------\n",
       "Intercept                               0.895    0.126 7.085 0.000  0.647  1.143\n",
       "drug[T.Control2]                        0.210    0.151 1.387 0.165 -0.087  0.506\n",
       "drug[T.TCB_0.1]                         0.698    0.318 2.196 0.028  0.075  1.321\n",
       "drug[T.TCB_1]                           0.959    0.226 4.243 0.000  0.516  1.403\n",
       "drug[T.TCB_10]                          0.168    0.187 0.896 0.370 -0.199  0.534\n",
       "patient Var                             0.022                                   \n",
       "patient x drug[T.Control2] Cov          0.013    0.172                          \n",
       "drug[T.Control2] Var                    0.008    0.365                          \n",
       "patient x drug[T.TCB_0.1] Cov           0.001                                   \n",
       "drug[T.Control2] x drug[T.TCB_0.1] Cov  0.006    0.082                          \n",
       "drug[T.TCB_0.1] Var                     0.321    1.949                          \n",
       "patient x drug[T.TCB_1] Cov             0.013                                   \n",
       "drug[T.Control2] x drug[T.TCB_1] Cov    0.008    0.626                          \n",
       "drug[T.TCB_0.1] x drug[T.TCB_1] Cov    -0.151    1.703                          \n",
       "drug[T.TCB_1] Var                       0.121    2.395                          \n",
       "patient x drug[T.TCB_10] Cov           -0.007    0.204                          \n",
       "drug[T.Control2] x drug[T.TCB_10] Cov  -0.005    0.236                          \n",
       "drug[T.TCB_0.1] x drug[T.TCB_10] Cov    0.033    0.447                          \n",
       "drug[T.TCB_1] x drug[T.TCB_10] Cov     -0.017    0.159                          \n",
       "drug[T.TCB_10] Var                      0.057    0.520                          \n",
       "================================================================================\n",
       "\n",
       "\"\"\""
      ]
     },
     "execution_count": 10,
     "metadata": {},
     "output_type": "execute_result"
    }
   ],
   "source": [
    "import statsmodels.api as sm\n",
    "import statsmodels.formula.api as smf\n",
    "\n",
    "#fit the model\n",
    "mixed = smf.mixedlm(\"response ~ drug\", df_GFP, groups='patient',re_formula=\"~drug\") #\n",
    "mixed_fit = mixed.fit()\n",
    "#print the summary\n",
    "# print(mixed_fit.summary())\n",
    "print('the residual probably Gaussian distribution if P is large:',stats.shapiro(mixed_fit.resid)[1])\n",
    "print('\\np value:',mixed_fit.pvalues)\n",
    "mixed_fit.summary()"
   ]
  },
  {
   "cell_type": "code",
   "execution_count": null,
   "metadata": {},
   "outputs": [],
   "source": []
  },
  {
   "cell_type": "code",
   "execution_count": 11,
   "metadata": {},
   "outputs": [],
   "source": [
    "from statsmodels.formula.api import ols\n",
    "\n",
    "# res = ols(\"np.log(Days+1) ~ C(Weight) + C(Duration)\", data).fit()\n",
    "res = ols(\"response ~ drug\", df_GFP).fit()\n",
    "pw = res.t_test_pairwise(\"drug\")\n",
    "# pw.result_frame.head()"
   ]
  },
  {
   "cell_type": "code",
   "execution_count": null,
   "metadata": {},
   "outputs": [],
   "source": []
  },
  {
   "cell_type": "code",
   "execution_count": 12,
   "metadata": {},
   "outputs": [
    {
     "name": "stdout",
     "output_type": "stream",
     "text": [
      "Index(['Control2-Control1', 'TCB_0.1-Control1', 'TCB_1-Control1',\n",
      "       'TCB_10-Control1'],\n",
      "      dtype='object')\n"
     ]
    },
    {
     "data": {
      "text/plain": [
       "(array([False, False,  True, False]),\n",
       " array([0.91845616, 0.09601787, 0.01499498, 0.96212441]),\n",
       " 0.012741455098566168,\n",
       " 0.0125)"
      ]
     },
     "execution_count": 12,
     "metadata": {},
     "output_type": "execute_result"
    }
   ],
   "source": [
    "#ccorretion for control 1\n",
    "from statsmodels.stats.multitest import multipletests\n",
    "pvals = pw.result_frame['P>|t|'].values[0:4]\n",
    "print(pw.result_frame['P>|t|'].index[0:4])\n",
    "multipletests(pvals, alpha=0.05, method='sidak', is_sorted=False, returnsorted=False)#holm-sidak"
   ]
  },
  {
   "cell_type": "code",
   "execution_count": 28,
   "metadata": {},
   "outputs": [
    {
     "data": {
      "image/png": "[encoded data removed]",
      "text/plain": [
       "<Figure size 594x360 with 1 Axes>"
      ]
     },
     "metadata": {},
     "output_type": "display_data"
    }
   ],
   "source": [
    "#plotting the figure\n",
    "import pandas as pd\n",
    "import numpy as np\n",
    "import matplotlib.pyplot as plt\n",
    "import seaborn as sns\n",
    "df = pd.read_csv('1stats_norm_TCB2_rabies_pharmacology_03_27_2020.csv')#,index_col=0\n",
    "df.head(1)\n",
    "# sns.set(font_scale=2)\n",
    "sns.set_style(\"white\",{'ytick.left':True,'xtick.bottom': True})\n",
    "sns.set_context(\"poster\") #paper, notebook, talk, and poster\n",
    "g=sns.catplot(data=df,x='drug',y='response',kind='box',height=5,aspect=1.65);\n",
    "g=sns.lineplot(data=df, x='drug',y='response',\n",
    "               style = 'patient',sort=False,legend=False,markers=True, dashes=True,\n",
    "               color = 'grey',sizes=1)#hue='patient',\n",
    "# g=sns.swarmplot(data=df,x='drug',y='response',linewidth=1,color='white',edgecolor='black',size=7)\n",
    "g.set(ylim=[0,3],xlabel='',ylabel='Normalized synaptic modules')\n",
    "# plt.yscale(\"log\")\n",
    "plt.savefig(\"TCB2.dosage09242020dpi110.png\",dpi=110,bbox_inches='tight',transparent=True)"
   ]
  }
 ],
 "metadata": {
  "kernelspec": {
   "display_name": "Python 3",
   "language": "python",
   "name": "python3"
  },
  "language_info": {
   "codemirror_mode": {
    "name": "ipython",
    "version": 3
   },
   "file_extension": ".py",
   "mimetype": "text/x-python",
   "name": "python",
   "nbconvert_exporter": "python",
   "pygments_lexer": "ipython3",
   "version": "3.8.3"
  }
 },
 "nbformat": 4,
 "nbformat_minor": 2
}
