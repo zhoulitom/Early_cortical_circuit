{
 "cells": [
  {
   "cell_type": "code",
   "execution_count": null,
   "metadata": {},
   "outputs": [],
   "source": []
  },
  {
   "cell_type": "code",
   "execution_count": 2,
   "metadata": {},
   "outputs": [],
   "source": [
    "import matplotlib.pyplot as plt\n",
    "import numpy as np\n",
    "import pandas as pd\n",
    "import seaborn as sns\n",
    "from sklearn import preprocessing"
   ]
  },
  {
   "cell_type": "code",
   "execution_count": 3,
   "metadata": {},
   "outputs": [],
   "source": [
    "def _datacheck_peakdetect(x_axis, y_axis):\n",
    "    if x_axis is None:\n",
    "        x_axis = range(len(y_axis))\n",
    "    \n",
    "    if len(y_axis) != len(x_axis):\n",
    "        raise ValueError( \n",
    "                \"Input vectors y_axis and x_axis must have same length\")\n",
    "    \n",
    "    #needs to be a numpy array\n",
    "    y_axis = np.array(y_axis)\n",
    "    x_axis = np.array(x_axis)\n",
    "    return x_axis, y_axis"
   ]
  },
  {
   "cell_type": "code",
   "execution_count": 4,
   "metadata": {},
   "outputs": [],
   "source": [
    "def peakdetect(y_axis, x_axis = None, lookahead = 200, delta=0):\n",
    "    \"\"\"\n",
    "    Converted from/based on a MATLAB script at: \n",
    "    http://billauer.co.il/peakdet.html\n",
    "    ##note li zhou: also cite Converted from MATLAB script at http://billauer.co.il/peakdet.html\n",
    "    function for detecting local maxima and minima in a signal.\n",
    "    Discovers peaks by searching for values which are surrounded by lower\n",
    "    or larger values for maxima and minima respectively\n",
    "    \n",
    "    keyword arguments:\n",
    "    y_axis -- A list containing the signal over which to find peaks\n",
    "    \n",
    "    x_axis -- A x-axis whose values correspond to the y_axis list and is used\n",
    "        in the return to specify the position of the peaks. If omitted an\n",
    "        index of the y_axis is used.\n",
    "        (default: None)\n",
    "    \n",
    "    lookahead -- distance to look ahead from a peak candidate to determine if\n",
    "        it is the actual peak\n",
    "        (default: 200) \n",
    "        '(samples / period) / f' where '4 >= f >= 1.25' might be a good value\n",
    "    \n",
    "    delta -- this specifies a minimum difference between a peak and\n",
    "        the following points, before a peak may be considered a peak. Useful\n",
    "        to hinder the function from picking up false peaks towards to end of\n",
    "        the signal. To work well delta should be set to delta >= RMSnoise * 5.\n",
    "        (default: 0)\n",
    "            When omitted delta function causes a 20% decrease in speed.\n",
    "            When used Correctly it can double the speed of the function\n",
    "    \n",
    "    \n",
    "    return: two lists [max_peaks, min_peaks] containing the positive and\n",
    "        negative peaks respectively. Each cell of the lists contains a tuple\n",
    "        of: (position, peak_value) \n",
    "        to get the average peak value do: np.mean(max_peaks, 0)[1] on the\n",
    "        results to unpack one of the lists into x, y coordinates do: \n",
    "        x, y = zip(*max_peaks)\n",
    "    \"\"\"\n",
    "    max_peaks = []\n",
    "    min_peaks = []\n",
    "    dump = []   #Used to pop the first hit which almost always is false\n",
    "       \n",
    "    # check input data\n",
    "    x_axis, y_axis = _datacheck_peakdetect(x_axis, y_axis)\n",
    "    # store data length for later use\n",
    "    length = len(y_axis)\n",
    "    \n",
    "    \n",
    "    #perform some checks\n",
    "    if lookahead < 1:\n",
    "        raise ValueError(\"Lookahead must be '1' or above in value\")\n",
    "    if not (np.isscalar(delta) and delta >= 0):\n",
    "        raise ValueError(\"delta must be a positive number\")\n",
    "    \n",
    "    #maxima and minima candidates are temporarily stored in\n",
    "    #mx and mn respectively\n",
    "    mn, mx = np.Inf, -np.Inf\n",
    "    \n",
    "    #Only detect peak if there is 'lookahead' amount of points after it\n",
    "    for index, (x, y) in enumerate(zip(x_axis[:-lookahead], \n",
    "                                        y_axis[:-lookahead])):\n",
    "        if y > mx:\n",
    "            mx = y\n",
    "            mxpos = x\n",
    "        if y < mn:\n",
    "            mn = y\n",
    "            mnpos = x\n",
    "        \n",
    "        ####look for max####\n",
    "        if y < mx-delta and mx != np.Inf:\n",
    "            #Maxima peak candidate found\n",
    "            #look ahead in signal to ensure that this is a peak and not jitter\n",
    "            if y_axis[index:index+lookahead].max() < mx:\n",
    "                max_peaks.append([mxpos, mx])\n",
    "                dump.append(True)\n",
    "                #set algorithm to only find minima now\n",
    "                mx = np.Inf\n",
    "                mn = np.Inf\n",
    "                if index+lookahead >= length:\n",
    "                    #end is within lookahead no more peaks can be found\n",
    "                    break\n",
    "                continue\n",
    "            #else:  #slows shit down this does\n",
    "            #    mx = ahead\n",
    "            #    mxpos = x_axis[np.where(y_axis[index:index+lookahead]==mx)]\n",
    "        \n",
    "        ####look for min####\n",
    "        if y > mn+delta and mn != -np.Inf:\n",
    "            #Minima peak candidate found \n",
    "            #look ahead in signal to ensure that this is a peak and not jitter\n",
    "            if y_axis[index:index+lookahead].min() > mn:\n",
    "                min_peaks.append([mnpos, mn])\n",
    "                dump.append(False)\n",
    "                #set algorithm to only find maxima now\n",
    "                mn = -np.Inf\n",
    "                mx = -np.Inf\n",
    "                if index+lookahead >= length:\n",
    "                    #end is within lookahead no more peaks can be found\n",
    "                    break\n",
    "            #else:  #slows shit down this does\n",
    "            #    mn = ahead\n",
    "            #    mnpos = x_axis[np.where(y_axis[index:index+lookahead]==mn)]\n",
    "    \n",
    "    \n",
    "    #Remove the false hit on the first value of the y_axis\n",
    "    try:\n",
    "        if dump[0]:\n",
    "            max_peaks.pop(0)\n",
    "        else:\n",
    "            min_peaks.pop(0)\n",
    "        del dump\n",
    "    except IndexError:\n",
    "        #no peaks were found, should the function return empty lists?\n",
    "        pass\n",
    "        \n",
    "    return [max_peaks, min_peaks]"
   ]
  },
  {
   "cell_type": "code",
   "execution_count": null,
   "metadata": {
    "scrolled": true
   },
   "outputs": [],
   "source": []
  },
  {
   "cell_type": "code",
   "execution_count": 5,
   "metadata": {},
   "outputs": [
    {
     "data": {
      "image/png": "[encoded data removed]",
      "text/plain": [
       "<Figure size 576x432 with 1 Axes>"
      ]
     },
     "metadata": {
      "needs_background": "light"
     },
     "output_type": "display_data"
    }
   ],
   "source": [
    "# need to run the above def peakdet\n",
    "from matplotlib.pyplot import plot, scatter, show\n",
    "import matplotlib.pyplot as plt\n",
    "import numpy as np\n",
    "from numpy import array\n",
    "\n",
    "SelectCell = 2\n",
    "\n",
    "Cal_temp_C = np.load('Cal_temp_C.npy')\n",
    "idx_components = np.load('cnm.estimates.idx_components.npy')\n",
    "Cal_temp_C = Cal_temp_C[idx_components] #select good trace\n",
    "\n",
    "x = Cal_temp_C[:,:]#slicing the pharmacology time, sampling at 1 Hz. \n",
    "standardized_X = preprocessing.normalize(x,norm = \"l2\", axis=1) # row norm, 'L2' not '12'\n",
    "\n",
    "series = standardized_X[SelectCell,:]\n",
    "\n",
    "maxtab, mintab = peakdetect(y_axis=series, x_axis = None, lookahead = 5, delta=0.01)\n",
    "\n",
    "fig,ax = plt.subplots(figsize=(8,6))\n",
    "plot(series)\n",
    "# scatter(maxtab[:,0], maxtab[:,1], color='blue')\n",
    "# scatter(mintab[:,0], mintab[:,1], color='red')\n",
    "scatter(np.array(maxtab)[:,0], np.array(maxtab)[:,1], color='blue')\n",
    "scatter(np.array(mintab)[:,0], np.array(mintab)[:,1], color='red')\n",
    "# plt.savefig('peaktest.png',dpi=300)\n",
    "show()\n",
    "# anp=np.array(maxtab)  \n",
    "# anp"
   ]
  },
  {
   "cell_type": "code",
   "execution_count": 6,
   "metadata": {},
   "outputs": [],
   "source": [
    "def calcium_peaks(data):\n",
    "    ls = []\n",
    "    row,col = data.shape\n",
    "    for i in range(0,row):\n",
    "        row_data=data[i,:]\n",
    "        maxtab, mintab = peakdetect(y_axis=row_data, x_axis = None, lookahead = 1, delta=0.01)\n",
    "        ls.append(maxtab)\n",
    "\n",
    "    return ls"
   ]
  },
  {
   "cell_type": "code",
   "execution_count": 7,
   "metadata": {},
   "outputs": [
    {
     "name": "stdout",
     "output_type": "stream",
     "text": [
      "82\n"
     ]
    },
    {
     "data": {
      "text/plain": [
       "[[440, 0.1371277398759877],\n",
       " [447, 0.12473597856741288],\n",
       " [528, 0.04161717135765383],\n",
       " [568, 0.062038885768240855],\n",
       " [636, 0.03641695824088606],\n",
       " [768, 0.03626026982106845],\n",
       " [803, 0.030384586269562034]]"
      ]
     },
     "execution_count": 7,
     "metadata": {},
     "output_type": "execute_result"
    }
   ],
   "source": [
    "\n",
    "Cal_temp_C = np.load('Cal_temp_C.npy')\n",
    "idx_components = np.load('cnm.estimates.idx_components.npy')\n",
    "Cal_temp_C = Cal_temp_C[idx_components] #select good trace\n",
    "\n",
    "x = Cal_temp_C[:,:]#slicing the pharmacology time, sampling at 1 Hz. \n",
    "standardized_X = preprocessing.normalize(x,norm = \"l2\", axis=1) # row norm, 'L2' not '12'\n",
    "\n",
    "testdata = standardized_X\n",
    "testresult = calcium_peaks(testdata)\n",
    "    \n",
    "print(len(testresult))\n",
    "testresult[0]"
   ]
  },
  {
   "cell_type": "code",
   "execution_count": null,
   "metadata": {},
   "outputs": [],
   "source": []
  },
  {
   "cell_type": "code",
   "execution_count": 8,
   "metadata": {},
   "outputs": [
    {
     "name": "stdout",
     "output_type": "stream",
     "text": [
      "(82,)\n",
      "(80,)\n"
     ]
    }
   ],
   "source": [
    "peaks = np.array(testresult)\n",
    "print(peaks.shape)\n",
    "newpeaks = np.delete(peaks,[8,49])\n",
    "print(newpeaks.shape)\n",
    "np.save('031542020gw20(3.13)_fluo8_slice2_EventTimePoint',newpeaks)"
   ]
  },
  {
   "cell_type": "code",
   "execution_count": 9,
   "metadata": {},
   "outputs": [
    {
     "name": "stdout",
     "output_type": "stream",
     "text": [
      "(80,)\n",
      "<class 'list'>\n",
      "total events: 132\n",
      "total cells: 80\n",
      "average events per cell: 1.65\n"
     ]
    }
   ],
   "source": [
    "#summarize the calcium events in the first 300 s, record cell number, and total events\n",
    "\n",
    "newpeaks = np.load('031542020gw20(3.13)_fluo8_slice2_EventTimePoint.npy',allow_pickle=True)\n",
    "print(newpeaks.shape)\n",
    "print(type(newpeaks[0]))\n",
    "\n",
    "before = []\n",
    "after = []\n",
    "for x in range(0,len(newpeaks)):\n",
    "    i0_300 = 0\n",
    "    for i in testresult[x]:\n",
    "\n",
    "        if 0<i[0]<300:\n",
    "            i0_300 += 1\n",
    "    before.append(i0_300)\n",
    "\n",
    "print(\"total events:\",np.sum(before))\n",
    "print(\"total cells:\",len(before))\n",
    "print(\"average events per cell:\",np.mean(before))\n"
   ]
  },
  {
   "cell_type": "code",
   "execution_count": null,
   "metadata": {},
   "outputs": [],
   "source": []
  }
 ],
 "metadata": {
  "kernelspec": {
   "display_name": "Python 3",
   "language": "python",
   "name": "python3"
  },
  "language_info": {
   "codemirror_mode": {
    "name": "ipython",
    "version": 3
   },
   "file_extension": ".py",
   "mimetype": "text/x-python",
   "name": "python",
   "nbconvert_exporter": "python",
   "pygments_lexer": "ipython3",
   "version": "3.7.1"
  }
 },
 "nbformat": 4,
 "nbformat_minor": 2
}
